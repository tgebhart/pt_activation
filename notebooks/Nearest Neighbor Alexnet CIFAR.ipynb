{
 "cells": [
  {
   "cell_type": "markdown",
   "metadata": {},
   "source": [
    "- which subgraphs actually touch the final layer?\n",
    "- which subgraphs actually touch the final layer and contain the correct class as a node in the subgraph?\n",
    "- are nearest neighbors represented as nearest neighbors in graph space?\n",
    "- what are the nearest neighbors of the additional graph structure induced by the adversary?"
   ]
  },
  {
   "cell_type": "code",
   "execution_count": 1,
   "metadata": {},
   "outputs": [
    {
     "name": "stderr",
     "output_type": "stream",
     "text": [
      "/home/tgebhart/.local/lib/python3.6/site-packages/sklearn/externals/joblib/__init__.py:15: DeprecationWarning: sklearn.externals.joblib is deprecated in 0.21 and will be removed in 0.23. Please import this functionality directly from joblib, which can be installed with: pip install joblib. If this warning is raised when loading pickled models, you may need to re-serialize those models with scikit-learn 0.21+.\n",
      "  warnings.warn(msg, category=DeprecationWarning)\n"
     ]
    }
   ],
   "source": [
    "import os\n",
    "import parse\n",
    "import umap\n",
    "\n",
    "import torch\n",
    "import torch.nn.functional as F\n",
    "from torchvision import datasets, transforms\n",
    "import dionysus as dion\n",
    "import numpy as np\n",
    "from scipy.spatial.distance import hamming, cosine\n",
    "import pandas as pd\n",
    "import matplotlib.pyplot as plt\n",
    "import seaborn as sns\n",
    "import networkx as nx\n",
    "\n",
    "from sklearn.neighbors import NearestNeighbors\n",
    "\n",
    "from pt_activation.models.alexnet import AlexNet\n",
    "\n",
    "PERCENTILE = 99\n",
    "\n",
    "%load_ext autoreload\n",
    "%autoreload 2"
   ]
  },
  {
   "cell_type": "code",
   "execution_count": null,
   "metadata": {},
   "outputs": [],
   "source": [
    "def get_adv_info(filename):\n",
    "    format_string = 'true-{}_adv-{}_sample-{}.npy'\n",
    "    parsed = parse.parse(format_string, filename)\n",
    "    return {'true class':int(parsed[0]), 'adv class':int(parsed[1]), 'sample':int(parsed[2])}\n",
    "\n",
    "def read_adversaries(loc):\n",
    "    ret = []\n",
    "    for f in os.listdir(loc):\n",
    "        if os.path.isfile(os.path.join(loc,f)) and f.find('.npy') != -1:\n",
    "            adv = np.load(os.path.join(loc, f))\n",
    "            info = get_adv_info(f)\n",
    "            info['adversary'] = adv\n",
    "            ret.append(info)\n",
    "    return ret\n",
    "    "
   ]
  },
  {
   "cell_type": "code",
   "execution_count": null,
   "metadata": {},
   "outputs": [],
   "source": [
    "adv_directory_loc = '/home/tgebhart/projects/pt_activation/logdir/adversaries/cifar/projected_gradient_descent/alexnet_cifar.pt'\n",
    "adversaries = read_adversaries(adv_directory_loc)\n",
    "adversaries = sorted(adversaries,  key=lambda k: k['sample'])"
   ]
  },
  {
   "cell_type": "code",
   "execution_count": null,
   "metadata": {},
   "outputs": [],
   "source": [
    "def create_sample_graph(f,tnms,wm):\n",
    "\n",
    "    subgraphs = {}\n",
    "    m = dion.homology_persistence(f)\n",
    "    dgm = dion.init_diagrams(m,f)[0]\n",
    "    for i,c in enumerate(m):\n",
    "        if len(c) == 2:\n",
    "            w = f[i].data\n",
    "            if (tnms[f[c[0].index][0]],tnms[f[c[1].index][0]]) in wm:\n",
    "                w = wm[(tnms[f[c[0].index][0]],tnms[f[c[1].index][0]])]\n",
    "            elif (tnms[f[c[1].index][0]],tnms[f[c[0].index][0]]) in wm:\n",
    "                w = wm[(tnms[f[c[1].index][0]],tnms[f[c[0].index][0]])]\n",
    "#                 else:\n",
    "#                     print((tnms[f[c[0].index][0]],tnms[f[c[1].index][0]]))\n",
    "#                     raise Exception('NO WM!')\n",
    "            if False: #tnms[f[c[0].index][0]] in subgraphs:\n",
    "                subgraphs[tnms[f[c[0].index][0]]].add_edge(tnms[f[c[0].index][0]],tnms[f[c[1].index][0]], weight=w)\n",
    "            else:\n",
    "                eaten = False\n",
    "                for k, v in subgraphs.items():\n",
    "                    if v.has_node(tnms[f[c[0].index][0]]):\n",
    "                        if tnms[f[c[1].index][0]] in subgraphs:\n",
    "                            v.add_node(f[c[1].index][0])\n",
    "#                                 subgraphs[k] = nx.union(v, subgraphs[tnms[f[c[1].index][0]]])\n",
    "                        else:\n",
    "                            v.add_edge(tnms[f[c[0].index][0]], tnms[f[c[1].index][0]], weight=w)\n",
    "                        eaten = True\n",
    "                        break\n",
    "                if not eaten:\n",
    "                    g = nx.Graph()\n",
    "                    g.add_edge(tnms[f[c[0].index][0]], tnms[f[c[1].index][0]], weight=w)\n",
    "                    subgraphs[tnms[f[c[0].index][0]]] = g\n",
    "\n",
    "    return subgraphs, dgm, create_lifetimes(f,subgraphs,dgm,tnms)\n",
    "\n",
    "def create_lifetimes(f, subgraphs, dgm, ids):\n",
    "    lifetimes = {}\n",
    "    for pt in dgm:\n",
    "        k = ids[f[pt.data][0]]\n",
    "        if k in subgraphs.keys():\n",
    "            if pt.death < float('inf'):\n",
    "                lifetimes[k] = pt.birth - pt.death\n",
    "            else:\n",
    "                lifetimes[k] = pt.birth\n",
    "    return lifetimes\n",
    "\n",
    "\n",
    "\n",
    "# In[9]:\n",
    "\n",
    "\n",
    "def create_subgraphs(model, batch_size, up_to):\n",
    "    device = torch.device(\"cpu\")\n",
    "    kwargs = {'num_workers': 1, 'pin_memory': True}\n",
    "    test_loader = torch.utils.data.DataLoader(\n",
    "        datasets.CIFAR10(root='../../data/cifar', train=False,\n",
    "                        download=True, transform = transforms.Compose(\n",
    "                        [transforms.ToTensor(),\n",
    "                        transforms.Normalize((0.5, 0.5, 0.5), (0.5, 0.5, 0.5))])),\n",
    "                        batch_size=batch_size, shuffle=False)\n",
    "\n",
    "    model.eval()\n",
    "    test_loss = 0\n",
    "    correct = 0\n",
    "    t = 0\n",
    "    res_df = []\n",
    "    subgraphs = []\n",
    "    diagrams = []\n",
    "    lifetimes = []\n",
    "    ims = []\n",
    "    with torch.no_grad():\n",
    "        for data, target in test_loader:\n",
    "            data, target = data.to(device), target.to(device)\n",
    "            output, hiddens = model(data, hiddens=True)\n",
    "            test_loss = F.nll_loss(output, target).item() # sum up batch loss\n",
    "            pred = output.max(1, keepdim=True)[1] # get the index of the max log-probability\n",
    "            correct += pred.eq(target.view_as(pred)).sum().item()\n",
    "\n",
    "            for s in range(data.shape[0]):\n",
    "                this_hiddens = [hiddens[i][s] for i in range(len(hiddens))]\n",
    "                print('Filtration: {}'.format(s+t))\n",
    "                if t > 0: \n",
    "                    f, nm, wm = model.compute_induced_filtration(data[s], this_hiddens, percentile=PERCENTILE, return_nm=True, absolute_value=True)\n",
    "                    tnm = {v: k for k, v in nm.items()}\n",
    "                    sg, dg, lifetime = create_sample_graph(f, tnm, wm)\n",
    "                    subgraphs.append(sg)\n",
    "                    diagrams.append(dg)\n",
    "                    lifetimes.append(lifetime)\n",
    "                row = {'loss':test_loss, 'class':target.cpu().numpy()[s], 'prediction':pred.cpu().numpy()[s][0]}\n",
    "                res_df.append(row)\n",
    "                ims.append(data[s].numpy().reshape(3*32*32))\n",
    "\n",
    "            t += batch_size\n",
    "            if t >= up_to:\n",
    "                break\n",
    "\n",
    "    return pd.DataFrame(res_df), subgraphs, diagrams, lifetimes, ims\n",
    "\n",
    "\n",
    "def create_adversary_subgraphs(model, batch_size, up_to, adversaries):\n",
    "    device = torch.device(\"cpu\")\n",
    "    adv_images = torch.tensor(np.array([a['adversary'] for a in adversaries]))\n",
    "    adv_labels = torch.tensor(np.array([a['true class'] for a in adversaries]))\n",
    "    adv_samples = [a['sample'] for a in adversaries]\n",
    "\n",
    "    print(adv_images.shape, adv_labels.shape)\n",
    "\n",
    "    advs = torch.utils.data.TensorDataset(adv_images, adv_labels)\n",
    "    test_loader = torch.utils.data.DataLoader(advs, batch_size=batch_size, shuffle=False)\n",
    "\n",
    "    model.eval()\n",
    "    test_loss = 0\n",
    "    correct = 0\n",
    "    t = 0\n",
    "    res_df = []\n",
    "    subgraphs = []\n",
    "    diagrams = []\n",
    "    lifetimes = []\n",
    "    with torch.no_grad():\n",
    "\n",
    "        for data, target in test_loader:\n",
    "            data, target = data.to(device), target.to(device)\n",
    "            output, hiddens = model(data, hiddens=True)\n",
    "            test_loss = F.nll_loss(output, target).item() # sum up batch loss\n",
    "            pred = output.max(1, keepdim=True)[1] # get the index of the max log-probability\n",
    "            correct += pred.eq(target.view_as(pred)).sum().item()\n",
    "            for s in range(data.shape[0]):\n",
    "                this_hiddens = [hiddens[i][s] for i in range(len(hiddens))]\n",
    "                print('Filtration: {}'.format(s+t))\n",
    "                f, nm, wm = model.compute_induced_filtration(data[s], this_hiddens, percentile=PERCENTILE, return_nm=True, absolute_value=True)\n",
    "                tnm = {v: k for k, v in nm.items()}\n",
    "                sg, dg, lifetime = create_sample_graph(f, tnm, wm)\n",
    "                row = {'loss':test_loss, 'class':target.cpu().numpy()[s], 'prediction':pred.cpu().numpy()[s][0]}\n",
    "                res_df.append(row)\n",
    "                subgraphs.append(sg)\n",
    "                diagrams.append(dg)\n",
    "                lifetimes.append(lifetime)\n",
    "\n",
    "            t += (batch_size)\n",
    "            if t >= up_to:\n",
    "                break\n",
    "\n",
    "    return pd.DataFrame(res_df), subgraphs, diagrams, lifetimes"
   ]
  },
  {
   "cell_type": "code",
   "execution_count": 2,
   "metadata": {},
   "outputs": [
    {
     "name": "stdout",
     "output_type": "stream",
     "text": [
      "Files already downloaded and verified\n"
     ]
    }
   ],
   "source": [
    "ims = []\n",
    "labels = []\n",
    "test_loader = torch.utils.data.DataLoader(\n",
    "        datasets.CIFAR10(root='../../data/cifar', train=False,\n",
    "                        download=True, transform = transforms.Compose(\n",
    "                        [transforms.ToTensor(),\n",
    "                        transforms.Normalize((0.5, 0.5, 0.5), (0.5, 0.5, 0.5))])),\n",
    "                        batch_size=1, shuffle=False)\n",
    "i = 0\n",
    "for data, target in test_loader:\n",
    "    ims.append(data[0].numpy().reshape(3*32*32))\n",
    "    labels.append(target.numpy())\n",
    "    if i >= 300:\n",
    "        break\n",
    "    i += 1"
   ]
  },
  {
   "cell_type": "code",
   "execution_count": null,
   "metadata": {},
   "outputs": [],
   "source": [
    "model_location = '/home/tgebhart/projects/pt_activation/logdir/models/alexnet_cifar.pt'\n",
    "model = AlexNet()\n",
    "model.load_state_dict(torch.load(model_location, map_location='cpu'))"
   ]
  },
  {
   "cell_type": "code",
   "execution_count": null,
   "metadata": {
    "scrolled": true
   },
   "outputs": [],
   "source": [
    "res_df, sample_graphs, dgms, lifetimes, ims = create_subgraphs(model, 50, 200)"
   ]
  },
  {
   "cell_type": "code",
   "execution_count": null,
   "metadata": {
    "scrolled": true
   },
   "outputs": [],
   "source": [
    "# adv_df, adv_nms, adv_wms = create_adversary_filtrations(model, 50, 100, adversaries)"
   ]
  },
  {
   "cell_type": "code",
   "execution_count": null,
   "metadata": {},
   "outputs": [],
   "source": [
    "import pickle\n",
    "alex_sample_graphs = pickle.load(open('/home/tgebhart/projects/pt_activation/logdir/adversaries/cifar/projected_gradient_descent/alexnet_cifar.pt/moving_samples.pkl', 'rb'))\n",
    "alex_lifetimes = pickle.load(open('/home/tgebhart/projects/pt_activation/logdir/adversaries/cifar/projected_gradient_descent/alexnet_cifar.pt/moving_lifetimes.pkl', 'rb'))\n",
    "\n",
    "sample_graphs = alex_sample_graphs + sample_graphs\n",
    "lifetimes = alex_lifetimes+ lifetimes "
   ]
  },
  {
   "cell_type": "code",
   "execution_count": 90,
   "metadata": {},
   "outputs": [],
   "source": [
    "def compute_nearest_neighbors(ims):\n",
    "    ret = np.zeros((ims.shape[0],ims.shape[0]))\n",
    "    for i in range(ims.shape[0]):\n",
    "        for j in range(ims.shape[0]):\n",
    "#             nbrs = NearestNeighbors(n_neighbors=10).fit(ret_ims)\n",
    "#             ret = nbrs.kneighbors(ret_ims)\n",
    "#             for i in range(data.shape[0]):\n",
    "#                 for j in range(data.shape[0]):\n",
    "            ret[i,j] = 1/(1+np.linalg.norm(ims[i] - ims[j]))\n",
    "                \n",
    "    return ret\n",
    "\n",
    "def nearest_neighbors_umap(ims, n_neighbors=30, min_dist=0.4, n_components=60, metric='euclidean'):\n",
    "    ret = np.zeros((ims.shape[0], ims.shape[0]))\n",
    "    reducer = umap.UMAP(\n",
    "        n_neighbors=n_neighbors,\n",
    "        min_dist=min_dist,\n",
    "        n_components=n_components,\n",
    "        metric=metric\n",
    "    )\n",
    "    embedding = reducer.fit_transform(ims)\n",
    "    for i in range(embedding.shape[0]):\n",
    "        for j in range(embedding.shape[0]):\n",
    "            ret[i,j] = 1/(1+np.linalg.norm(embedding[i] - embedding[j]))\n",
    "    return ret\n",
    "    "
   ]
  },
  {
   "cell_type": "code",
   "execution_count": 4,
   "metadata": {},
   "outputs": [],
   "source": [
    "# labsdf = pd.DataFrame(labels)"
   ]
  },
  {
   "cell_type": "code",
   "execution_count": 81,
   "metadata": {},
   "outputs": [],
   "source": [
    "# nns = nearest_neighbors_umap(np.array(ims))"
   ]
  },
  {
   "cell_type": "code",
   "execution_count": 94,
   "metadata": {},
   "outputs": [],
   "source": [
    "# nns = compute_nearest_neighbors(np.array(ims))"
   ]
  },
  {
   "cell_type": "code",
   "execution_count": 27,
   "metadata": {},
   "outputs": [],
   "source": [
    "# sorted_labsdf = labsdf.sort_values(by=[0])"
   ]
  },
  {
   "cell_type": "code",
   "execution_count": 95,
   "metadata": {},
   "outputs": [
    {
     "data": {
      "image/png": "[encoded data removed]",
      "text/plain": [
       "<Figure size 432x288 with 2 Axes>"
      ]
     },
     "metadata": {
      "needs_background": "light"
     },
     "output_type": "display_data"
    }
   ],
   "source": [
    "# sorted_nns = np.empty(nns.shape)\n",
    "# sidxs = list(sorted_labsdf.index)\n",
    "# for i in range(300):\n",
    "#     for j in range(300):\n",
    "#         sorted_nns[i,j] = nns[sidxs[i],sidxs[j]]\n",
    "        \n",
    "# snnsdf = pd.DataFrame(sorted_nns, columns=sorted_labsdf[0], index=sorted_labsdf[0])\n",
    "# ax = sns.heatmap(snnsdf, xticklabels=10, yticklabels=10)\n",
    "# plt.yticks(rotation=0)\n",
    "# plt.xticks(rotation=0)\n",
    "# plt.tick_params(axis='y',labelsize=5)\n",
    "# plt.tick_params(axis='x',labelsize=5)\n",
    "# plt.ylabel('Unaltered Images')\n",
    "# plt.xlabel('Unaltered Images')\n",
    "# plt.savefig('/home/tgebhart/projects/pt_activation/logdir/vis/alexnet_cifar/nnsim.png', format='png', dpi=500)"
   ]
  },
  {
   "cell_type": "code",
   "execution_count": null,
   "metadata": {},
   "outputs": [],
   "source": []
  },
  {
   "cell_type": "code",
   "execution_count": null,
   "metadata": {},
   "outputs": [],
   "source": [
    "def hamming_distance(g1, g2, ret_labels=False):\n",
    "    nodeset = set(list(g1.nodes) + list(g2.nodes))\n",
    "    g1_vec = np.zeros((len(nodeset)))\n",
    "    g2_vec = np.zeros((len(nodeset)))\n",
    "    nodesetlist = list(nodeset)\n",
    "    for i in range(len(nodesetlist)):\n",
    "        node = nodesetlist[i]\n",
    "        if node in g1.nodes:\n",
    "            g1_vec[i] = 1.0\n",
    "        if node in g2.nodes:\n",
    "            g2_vec[i] = 1.0\n",
    "    if ret_labels:\n",
    "        return hamming(g1_vec, g2_vec), nodesetlist\n",
    "    else:\n",
    "        return hamming(g1_vec, g2_vec)\n",
    "    \n",
    "def edge_hamming_distance(g1, g2, ret_labels=False):\n",
    "    edgeset = set(list(g1.edges) + list(g2.edges))\n",
    "    g1_vec = np.zeros((len(edgeset)))\n",
    "    g2_vec = np.zeros((len(edgeset)))\n",
    "    edgesetlist = list(edgeset)\n",
    "    for i in range(len(edgesetlist)):\n",
    "        edge = edgesetlist[i]\n",
    "        if edge in g1.edges:\n",
    "            g1_vec[i] = 1.0\n",
    "        if edge in g2.edges:\n",
    "            g2_vec[i] = 1.0\n",
    "    if ret_labels:\n",
    "        return hamming(g1_vec, g2_vec), edgesetlist\n",
    "    else:\n",
    "        return hamming(g1_vec, g2_vec)\n",
    "    \n",
    "def lifetime_weighted_edge_distance(subgraphs1,subgraphs2,lifetimes1,lifetimes2,ret_labels=False):\n",
    "    edges1 = {}\n",
    "    edges2 = {}\n",
    "    sg1keys = list(subgraphs1.keys())\n",
    "    sg2keys = list(subgraphs2.keys())\n",
    "    lifetimes1 = list(lifetimes1.values())\n",
    "    lifetimes2 = list(lifetimes2.values())\n",
    "    ml1 = max(lifetimes1)\n",
    "    ml2 = max(lifetimes2)\n",
    "    for i in range(len(sg1keys)):\n",
    "        g = subgraphs1[sg1keys[i]]\n",
    "        for e in g.edges:\n",
    "            edges1[e] = lifetimes1[i]/ml1\n",
    "    for i in range(len(sg2keys)):\n",
    "        g = subgraphs2[sg2keys[i]]\n",
    "        for e in g.edges:\n",
    "            edges2[e] = lifetimes2[i]/ml2\n",
    "    edgeset = set(list(edges1.keys()) + list(edges2.keys()))\n",
    "    g1_vec = np.zeros((len(edgeset)))\n",
    "    g2_vec = np.zeros((len(edgeset)))\n",
    "    edgesetlist = list(edgeset)\n",
    "    for i in range(len(edgesetlist)):\n",
    "        edge = edgesetlist[i]\n",
    "        if edge in edges1:\n",
    "            g1_vec[i] += edges1[edge]\n",
    "        if edge in edges2:\n",
    "            g2_vec[i] += edges2[edge]\n",
    "    if ret_labels:\n",
    "        return cosine(g1_vec, g2_vec), edgesetlist\n",
    "    else:\n",
    "        return cosine(g1_vec, g2_vec)\n",
    "    \n",
    "def weighted_edge_distance(g1, g2, ret_labels=False):\n",
    "    edgeset = set(list(g1.edges) + list(g2.edges))\n",
    "    g1_vec = np.zeros((len(edgeset)))\n",
    "    g2_vec = np.zeros((len(edgeset)))\n",
    "    edgesetlist = list(edgeset)\n",
    "    for i in range(len(edgesetlist)):\n",
    "        edge = edgesetlist[i]\n",
    "        if edge in g1.edges:\n",
    "            g1_vec[i] = g1[edge[0]][edge[1]]['weight']\n",
    "        if edge in g2.edges:\n",
    "            g2_vec[i] = g2[edge[0]][edge[1]]['weight']\n",
    "    if ret_labels:\n",
    "        return cosine(g1_vec, g2_vec), edgesetlist\n",
    "    else:\n",
    "        return cosine(g1_vec, g2_vec)\n",
    "    \n",
    "def total_edge_weights(graphs):\n",
    "    emap = {}\n",
    "    for g in graphs:\n",
    "        for e in g.edges:\n",
    "            if e in emap:\n",
    "                emap[e] += g[e[0]][e[1]]['weight']\n",
    "            else:\n",
    "                emap[e] = g[e[0]][e[1]]['weight']\n",
    "    return emap\n",
    "\n",
    "def count_nodes(graphs):\n",
    "    nmap = {}\n",
    "    for g in graphs:\n",
    "        for n in g.nodes:\n",
    "            if n in nmap:\n",
    "                nmap[n] += 1.0\n",
    "            else:\n",
    "                nm[2] = 1.0\n",
    "    return nmap"
   ]
  },
  {
   "cell_type": "code",
   "execution_count": null,
   "metadata": {},
   "outputs": [],
   "source": []
  },
  {
   "cell_type": "code",
   "execution_count": null,
   "metadata": {},
   "outputs": [],
   "source": [
    "sorted_res_df = res_df.sort_values(by=['prediction'])\n",
    "sorted_res_df.head()"
   ]
  },
  {
   "cell_type": "code",
   "execution_count": null,
   "metadata": {},
   "outputs": [],
   "source": [
    "# comb_sim_mat = np.zeros((len(combs),len(adv_combs)))\n",
    "# for i in range(len(combs)):\n",
    "#     g = combs[i]\n",
    "#     for j in range(len(adv_combs)):\n",
    "#         ag = adv_combs[j]\n",
    "#         comb_sim_mat[i,j] = 1 - weighted_edge_distance(g,ag)\n",
    "\n",
    "# comb_sim_mat = np.zeros((len(sample_graphs), len(adv_sample_graphs)))\n",
    "# for i in range(len(sample_graphs)):\n",
    "#     for j in range(len(adv_sample_graphs)):\n",
    "#         comb_sim_mat[i,j] = 1 - lifetime_weighted_edge_distance(sample_graphs[i],adv_sample_graphs[j],lifetimes[i],adv_lifetimes[j])\n",
    "\n",
    "comb_sim_mat = np.zeros((len(sample_graphs), len(sample_graphs)))\n",
    "sidx = list(sorted_res_df.index)\n",
    "for i in range(len(sample_graphs)):\n",
    "    ix = sidx[i]\n",
    "    for j in range(len(sample_graphs)):\n",
    "        jx = sidx[j]\n",
    "        comb_sim_mat[i,j] = 1 - lifetime_weighted_edge_distance(sample_graphs[ix],sample_graphs[jx],lifetimes[ix],lifetimes[jx])\n",
    "        "
   ]
  },
  {
   "cell_type": "code",
   "execution_count": null,
   "metadata": {},
   "outputs": [],
   "source": [
    "csmdf = pd.DataFrame(comb_sim_mat, columns=sorted_res_df['prediction'], index=sorted_res_df['prediction'])\n",
    "# ax = sns.heatmap(comb_sim_mat, xticklabels=sorted_res_df['prediction'],yticklabels=sorted_res_df['prediction'])\n",
    "ax = sns.heatmap(csmdf, xticklabels=10, yticklabels=10)\n",
    "plt.yticks(rotation=0)\n",
    "plt.xticks(rotation=0)\n",
    "plt.tick_params(axis='y',labelsize=5)\n",
    "plt.tick_params(axis='x',labelsize=5)\n",
    "plt.ylabel('Unaltered Subgraphs')\n",
    "plt.xlabel('Unaltered Subgraphs')\n",
    "plt.savefig('/home/tgebhart/projects/pt_activation/logdir/vis/alexnet_cifar/comb_heatmap_no_adv.png', format='png', dpi=500)"
   ]
  },
  {
   "cell_type": "code",
   "execution_count": null,
   "metadata": {},
   "outputs": [],
   "source": [
    "sorted_nns = np.empty(nns.shape)\n",
    "sidxs = list(sorted_res_df.index)\n",
    "for i in range(len(sidxs)):\n",
    "    for j in range(len(sidxs)):\n",
    "        sorted_nns[i,j] = nns[sidxs[i],sidxs[j]]\n",
    "        \n",
    "snnsdf = pd.DataFrame(sorted_nns, columns=sorted_res_df['prediction'], index=sorted_res_df['prediction'])\n",
    "ax = sns.heatmap(snnsdf, xticklabels=10, yticklabels=10)\n",
    "plt.yticks(rotation=0)\n",
    "plt.xticks(rotation=0)\n",
    "plt.tick_params(axis='y',labelsize=5)\n",
    "plt.tick_params(axis='x',labelsize=5)\n",
    "plt.ylabel('Unaltered Images')\n",
    "plt.xlabel('Unaltered Images')\n",
    "plt.savefig('/home/tgebhart/projects/pt_activation/logdir/vis/alexnet_cifar/nnsim.png', format='png', dpi=500)"
   ]
  },
  {
   "cell_type": "code",
   "execution_count": null,
   "metadata": {},
   "outputs": [],
   "source": []
  },
  {
   "cell_type": "code",
   "execution_count": null,
   "metadata": {},
   "outputs": [],
   "source": [
    "comb_sim_mat2 = np.zeros((len(sample_graphs), len(sample_graphs)))\n",
    "for i in range(len(sample_graphs)):\n",
    "    for j in range(len(sample_graphs)):\n",
    "        comb_sim_mat2[i,j] = 1 - lifetime_weighted_edge_distance(sample_graphs[i],sample_graphs[j],lifetimes[i],lifetimes[j])\n",
    "    "
   ]
  },
  {
   "cell_type": "code",
   "execution_count": null,
   "metadata": {},
   "outputs": [],
   "source": []
  },
  {
   "cell_type": "code",
   "execution_count": null,
   "metadata": {},
   "outputs": [],
   "source": [
    "ngoi = 4\n",
    "res_df.iloc[ngoi].head()"
   ]
  },
  {
   "cell_type": "code",
   "execution_count": null,
   "metadata": {},
   "outputs": [],
   "source": [
    "# Nearest neighbors in graph space\n",
    "res_df.iloc[comb_sim_mat2[ngoi,:].argsort()[-10:][::-1]]"
   ]
  },
  {
   "cell_type": "code",
   "execution_count": null,
   "metadata": {},
   "outputs": [],
   "source": [
    "# Nearest neighbors in image space\n",
    "res_df.iloc[nns[ngoi,:].argsort()[-10:][::-1]]"
   ]
  },
  {
   "cell_type": "code",
   "execution_count": null,
   "metadata": {},
   "outputs": [],
   "source": [
    "plt.imshow(ims[ngoi].reshape(3,28,28), interpolation='bilinear')"
   ]
  },
  {
   "cell_type": "code",
   "execution_count": null,
   "metadata": {},
   "outputs": [],
   "source": [
    "plt.imshow(ims[131].reshape(3,32,32), interpolation='bilinear')"
   ]
  },
  {
   "cell_type": "code",
   "execution_count": null,
   "metadata": {},
   "outputs": [],
   "source": [
    "\n",
    "\n"
   ]
  },
  {
   "cell_type": "code",
   "execution_count": null,
   "metadata": {},
   "outputs": [],
   "source": []
  }
 ],
 "metadata": {
  "kernelspec": {
   "display_name": "Python 3",
   "language": "python",
   "name": "python3"
  },
  "language_info": {
   "codemirror_mode": {
    "name": "ipython",
    "version": 3
   },
   "file_extension": ".py",
   "mimetype": "text/x-python",
   "name": "python",
   "nbconvert_exporter": "python",
   "pygments_lexer": "ipython3",
   "version": "3.6.7"
  }
 },
 "nbformat": 4,
 "nbformat_minor": 2
}
