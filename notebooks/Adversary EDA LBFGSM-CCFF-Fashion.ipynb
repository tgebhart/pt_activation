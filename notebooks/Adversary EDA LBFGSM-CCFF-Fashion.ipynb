{
 "cells": [
  {
   "cell_type": "code",
   "execution_count": 1,
   "metadata": {},
   "outputs": [],
   "source": [
    "import os\n",
    "import parse\n",
    "import pickle\n",
    "\n",
    "import torch\n",
    "import torch.nn.functional as F\n",
    "from torchvision import datasets, transforms\n",
    "from torch.utils.data import Dataset, DataLoader\n",
    "import dionysus as dion\n",
    "import numpy as np\n",
    "import pandas as pd\n",
    "import matplotlib.pyplot as plt\n",
    "import seaborn as sns\n",
    "from sklearn import svm\n",
    "import sklearn\n",
    "import networkx as nx\n",
    "from grakel import GraphKernel\n",
    "import grakel\n",
    "import seaborn as sns\n",
    "\n",
    "from pt_activation.models.ccff_fashion import CCFF\n",
    "\n",
    "%load_ext autoreload\n",
    "%autoreload 2"
   ]
  },
  {
   "cell_type": "code",
   "execution_count": 2,
   "metadata": {},
   "outputs": [],
   "source": [
    "def get_adv_info(filename):\n",
    "    format_string = 'true-{}_adv-{}_sample-{}.npy'\n",
    "    parsed = parse.parse(format_string, filename)\n",
    "    return {'true class':int(parsed[0]), 'adv class':int(parsed[1]), 'sample':int(parsed[2])}\n",
    "\n",
    "def read_adversaries(loc):\n",
    "    ret = []\n",
    "    for f in os.listdir(loc):\n",
    "        if os.path.isfile(os.path.join(loc,f)) and f.find('.npy') != -1:\n",
    "            adv = np.load(os.path.join(loc, f))\n",
    "            info = get_adv_info(f)\n",
    "            info['adversary'] = adv\n",
    "            ret.append(info)\n",
    "    return ret\n",
    "    "
   ]
  },
  {
   "cell_type": "code",
   "execution_count": 3,
   "metadata": {},
   "outputs": [],
   "source": [
    "adv_directory_loc = '/home/tgebhart/projects/pt_activation/logdir/adversaries/fashion/lbfgsm/ccff_fashion.pt/90'\n",
    "adversaries = read_adversaries(adv_directory_loc)\n",
    "adversaries = sorted(adversaries,  key=lambda k: k['sample'])"
   ]
  },
  {
   "cell_type": "code",
   "execution_count": 4,
   "metadata": {},
   "outputs": [],
   "source": [
    "def create_filtrations(model, batch_size, up_to):\n",
    "    device = torch.device(\"cpu\")\n",
    "    kwargs = {'num_workers': 1, 'pin_memory': True}\n",
    "    test_loader = torch.utils.data.DataLoader(\n",
    "        datasets.FashionMNIST('../../fashion/data', train=False, download=True, transform=transforms.Compose([\n",
    "                           transforms.ToTensor(),\n",
    "                       ])), batch_size=batch_size, shuffle=False, **kwargs)\n",
    "\n",
    "    model.eval()\n",
    "    test_loss = 0\n",
    "    correct = 0\n",
    "    t = 0\n",
    "    res_df = []\n",
    "    with torch.no_grad():\n",
    "        for data, target in test_loader:\n",
    "            data, target = data.to(device), target.to(device)\n",
    "            output, hiddens = model(data, hiddens=True)\n",
    "            test_loss += F.nll_loss(output, target, reduction='sum').item() # sum up batch loss\n",
    "            pred = output.max(1, keepdim=True)[1] # get the index of the max log-probability\n",
    "            correct += pred.eq(target.view_as(pred)).sum().item()\n",
    "            for s in range(data.shape[0]):\n",
    "                row = {'loss':output.cpu().numpy()[s][0], 'class':target.cpu().numpy()[s], 'prediction':pred.cpu().numpy()[s][0]}\n",
    "                res_df.append(row)\n",
    "\n",
    "            t += batch_size\n",
    "            if t >= up_to:\n",
    "                break\n",
    "\n",
    "    return pd.DataFrame(res_df)\n",
    "\n",
    "\n",
    "def create_adversary_filtrations(model, batch_size, up_to, adversaries):\n",
    "    device = torch.device(\"cpu\")\n",
    "    adv_images = torch.tensor(np.array([a['adversary'] for a in adversaries]))\n",
    "    adv_labels = torch.tensor(np.array([a['true class'] for a in adversaries]))\n",
    "    adv_samples = [a['sample'] for a in adversaries]\n",
    "    \n",
    "    print(adv_images.shape, adv_labels.shape)\n",
    "    \n",
    "    advs = torch.utils.data.TensorDataset(adv_images, adv_labels)\n",
    "    test_loader = torch.utils.data.DataLoader(advs, batch_size=batch_size, shuffle=False)\n",
    "    \n",
    "    model.eval()\n",
    "    test_loss = 0\n",
    "    correct = 0\n",
    "    t = 0\n",
    "    res_df = []\n",
    "    with torch.no_grad():\n",
    "        \n",
    "        for data, target in test_loader:\n",
    "            data, target = data.to(device), target.to(device)\n",
    "            output, hiddens = model(data, hiddens=True)\n",
    "            test_loss += F.nll_loss(output, target, reduction='sum').item() # sum up batch loss\n",
    "            pred = output.max(1, keepdim=True)[1] # get the index of the max log-probability\n",
    "            correct += pred.eq(target.view_as(pred)).sum().item()\n",
    "            for s in range(data.shape[0]):\n",
    "                row = {'loss':output.cpu().numpy()[s][0], 'class':target.cpu().numpy()[s], 'prediction':pred.cpu().numpy()[s][0], 'sample':adv_samples[s+t]}\n",
    "                res_df.append(row)\n",
    "\n",
    "            t += (batch_size)\n",
    "            if t >= up_to:\n",
    "                break\n",
    "\n",
    "    return pd.DataFrame(res_df)"
   ]
  },
  {
   "cell_type": "markdown",
   "metadata": {},
   "source": [
    "def create_filtrations(model, batch_size, up_to):\n",
    "    device = torch.device(\"cpu\")\n",
    "    kwargs = {'num_workers': 1, 'pin_memory': True}\n",
    "    test_loader = torch.utils.data.DataLoader(\n",
    "        datasets.FashionMNIST('../../fashion/data', train=False, download=True, transform=transforms.Compose([\n",
    "                           transforms.ToTensor(),\n",
    "                       ])), batch_size=batch_size, shuffle=False, **kwargs)\n",
    "\n",
    "    model.eval()\n",
    "    test_loss = 0\n",
    "    correct = 0\n",
    "    t = 0\n",
    "    res_df = []\n",
    "    with torch.no_grad():\n",
    "        for data, target in test_loader:\n",
    "            data, target = data.to(device), target.to(device)\n",
    "            output, hiddens = model(data, hiddens=True)\n",
    "            test_loss += F.nll_loss(output, target, reduction='sum').item() # sum up batch loss\n",
    "            pred = output.max(1, keepdim=True)[1] # get the index of the max log-probability\n",
    "            correct += pred.eq(target.view_as(pred)).sum().item()\n",
    "            for s in range(data.shape[0]):\n",
    "                # check if this makes sense\n",
    "                this_hiddens = [hiddens[0][s], hiddens[1][s], hiddens[2][s]]\n",
    "                print('Filtration: {}'.format(s+t))\n",
    "                f = model.compute_dynamic_filtration(data[s], this_hiddens)\n",
    "                #\n",
    "                row = {'filtration':f, 'loss':output.cpu().numpy()[s][0], 'class':target.cpu().numpy()[s], 'prediction':pred.cpu().numpy()[s][0]}\n",
    "                res_df.append(row)\n",
    "\n",
    "            t += batch_size\n",
    "            if t >= up_to:\n",
    "                break\n",
    "\n",
    "    return pd.DataFrame(res_df)\n",
    "\n",
    "\n",
    "def create_adversary_filtrations(model, batch_size, up_to, adversaries):\n",
    "    device = torch.device(\"cpu\")\n",
    "    adv_images = torch.tensor(np.array([a['adversary'] for a in adversaries]))\n",
    "    adv_labels = torch.tensor(np.array([a['true class'] for a in adversaries]))\n",
    "    \n",
    "    print(adv_images.shape, adv_labels.shape)\n",
    "    \n",
    "    advs = torch.utils.data.TensorDataset(adv_images, adv_labels)\n",
    "    test_loader = torch.utils.data.DataLoader(advs, batch_size=batch_size, shuffle=False)\n",
    "    \n",
    "    model.eval()\n",
    "    test_loss = 0\n",
    "    correct = 0\n",
    "    t = 0\n",
    "    res_df = []\n",
    "    with torch.no_grad():\n",
    "        \n",
    "        for data, target in test_loader:\n",
    "            data, target = data.to(device), target.to(device)\n",
    "            output, hiddens = model(data, hiddens=True)\n",
    "            test_loss += F.nll_loss(output, target, reduction='sum').item() # sum up batch loss\n",
    "            pred = output.max(1, keepdim=True)[1] # get the index of the max log-probability\n",
    "            correct += pred.eq(target.view_as(pred)).sum().item()\n",
    "            for s in range(data.shape[0]):\n",
    "                # check if this makes sense\n",
    "                this_hiddens = [hiddens[0][s], hiddens[1][s], hiddens[2][s]]\n",
    "                print('Filtration: {}'.format(s+t))\n",
    "                f = model.compute_dynamic_filtration(data[s], this_hiddens)\n",
    "                #\n",
    "                row = {'filtration':f, 'loss':output.cpu().numpy()[s][0], 'class':target.cpu().numpy()[s], 'prediction':pred.cpu().numpy()[s][0]}\n",
    "                res_df.append(row)\n",
    "\n",
    "            t += (batch_size)\n",
    "            if t >= up_to:\n",
    "                break\n",
    "\n",
    "    return pd.DataFrame(res_df)"
   ]
  },
  {
   "cell_type": "code",
   "execution_count": 5,
   "metadata": {},
   "outputs": [],
   "source": [
    "model_location = '/home/tgebhart/projects/pt_activation/logdir/models/ccff_fashion.pt'\n",
    "model = CCFF()\n",
    "model.load_state_dict(torch.load(model_location))"
   ]
  },
  {
   "cell_type": "code",
   "execution_count": 6,
   "metadata": {
    "scrolled": true
   },
   "outputs": [
    {
     "name": "stdout",
     "output_type": "stream",
     "text": [
      "torch.Size([1003, 1, 28, 28]) torch.Size([1003])\n"
     ]
    }
   ],
   "source": [
    "adv_df = create_adversary_filtrations(model, 50, 200, adversaries)"
   ]
  },
  {
   "cell_type": "code",
   "execution_count": 7,
   "metadata": {
    "scrolled": true
   },
   "outputs": [],
   "source": [
    "res_df = create_filtrations(model, 50, 200)"
   ]
  },
  {
   "cell_type": "code",
   "execution_count": null,
   "metadata": {},
   "outputs": [],
   "source": []
  },
  {
   "cell_type": "code",
   "execution_count": null,
   "metadata": {
    "scrolled": true
   },
   "outputs": [],
   "source": []
  },
  {
   "cell_type": "code",
   "execution_count": 8,
   "metadata": {},
   "outputs": [],
   "source": [
    "def create_sample_graphs(df):\n",
    "    sample_graphs = []\n",
    "    for s in range(df.shape[0]):\n",
    "        print(s)\n",
    "        subgraphs = {}\n",
    "        f = df['filtration'].iloc[s]\n",
    "        m = dion.homology_persistence(f)\n",
    "        dgms = dion.init_diagrams(m,f)\n",
    "        for i,c in enumerate(m):\n",
    "            if len(c) == 2:\n",
    "                if f[c[0].index][0] in subgraphs:\n",
    "                    subgraphs[f[c[0].index][0]].add_edge(f[c[0].index][0],f[c[1].index][0],weight=f[i].data)\n",
    "                else:\n",
    "                    eaten = False\n",
    "                    for k, v in subgraphs.items():\n",
    "                        if v.has_node(f[c[0].index][0]):\n",
    "                            v.add_edge(f[c[0].index][0], f[c[1].index][0], weight=f[i].data)\n",
    "                            eaten = True\n",
    "                            break\n",
    "                    if not eaten:\n",
    "                        g = nx.Graph()\n",
    "                        g.add_edge(f[c[0].index][0], f[c[1].index][0], weight=f[i].data)\n",
    "                        subgraphs[f[c[0].index][0]] = g\n",
    "\n",
    "        sample_graphs.append(subgraphs)\n",
    "    return sample_graphs"
   ]
  },
  {
   "cell_type": "code",
   "execution_count": null,
   "metadata": {
    "scrolled": true
   },
   "outputs": [],
   "source": []
  },
  {
   "cell_type": "code",
   "execution_count": null,
   "metadata": {
    "scrolled": true
   },
   "outputs": [],
   "source": []
  },
  {
   "cell_type": "code",
   "execution_count": 9,
   "metadata": {
    "scrolled": true
   },
   "outputs": [],
   "source": [
    "# adv_sample_graphs = create_sample_graphs(adv_df)\n",
    "# with open(os.path.join(adv_directory_loc, 'adv_samples.pkl'), 'wb') as f:\n",
    "#     pickle.dump(adv_sample_graphs, f)\n",
    "# sample_graphs = create_sample_graphs(res_df)\n",
    "# with open(os.path.join(adv_directory_loc, 'samples.pkl'), 'wb') as f:\n",
    "#     pickle.dump(sample_graphs, f)\n",
    "\n",
    "sample_graphs = pickle.load( open(os.path.join(adv_directory_loc, 'samples.pkl'), \"rb\") )\n",
    "adv_sample_graphs = pickle.load( open(os.path.join(adv_directory_loc, 'adv_samples.pkl'), \"rb\") )"
   ]
  },
  {
   "cell_type": "code",
   "execution_count": null,
   "metadata": {},
   "outputs": [],
   "source": []
  },
  {
   "cell_type": "code",
   "execution_count": 10,
   "metadata": {},
   "outputs": [],
   "source": [
    "# options = {\n",
    "#     'node_color': 'red',\n",
    "#     'node_size': 2,\n",
    "#     'width': 3,\n",
    "#     'with_labels':True}\n",
    "# nx.draw_random(subgraphs[243], **options)"
   ]
  },
  {
   "cell_type": "code",
   "execution_count": 11,
   "metadata": {},
   "outputs": [
    {
     "data": {
      "text/html": [
       "<div>\n",
       "<style scoped>\n",
       "    .dataframe tbody tr th:only-of-type {\n",
       "        vertical-align: middle;\n",
       "    }\n",
       "\n",
       "    .dataframe tbody tr th {\n",
       "        vertical-align: top;\n",
       "    }\n",
       "\n",
       "    .dataframe thead th {\n",
       "        text-align: right;\n",
       "    }\n",
       "</style>\n",
       "<table border=\"1\" class=\"dataframe\">\n",
       "  <thead>\n",
       "    <tr style=\"text-align: right;\">\n",
       "      <th></th>\n",
       "      <th>class</th>\n",
       "      <th>loss</th>\n",
       "      <th>prediction</th>\n",
       "      <th>sample</th>\n",
       "    </tr>\n",
       "  </thead>\n",
       "  <tbody>\n",
       "    <tr>\n",
       "      <th>0</th>\n",
       "      <td>9</td>\n",
       "      <td>-3.935201</td>\n",
       "      <td>5</td>\n",
       "      <td>0</td>\n",
       "    </tr>\n",
       "    <tr>\n",
       "      <th>1</th>\n",
       "      <td>2</td>\n",
       "      <td>13.750554</td>\n",
       "      <td>0</td>\n",
       "      <td>1</td>\n",
       "    </tr>\n",
       "    <tr>\n",
       "      <th>2</th>\n",
       "      <td>1</td>\n",
       "      <td>7.456456</td>\n",
       "      <td>3</td>\n",
       "      <td>2</td>\n",
       "    </tr>\n",
       "    <tr>\n",
       "      <th>3</th>\n",
       "      <td>1</td>\n",
       "      <td>4.386556</td>\n",
       "      <td>3</td>\n",
       "      <td>3</td>\n",
       "    </tr>\n",
       "    <tr>\n",
       "      <th>4</th>\n",
       "      <td>6</td>\n",
       "      <td>12.593495</td>\n",
       "      <td>0</td>\n",
       "      <td>4</td>\n",
       "    </tr>\n",
       "  </tbody>\n",
       "</table>\n",
       "</div>"
      ],
      "text/plain": [
       "   class       loss  prediction  sample\n",
       "0      9  -3.935201           5       0\n",
       "1      2  13.750554           0       1\n",
       "2      1   7.456456           3       2\n",
       "3      1   4.386556           3       3\n",
       "4      6  12.593495           0       4"
      ]
     },
     "execution_count": 11,
     "metadata": {},
     "output_type": "execute_result"
    }
   ],
   "source": [
    "adv_df.head()"
   ]
  },
  {
   "cell_type": "code",
   "execution_count": 12,
   "metadata": {},
   "outputs": [
    {
     "data": {
      "text/html": [
       "<div>\n",
       "<style scoped>\n",
       "    .dataframe tbody tr th:only-of-type {\n",
       "        vertical-align: middle;\n",
       "    }\n",
       "\n",
       "    .dataframe tbody tr th {\n",
       "        vertical-align: top;\n",
       "    }\n",
       "\n",
       "    .dataframe thead th {\n",
       "        text-align: right;\n",
       "    }\n",
       "</style>\n",
       "<table border=\"1\" class=\"dataframe\">\n",
       "  <thead>\n",
       "    <tr style=\"text-align: right;\">\n",
       "      <th></th>\n",
       "      <th>class</th>\n",
       "      <th>loss</th>\n",
       "      <th>prediction</th>\n",
       "    </tr>\n",
       "  </thead>\n",
       "  <tbody>\n",
       "    <tr>\n",
       "      <th>0</th>\n",
       "      <td>9</td>\n",
       "      <td>-4.110539</td>\n",
       "      <td>9</td>\n",
       "    </tr>\n",
       "    <tr>\n",
       "      <th>1</th>\n",
       "      <td>2</td>\n",
       "      <td>8.605694</td>\n",
       "      <td>2</td>\n",
       "    </tr>\n",
       "    <tr>\n",
       "      <th>2</th>\n",
       "      <td>1</td>\n",
       "      <td>7.452312</td>\n",
       "      <td>1</td>\n",
       "    </tr>\n",
       "    <tr>\n",
       "      <th>3</th>\n",
       "      <td>1</td>\n",
       "      <td>4.120848</td>\n",
       "      <td>1</td>\n",
       "    </tr>\n",
       "    <tr>\n",
       "      <th>4</th>\n",
       "      <td>6</td>\n",
       "      <td>8.420245</td>\n",
       "      <td>6</td>\n",
       "    </tr>\n",
       "  </tbody>\n",
       "</table>\n",
       "</div>"
      ],
      "text/plain": [
       "   class      loss  prediction\n",
       "0      9 -4.110539           9\n",
       "1      2  8.605694           2\n",
       "2      1  7.452312           1\n",
       "3      1  4.120848           1\n",
       "4      6  8.420245           6"
      ]
     },
     "execution_count": 12,
     "metadata": {},
     "output_type": "execute_result"
    }
   ],
   "source": [
    "res_df.head()"
   ]
  },
  {
   "cell_type": "code",
   "execution_count": 13,
   "metadata": {},
   "outputs": [],
   "source": [
    "incorrects = res_df[res_df['class'] != res_df['prediction']]\n",
    "corrects = res_df[res_df['class'] == res_df['prediction']]"
   ]
  },
  {
   "cell_type": "code",
   "execution_count": 14,
   "metadata": {},
   "outputs": [
    {
     "data": {
      "text/plain": [
       "(22, 3)"
      ]
     },
     "execution_count": 14,
     "metadata": {},
     "output_type": "execute_result"
    }
   ],
   "source": [
    "incorrects.shape"
   ]
  },
  {
   "cell_type": "code",
   "execution_count": 15,
   "metadata": {},
   "outputs": [],
   "source": [
    "correct_list = list(corrects.index)\n",
    "adv_correct_list = list(adv_df[~np.isin(adv_df['sample'], list(incorrects.index))].index)"
   ]
  },
  {
   "cell_type": "code",
   "execution_count": 16,
   "metadata": {},
   "outputs": [],
   "source": [
    "sample_graphs = [sample_graphs[i] for i in correct_list]\n",
    "adv_sample_graphs = [adv_sample_graphs[i] for i in adv_correct_list]"
   ]
  },
  {
   "cell_type": "code",
   "execution_count": null,
   "metadata": {},
   "outputs": [],
   "source": []
  },
  {
   "cell_type": "code",
   "execution_count": null,
   "metadata": {},
   "outputs": [],
   "source": []
  },
  {
   "cell_type": "code",
   "execution_count": null,
   "metadata": {},
   "outputs": [],
   "source": []
  },
  {
   "cell_type": "code",
   "execution_count": null,
   "metadata": {},
   "outputs": [],
   "source": []
  },
  {
   "cell_type": "code",
   "execution_count": null,
   "metadata": {},
   "outputs": [],
   "source": []
  },
  {
   "cell_type": "code",
   "execution_count": null,
   "metadata": {},
   "outputs": [],
   "source": []
  },
  {
   "cell_type": "code",
   "execution_count": 17,
   "metadata": {},
   "outputs": [],
   "source": [
    "COLORS = ['#12355b', '#ff6978']\n",
    "EDGE_COLOR = '#272d2d'\n",
    "PLT_LABELS = ['Unaltered', 'Adversarial']\n",
    "# COLORS = ['#bfdce7', '#ff6978']"
   ]
  },
  {
   "cell_type": "code",
   "execution_count": null,
   "metadata": {
    "scrolled": true
   },
   "outputs": [],
   "source": []
  },
  {
   "cell_type": "code",
   "execution_count": 18,
   "metadata": {
    "scrolled": true
   },
   "outputs": [],
   "source": [
    "sgl = np.zeros(len(sample_graphs))\n",
    "for i in range(len(sample_graphs)):\n",
    "    sgl[i] = len(sample_graphs[i])\n",
    "\n",
    "adv_sgl = np.zeros(len(adv_sample_graphs))\n",
    "for i in range(len(adv_sample_graphs)):\n",
    "    adv_sgl[i] = len(adv_sample_graphs[i])\n"
   ]
  },
  {
   "cell_type": "code",
   "execution_count": 19,
   "metadata": {},
   "outputs": [
    {
     "data": {
      "text/plain": [
       "Text(0.5, 0, 'Number of Generators')"
      ]
     },
     "execution_count": 19,
     "metadata": {},
     "output_type": "execute_result"
    },
    {
     "data": {
      "image/png": "[encoded data removed]",
      "text/plain": [
       "<Figure size 432x288 with 1 Axes>"
      ]
     },
     "metadata": {
      "needs_background": "light"
     },
     "output_type": "display_data"
    }
   ],
   "source": [
    "plt.hist([sgl, adv_sgl], bins='auto', color=COLORS, label=PLT_LABELS, edgecolor=EDGE_COLOR)\n",
    "plt.legend()\n",
    "plt.title('Distribution of Generator Count')\n",
    "plt.xlabel('Number of Generators')"
   ]
  },
  {
   "cell_type": "code",
   "execution_count": null,
   "metadata": {},
   "outputs": [],
   "source": []
  },
  {
   "cell_type": "code",
   "execution_count": null,
   "metadata": {},
   "outputs": [],
   "source": []
  },
  {
   "cell_type": "code",
   "execution_count": null,
   "metadata": {},
   "outputs": [],
   "source": []
  },
  {
   "cell_type": "code",
   "execution_count": null,
   "metadata": {},
   "outputs": [],
   "source": []
  },
  {
   "cell_type": "code",
   "execution_count": null,
   "metadata": {},
   "outputs": [],
   "source": []
  },
  {
   "cell_type": "code",
   "execution_count": null,
   "metadata": {},
   "outputs": [],
   "source": []
  },
  {
   "cell_type": "code",
   "execution_count": null,
   "metadata": {},
   "outputs": [],
   "source": []
  },
  {
   "cell_type": "code",
   "execution_count": null,
   "metadata": {},
   "outputs": [],
   "source": []
  },
  {
   "cell_type": "code",
   "execution_count": null,
   "metadata": {},
   "outputs": [],
   "source": []
  },
  {
   "cell_type": "code",
   "execution_count": null,
   "metadata": {},
   "outputs": [],
   "source": []
  },
  {
   "cell_type": "code",
   "execution_count": null,
   "metadata": {},
   "outputs": [],
   "source": []
  },
  {
   "cell_type": "code",
   "execution_count": null,
   "metadata": {},
   "outputs": [],
   "source": []
  },
  {
   "cell_type": "code",
   "execution_count": null,
   "metadata": {
    "scrolled": true
   },
   "outputs": [],
   "source": []
  },
  {
   "cell_type": "markdown",
   "metadata": {},
   "source": [
    "take = 10\n",
    "edges = set()\n",
    "for i in range(len(sample_graphs)):\n",
    "    for k in list(sample_graphs[i].keys())[:take]:\n",
    "        for x in sample_graphs[i][k].edges(data=True):\n",
    "            edge_name = str(x[0])+'-'+str(x[1])\n",
    "            edges.add(edge_name)"
   ]
  },
  {
   "cell_type": "markdown",
   "metadata": {},
   "source": [
    "for i in range(len(adv_sample_graphs)):\n",
    "    for k in list(adv_sample_graphs[i].keys())[:take]:\n",
    "        for x in adv_sample_graphs[i][k].edges(data=True):\n",
    "            edge_name = str(x[0])+'-'+str(x[1])\n",
    "            edges.add(edge_name)"
   ]
  },
  {
   "cell_type": "markdown",
   "metadata": {
    "scrolled": true
   },
   "source": [
    "edf = pd.DataFrame(np.zeros((len(sample_graphs)+len(adv_sample_graphs),len(edges))), columns=list(edges))\n",
    "for i in range(len(sample_graphs)):\n",
    "    print('Sample: {}/{}'.format(i,len(sample_graphs)))\n",
    "    for k in list(sample_graphs[i].keys())[:take]:\n",
    "        for x in sample_graphs[i][k].edges(data=True):\n",
    "            edge_name = str(x[0])+'-'+str(x[1])\n",
    "            edf.iloc[i][edge_name] = x[2]['weight']\n",
    "            \n",
    "for i in range(len(adv_sample_graphs)):\n",
    "    print('Sample: {}/{}'.format(i,len(adv_sample_graphs)))\n",
    "    for k in list(adv_sample_graphs[i].keys())[:take]:\n",
    "        for x in adv_sample_graphs[i][k].edges(data=True):\n",
    "            edge_name = str(x[0])+'-'+str(x[1])\n",
    "            edf.iloc[i+len(sample_graphs)][edge_name] = x[2]['weight']\n",
    "\n",
    "            "
   ]
  },
  {
   "cell_type": "markdown",
   "metadata": {
    "scrolled": true
   },
   "source": [
    "min_max_scaler = sklearn.preprocessing.MinMaxScaler()\n",
    "scaled = min_max_scaler.fit_transform(np.concatenate((sgl, adv_sgl), axis=0).reshape(-1,1))\n",
    "edf['graph counts'] = pd.Series(scaled.T.reshape(-1), index=edf.index)"
   ]
  },
  {
   "cell_type": "markdown",
   "metadata": {},
   "source": [
    "edf.tail()"
   ]
  },
  {
   "cell_type": "markdown",
   "metadata": {},
   "source": [
    "X = edf.values[:len(sample_graphs)]\n",
    "y = res_df['class'].values"
   ]
  },
  {
   "cell_type": "markdown",
   "metadata": {},
   "source": []
  },
  {
   "cell_type": "markdown",
   "metadata": {},
   "source": [
    "clf = svm.SVC(gamma='scale', decision_function_shape='ovo').fit(X,y)"
   ]
  },
  {
   "cell_type": "markdown",
   "metadata": {},
   "source": [
    "X_adv = edf.values[len(sample_graphs):]\n",
    "adv_preds = clf.predict(X_adv)"
   ]
  },
  {
   "cell_type": "markdown",
   "metadata": {},
   "source": [
    "sklearn.metrics.accuracy_score(adv_df['class'], adv_preds)"
   ]
  },
  {
   "cell_type": "markdown",
   "metadata": {},
   "source": [
    "adv_preds[:10]"
   ]
  },
  {
   "cell_type": "markdown",
   "metadata": {},
   "source": [
    "adv_df.head(10)"
   ]
  },
  {
   "cell_type": "markdown",
   "metadata": {},
   "source": [
    "sklearn.metrics.accuracy_score(adv_df['prediction'], adv_preds)"
   ]
  },
  {
   "cell_type": "markdown",
   "metadata": {},
   "source": [
    "clf2 = svm.SVC(gamma='scale', decision_function_shape='ovo').fit(X[:-100],y[:-100])"
   ]
  },
  {
   "cell_type": "markdown",
   "metadata": {},
   "source": [
    "sklearn.metrics.accuracy_score(y[-100:], clf2.predict(X[-100:]))"
   ]
  },
  {
   "cell_type": "code",
   "execution_count": null,
   "metadata": {},
   "outputs": [],
   "source": []
  },
  {
   "cell_type": "code",
   "execution_count": null,
   "metadata": {},
   "outputs": [],
   "source": []
  },
  {
   "cell_type": "code",
   "execution_count": null,
   "metadata": {},
   "outputs": [],
   "source": []
  },
  {
   "cell_type": "code",
   "execution_count": 20,
   "metadata": {
    "scrolled": true
   },
   "outputs": [
    {
     "name": "stdout",
     "output_type": "stream",
     "text": [
      "0\n",
      "1\n",
      "2\n",
      "3\n",
      "4\n",
      "5\n",
      "6\n",
      "7\n",
      "8\n",
      "9\n",
      "10\n",
      "11\n",
      "12\n",
      "13\n",
      "14\n",
      "15\n",
      "16\n",
      "17\n",
      "18\n",
      "19\n",
      "20\n",
      "21\n",
      "22\n",
      "23\n",
      "24\n",
      "25\n",
      "26\n",
      "27\n",
      "28\n",
      "29\n",
      "30\n",
      "31\n",
      "32\n",
      "33\n",
      "34\n",
      "35\n",
      "36\n",
      "37\n",
      "38\n",
      "39\n",
      "40\n",
      "41\n",
      "42\n",
      "43\n",
      "44\n",
      "45\n",
      "46\n",
      "47\n",
      "48\n",
      "49\n",
      "50\n",
      "51\n",
      "52\n",
      "53\n",
      "54\n",
      "55\n",
      "56\n",
      "57\n",
      "58\n",
      "59\n",
      "60\n",
      "61\n",
      "62\n",
      "63\n",
      "64\n",
      "65\n",
      "66\n",
      "67\n",
      "68\n",
      "69\n",
      "70\n",
      "71\n",
      "72\n",
      "73\n",
      "74\n",
      "75\n",
      "76\n",
      "77\n",
      "78\n",
      "79\n",
      "80\n",
      "81\n",
      "82\n",
      "83\n",
      "84\n",
      "85\n",
      "86\n",
      "87\n",
      "88\n",
      "89\n",
      "90\n",
      "91\n",
      "92\n",
      "93\n",
      "94\n",
      "95\n",
      "96\n",
      "97\n",
      "98\n",
      "99\n",
      "100\n",
      "101\n",
      "102\n",
      "103\n",
      "104\n",
      "105\n",
      "106\n",
      "107\n",
      "108\n",
      "109\n",
      "110\n",
      "111\n",
      "112\n",
      "113\n",
      "114\n",
      "115\n",
      "116\n",
      "117\n",
      "118\n",
      "119\n",
      "120\n",
      "121\n",
      "122\n",
      "123\n",
      "124\n",
      "125\n",
      "126\n",
      "127\n",
      "128\n",
      "129\n",
      "130\n",
      "131\n",
      "132\n",
      "133\n",
      "134\n",
      "135\n",
      "136\n",
      "137\n",
      "138\n",
      "139\n",
      "140\n",
      "141\n",
      "142\n",
      "143\n",
      "144\n",
      "145\n",
      "146\n",
      "147\n",
      "148\n",
      "149\n",
      "150\n",
      "151\n",
      "152\n",
      "153\n",
      "154\n",
      "155\n",
      "156\n",
      "157\n",
      "158\n",
      "159\n",
      "160\n",
      "161\n",
      "162\n",
      "163\n",
      "164\n",
      "165\n",
      "166\n",
      "167\n",
      "168\n",
      "169\n",
      "170\n",
      "171\n",
      "172\n",
      "173\n",
      "174\n",
      "175\n",
      "176\n",
      "177\n"
     ]
    }
   ],
   "source": [
    "all_gois = []\n",
    "for i in range(len(sample_graphs)):\n",
    "    print(i)\n",
    "    a = [sample_graphs[i][k] for k in sample_graphs[i].keys()]\n",
    "    all_gois.append(nx.compose_all(a))"
   ]
  },
  {
   "cell_type": "code",
   "execution_count": 21,
   "metadata": {
    "scrolled": true
   },
   "outputs": [
    {
     "name": "stdout",
     "output_type": "stream",
     "text": [
      "0\n",
      "1\n",
      "2\n",
      "3\n",
      "4\n",
      "5\n",
      "6\n",
      "7\n",
      "8\n",
      "9\n",
      "10\n",
      "11\n",
      "12\n",
      "13\n",
      "14\n",
      "15\n",
      "16\n",
      "17\n",
      "18\n",
      "19\n",
      "20\n",
      "21\n",
      "22\n",
      "23\n",
      "24\n",
      "25\n",
      "26\n",
      "27\n",
      "28\n",
      "29\n",
      "30\n",
      "31\n",
      "32\n",
      "33\n",
      "34\n",
      "35\n",
      "36\n",
      "37\n",
      "38\n",
      "39\n",
      "40\n",
      "41\n",
      "42\n",
      "43\n",
      "44\n",
      "45\n",
      "46\n",
      "47\n",
      "48\n",
      "49\n",
      "50\n",
      "51\n",
      "52\n",
      "53\n",
      "54\n",
      "55\n",
      "56\n",
      "57\n",
      "58\n",
      "59\n",
      "60\n",
      "61\n",
      "62\n",
      "63\n",
      "64\n",
      "65\n",
      "66\n",
      "67\n",
      "68\n",
      "69\n",
      "70\n",
      "71\n",
      "72\n",
      "73\n",
      "74\n",
      "75\n",
      "76\n",
      "77\n",
      "78\n",
      "79\n",
      "80\n",
      "81\n",
      "82\n",
      "83\n",
      "84\n",
      "85\n",
      "86\n",
      "87\n",
      "88\n",
      "89\n",
      "90\n",
      "91\n",
      "92\n",
      "93\n",
      "94\n",
      "95\n",
      "96\n",
      "97\n",
      "98\n",
      "99\n",
      "100\n",
      "101\n",
      "102\n",
      "103\n",
      "104\n",
      "105\n",
      "106\n",
      "107\n",
      "108\n",
      "109\n",
      "110\n",
      "111\n",
      "112\n",
      "113\n",
      "114\n",
      "115\n",
      "116\n",
      "117\n",
      "118\n",
      "119\n",
      "120\n",
      "121\n",
      "122\n",
      "123\n",
      "124\n",
      "125\n",
      "126\n",
      "127\n",
      "128\n",
      "129\n",
      "130\n",
      "131\n",
      "132\n",
      "133\n",
      "134\n",
      "135\n",
      "136\n",
      "137\n",
      "138\n",
      "139\n",
      "140\n",
      "141\n",
      "142\n",
      "143\n",
      "144\n",
      "145\n",
      "146\n",
      "147\n",
      "148\n",
      "149\n",
      "150\n",
      "151\n",
      "152\n",
      "153\n",
      "154\n",
      "155\n",
      "156\n",
      "157\n",
      "158\n",
      "159\n",
      "160\n",
      "161\n",
      "162\n",
      "163\n",
      "164\n",
      "165\n",
      "166\n",
      "167\n",
      "168\n",
      "169\n",
      "170\n",
      "171\n",
      "172\n",
      "173\n",
      "174\n",
      "175\n",
      "176\n",
      "177\n"
     ]
    }
   ],
   "source": [
    "adv_all_gois = []\n",
    "for i in range(len(adv_sample_graphs)):\n",
    "    print(i)\n",
    "    a = [adv_sample_graphs[i][k] for k in adv_sample_graphs[i].keys()]\n",
    "    adv_all_gois.append(nx.compose_all(a))"
   ]
  },
  {
   "cell_type": "code",
   "execution_count": 22,
   "metadata": {
    "scrolled": true
   },
   "outputs": [
    {
     "name": "stdout",
     "output_type": "stream",
     "text": [
      "normal  0\n",
      "normal  1\n",
      "normal  2\n",
      "normal  3\n",
      "normal  4\n",
      "normal  5\n",
      "normal  6\n",
      "normal  7\n",
      "normal  8\n",
      "normal  9\n",
      "normal  10\n",
      "normal  11\n",
      "normal  12\n",
      "normal  13\n",
      "normal  14\n",
      "normal  15\n",
      "normal  16\n",
      "normal  17\n",
      "normal  18\n",
      "normal  19\n",
      "normal  20\n",
      "normal  21\n",
      "normal  22\n",
      "normal  23\n",
      "normal  24\n",
      "normal  25\n",
      "normal  26\n",
      "normal  27\n",
      "normal  28\n",
      "normal  29\n",
      "normal  30\n",
      "normal  31\n",
      "normal  32\n",
      "normal  33\n",
      "normal  34\n",
      "normal  35\n",
      "normal  36\n",
      "normal  37\n",
      "normal  38\n",
      "normal  39\n",
      "normal  40\n",
      "normal  41\n",
      "normal  42\n",
      "normal  43\n",
      "normal  44\n",
      "normal  45\n",
      "normal  46\n",
      "normal  47\n",
      "normal  48\n",
      "normal  49\n",
      "normal  50\n",
      "normal  51\n",
      "normal  52\n",
      "normal  53\n",
      "normal  54\n",
      "normal  55\n",
      "normal  56\n",
      "normal  57\n",
      "normal  58\n",
      "normal  59\n",
      "normal  60\n",
      "normal  61\n",
      "normal  62\n",
      "normal  63\n",
      "normal  64\n",
      "normal  65\n",
      "normal  66\n",
      "normal  67\n",
      "normal  68\n",
      "normal  69\n",
      "normal  70\n",
      "normal  71\n",
      "normal  72\n",
      "normal  73\n",
      "normal  74\n",
      "normal  75\n",
      "normal  76\n",
      "normal  77\n",
      "normal  78\n",
      "normal  79\n",
      "normal  80\n",
      "normal  81\n",
      "normal  82\n",
      "normal  83\n",
      "normal  84\n",
      "normal  85\n",
      "normal  86\n",
      "normal  87\n",
      "normal  88\n",
      "normal  89\n",
      "normal  90\n",
      "normal  91\n",
      "normal  92\n",
      "normal  93\n",
      "normal  94\n",
      "normal  95\n",
      "normal  96\n",
      "normal  97\n",
      "normal  98\n",
      "normal  99\n",
      "normal  100\n",
      "normal  101\n",
      "normal  102\n",
      "normal  103\n",
      "normal  104\n",
      "normal  105\n",
      "normal  106\n",
      "normal  107\n",
      "normal  108\n",
      "normal  109\n",
      "normal  110\n",
      "normal  111\n",
      "normal  112\n",
      "normal  113\n",
      "normal  114\n",
      "normal  115\n",
      "normal  116\n",
      "normal  117\n",
      "normal  118\n",
      "normal  119\n",
      "normal  120\n",
      "normal  121\n",
      "normal  122\n",
      "normal  123\n",
      "normal  124\n",
      "normal  125\n",
      "normal  126\n",
      "normal  127\n",
      "normal  128\n",
      "normal  129\n",
      "normal  130\n",
      "normal  131\n",
      "normal  132\n",
      "normal  133\n",
      "normal  134\n",
      "normal  135\n",
      "normal  136\n",
      "normal  137\n",
      "normal  138\n",
      "normal  139\n",
      "normal  140\n",
      "normal  141\n",
      "normal  142\n",
      "normal  143\n",
      "normal  144\n",
      "normal  145\n",
      "normal  146\n",
      "normal  147\n",
      "normal  148\n",
      "normal  149\n",
      "normal  150\n",
      "normal  151\n",
      "normal  152\n",
      "normal  153\n",
      "normal  154\n",
      "normal  155\n",
      "normal  156\n",
      "normal  157\n",
      "normal  158\n",
      "normal  159\n",
      "normal  160\n",
      "normal  161\n",
      "normal  162\n",
      "normal  163\n",
      "normal  164\n",
      "normal  165\n",
      "normal  166\n",
      "normal  167\n",
      "normal  168\n",
      "normal  169\n",
      "normal  170\n",
      "normal  171\n",
      "normal  172\n",
      "normal  173\n",
      "normal  174\n",
      "normal  175\n",
      "normal  176\n",
      "normal  177\n",
      "adv  0\n",
      "adv  1\n",
      "adv  2\n",
      "adv  3\n",
      "adv  4\n",
      "adv  5\n",
      "adv  6\n",
      "adv  7\n",
      "adv  8\n",
      "adv  9\n",
      "adv  10\n",
      "adv  11\n",
      "adv  12\n",
      "adv  13\n",
      "adv  14\n",
      "adv  15\n",
      "adv  16\n",
      "adv  17\n",
      "adv  18\n",
      "adv  19\n",
      "adv  20\n",
      "adv  21\n",
      "adv  22\n",
      "adv  23\n",
      "adv  24\n",
      "adv  25\n",
      "adv  26\n",
      "adv  27\n",
      "adv  28\n",
      "adv  29\n",
      "adv  30\n",
      "adv  31\n",
      "adv  32\n",
      "adv  33\n",
      "adv  34\n",
      "adv  35\n",
      "adv  36\n",
      "adv  37\n",
      "adv  38\n",
      "adv  39\n",
      "adv  40\n",
      "adv  41\n",
      "adv  42\n",
      "adv  43\n",
      "adv  44\n",
      "adv  45\n",
      "adv  46\n",
      "adv  47\n",
      "adv  48\n",
      "adv  49\n",
      "adv  50\n",
      "adv  51\n",
      "adv  52\n",
      "adv  53\n",
      "adv  54\n",
      "adv  55\n",
      "adv  56\n",
      "adv  57\n",
      "adv  58\n",
      "adv  59\n",
      "adv  60\n",
      "adv  61\n",
      "adv  62\n",
      "adv  63\n",
      "adv  64\n",
      "adv  65\n",
      "adv  66\n",
      "adv  67\n",
      "adv  68\n",
      "adv  69\n",
      "adv  70\n",
      "adv  71\n",
      "adv  72\n",
      "adv  73\n",
      "adv  74\n",
      "adv  75\n",
      "adv  76\n",
      "adv  77\n",
      "adv  78\n",
      "adv  79\n",
      "adv  80\n",
      "adv  81\n",
      "adv  82\n",
      "adv  83\n",
      "adv  84\n",
      "adv  85\n",
      "adv  86\n",
      "adv  87\n",
      "adv  88\n",
      "adv  89\n",
      "adv  90\n",
      "adv  91\n",
      "adv  92\n",
      "adv  93\n",
      "adv  94\n",
      "adv  95\n",
      "adv  96\n",
      "adv  97\n",
      "adv  98\n",
      "adv  99\n",
      "adv  100\n",
      "adv  101\n",
      "adv  102\n",
      "adv  103\n",
      "adv  104\n",
      "adv  105\n",
      "adv  106\n",
      "adv  107\n",
      "adv  108\n",
      "adv  109\n",
      "adv  110\n",
      "adv  111\n",
      "adv  112\n",
      "adv  113\n",
      "adv  114\n",
      "adv  115\n",
      "adv  116\n",
      "adv  117\n",
      "adv  118\n",
      "adv  119\n",
      "adv  120\n",
      "adv  121\n",
      "adv  122\n",
      "adv  123\n",
      "adv  124\n",
      "adv  125\n",
      "adv  126\n",
      "adv  127\n",
      "adv  128\n",
      "adv  129\n",
      "adv  130\n",
      "adv  131\n",
      "adv  132\n",
      "adv  133\n",
      "adv  134\n",
      "adv  135\n",
      "adv  136\n",
      "adv  137\n",
      "adv  138\n",
      "adv  139\n",
      "adv  140\n",
      "adv  141\n",
      "adv  142\n",
      "adv  143\n",
      "adv  144\n",
      "adv  145\n",
      "adv  146\n",
      "adv  147\n",
      "adv  148\n",
      "adv  149\n",
      "adv  150\n",
      "adv  151\n",
      "adv  152\n",
      "adv  153\n",
      "adv  154\n",
      "adv  155\n",
      "adv  156\n",
      "adv  157\n",
      "adv  158\n",
      "adv  159\n",
      "adv  160\n",
      "adv  161\n",
      "adv  162\n",
      "adv  163\n",
      "adv  164\n",
      "adv  165\n",
      "adv  166\n",
      "adv  167\n",
      "adv  168\n",
      "adv  169\n",
      "adv  170\n",
      "adv  171\n",
      "adv  172\n",
      "adv  173\n",
      "adv  174\n",
      "adv  175\n",
      "adv  176\n",
      "adv  177\n"
     ]
    }
   ],
   "source": [
    "eigs = []\n",
    "for i in range(len(all_gois)):\n",
    "    print('normal ', i)\n",
    "    eigs.append(nx.linalg.laplacian_spectrum(all_gois[i]))\n",
    "\n",
    "adv_eigs = []\n",
    "for i in range(len(adv_all_gois)):\n",
    "    print('adv ', i)\n",
    "    adv_eigs.append(nx.linalg.laplacian_spectrum(adv_all_gois[i]))"
   ]
  },
  {
   "cell_type": "code",
   "execution_count": 23,
   "metadata": {},
   "outputs": [],
   "source": [
    "num_top_eigs = 800\n",
    "top_eigs = np.zeros((len(eigs),num_top_eigs))\n",
    "for i in range(len(eigs)):\n",
    "#     top_eigs[i] = np.sort(eigs[i])[::-1][:num_top_eigs] # descending\n",
    "    top_eigs[i] = np.sort(eigs[i])[:num_top_eigs] # ascending\n",
    "    \n",
    "adv_top_eigs = np.zeros((len(adv_eigs),num_top_eigs))\n",
    "for i in range(len(adv_eigs)):\n",
    "#     adv_top_eigs[i] = np.sort(adv_eigs[i])[::-1][:num_top_eigs] # descending\n",
    "    adv_top_eigs[i] = np.sort(adv_eigs[i])[:num_top_eigs] # ascending"
   ]
  },
  {
   "cell_type": "code",
   "execution_count": 24,
   "metadata": {},
   "outputs": [
    {
     "data": {
      "text/plain": [
       "Text(0.5, 1.0, 'Distribution of Maximum Eigenvalue of Spectrum')"
      ]
     },
     "execution_count": 24,
     "metadata": {},
     "output_type": "execute_result"
    },
    {
     "data": {
      "image/png": "[encoded data removed]",
      "text/plain": [
       "<Figure size 432x288 with 1 Axes>"
      ]
     },
     "metadata": {
      "needs_background": "light"
     },
     "output_type": "display_data"
    }
   ],
   "source": [
    "plt.hist([np.amax(top_eigs, axis=1),np.amax(adv_top_eigs, axis=1)], bins='auto', color=COLORS, label=PLT_LABELS, edgecolor=EDGE_COLOR)\n",
    "plt.legend()\n",
    "plt.title('Distribution of Maximum Eigenvalue of Spectrum')"
   ]
  },
  {
   "cell_type": "code",
   "execution_count": null,
   "metadata": {},
   "outputs": [],
   "source": []
  },
  {
   "cell_type": "code",
   "execution_count": 25,
   "metadata": {},
   "outputs": [
    {
     "data": {
      "text/plain": [
       "Text(0.5, 1.0, 'Distribution of Mean Eigenvalue of Spectrum')"
      ]
     },
     "execution_count": 25,
     "metadata": {},
     "output_type": "execute_result"
    },
    {
     "data": {
      "image/png": "[encoded data removed]",
      "text/plain": [
       "<Figure size 432x288 with 1 Axes>"
      ]
     },
     "metadata": {
      "needs_background": "light"
     },
     "output_type": "display_data"
    }
   ],
   "source": [
    "plt.hist([np.mean(top_eigs, axis=1),np.mean(adv_top_eigs, axis=1)], bins='auto', color=COLORS, label=PLT_LABELS, edgecolor=EDGE_COLOR)\n",
    "plt.legend()\n",
    "plt.title('Distribution of Mean Eigenvalue of Spectrum')"
   ]
  },
  {
   "cell_type": "code",
   "execution_count": null,
   "metadata": {},
   "outputs": [],
   "source": []
  },
  {
   "cell_type": "code",
   "execution_count": 26,
   "metadata": {},
   "outputs": [
    {
     "data": {
      "text/plain": [
       "Text(0.5, 1.0, 'Distribution of Median Eigenvalue of Spectrum')"
      ]
     },
     "execution_count": 26,
     "metadata": {},
     "output_type": "execute_result"
    },
    {
     "data": {
      "image/png": "[encoded data removed]",
      "text/plain": [
       "<Figure size 432x288 with 1 Axes>"
      ]
     },
     "metadata": {
      "needs_background": "light"
     },
     "output_type": "display_data"
    }
   ],
   "source": [
    "plt.hist([np.median(top_eigs, axis=1),np.median(adv_top_eigs, axis=1)], bins='auto', color=COLORS, label=PLT_LABELS, edgecolor=EDGE_COLOR)\n",
    "plt.legend()\n",
    "plt.title('Distribution of Median Eigenvalue of Spectrum')"
   ]
  },
  {
   "cell_type": "code",
   "execution_count": null,
   "metadata": {},
   "outputs": [],
   "source": []
  },
  {
   "cell_type": "code",
   "execution_count": 27,
   "metadata": {},
   "outputs": [
    {
     "data": {
      "text/plain": [
       "Text(0.5, 1.0, 'Distribution of Minimum Eigenvalue of Spectrum')"
      ]
     },
     "execution_count": 27,
     "metadata": {},
     "output_type": "execute_result"
    },
    {
     "data": {
      "image/png": "[encoded data removed]",
      "text/plain": [
       "<Figure size 432x288 with 1 Axes>"
      ]
     },
     "metadata": {
      "needs_background": "light"
     },
     "output_type": "display_data"
    }
   ],
   "source": [
    "plt.hist([np.amin(top_eigs, axis=1),np.amin(adv_top_eigs, axis=1)], bins='auto', color=COLORS, label=PLT_LABELS, edgecolor=EDGE_COLOR)\n",
    "plt.legend()\n",
    "plt.title('Distribution of Minimum Eigenvalue of Spectrum')"
   ]
  },
  {
   "cell_type": "code",
   "execution_count": null,
   "metadata": {},
   "outputs": [],
   "source": []
  },
  {
   "cell_type": "code",
   "execution_count": 28,
   "metadata": {},
   "outputs": [
    {
     "data": {
      "text/plain": [
       "Text(0, 0.5, 'Probability')"
      ]
     },
     "execution_count": 28,
     "metadata": {},
     "output_type": "execute_result"
    },
    {
     "data": {
      "image/png": "[encoded data removed]",
      "text/plain": [
       "<Figure size 432x288 with 1 Axes>"
      ]
     },
     "metadata": {
      "needs_background": "light"
     },
     "output_type": "display_data"
    }
   ],
   "source": [
    "plt.hist([top_eigs[:,1], adv_top_eigs[:,1]], bins='auto',color=COLORS, label=PLT_LABELS, edgecolor=EDGE_COLOR)\n",
    "plt.legend()\n",
    "plt.title('Distribution of Algebraic Connectivity')\n",
    "plt.xlabel('Algebraic Connectivity')\n",
    "plt.ylabel('Probability')"
   ]
  },
  {
   "cell_type": "code",
   "execution_count": null,
   "metadata": {},
   "outputs": [],
   "source": []
  },
  {
   "cell_type": "code",
   "execution_count": 29,
   "metadata": {},
   "outputs": [],
   "source": [
    "mean_eigs = np.zeros((len(eigs),4))\n",
    "for i in range(len(eigs)):\n",
    "    mean_eigs[i] = [eigs[i].mean(), eigs[i].shape[0], np.median(eigs[i]), eigs[i][1]]\n",
    "    \n",
    "adv_mean_eigs = np.zeros((len(adv_eigs),4))\n",
    "for i in range(len(adv_eigs)):\n",
    "    adv_mean_eigs[i] = [adv_eigs[i].mean(), adv_eigs[i].shape[0], np.median(adv_eigs[i]), adv_eigs[i][1]]"
   ]
  },
  {
   "cell_type": "code",
   "execution_count": 30,
   "metadata": {},
   "outputs": [
    {
     "data": {
      "text/plain": [
       "Text(0.5, 1.0, 'Distribution of Mean Eigenvalues of Spectrum')"
      ]
     },
     "execution_count": 30,
     "metadata": {},
     "output_type": "execute_result"
    },
    {
     "data": {
      "image/png": "[encoded data removed]",
      "text/plain": [
       "<Figure size 432x288 with 1 Axes>"
      ]
     },
     "metadata": {
      "needs_background": "light"
     },
     "output_type": "display_data"
    }
   ],
   "source": [
    "plt.hist([mean_eigs[:,0], adv_mean_eigs[:,0]], bins='auto', color=COLORS, label=PLT_LABELS)\n",
    "plt.legend()\n",
    "plt.title('Distribution of Mean Eigenvalues of Spectrum')"
   ]
  },
  {
   "cell_type": "code",
   "execution_count": 31,
   "metadata": {},
   "outputs": [
    {
     "data": {
      "text/plain": [
       "Text(0.5, 1.0, 'Distribution of Median Eigenvalues of Spectrum')"
      ]
     },
     "execution_count": 31,
     "metadata": {},
     "output_type": "execute_result"
    },
    {
     "data": {
      "image/png": "[encoded data removed]",
      "text/plain": [
       "<Figure size 432x288 with 1 Axes>"
      ]
     },
     "metadata": {
      "needs_background": "light"
     },
     "output_type": "display_data"
    }
   ],
   "source": [
    "plt.hist([mean_eigs[:,2], adv_mean_eigs[:,2]], bins='auto', color=COLORS, label=PLT_LABELS)\n",
    "plt.legend()\n",
    "plt.title('Distribution of Median Eigenvalues of Spectrum')"
   ]
  },
  {
   "cell_type": "code",
   "execution_count": 32,
   "metadata": {},
   "outputs": [
    {
     "data": {
      "text/plain": [
       "Text(0.5, 1.0, 'Algebraic Connectivity')"
      ]
     },
     "execution_count": 32,
     "metadata": {},
     "output_type": "execute_result"
    },
    {
     "data": {
      "image/png": "[encoded data removed]",
      "text/plain": [
       "<Figure size 432x288 with 1 Axes>"
      ]
     },
     "metadata": {
      "needs_background": "light"
     },
     "output_type": "display_data"
    }
   ],
   "source": [
    "plt.hist([mean_eigs[:,3], adv_mean_eigs[:,3]], bins='auto', color=COLORS, label=PLT_LABELS)\n",
    "plt.legend()\n",
    "plt.title('Algebraic Connectivity')"
   ]
  },
  {
   "cell_type": "code",
   "execution_count": 33,
   "metadata": {},
   "outputs": [
    {
     "data": {
      "text/plain": [
       "Text(0.5, 1.0, 'Distribution of Spectrum Size')"
      ]
     },
     "execution_count": 33,
     "metadata": {},
     "output_type": "execute_result"
    },
    {
     "data": {
      "image/png": "[encoded data removed]",
      "text/plain": [
       "<Figure size 432x288 with 1 Axes>"
      ]
     },
     "metadata": {
      "needs_background": "light"
     },
     "output_type": "display_data"
    }
   ],
   "source": [
    "plt.hist([mean_eigs[:,1], adv_mean_eigs[:,1]], range=[3500, 8000], bins='auto', color=COLORS, label=PLT_LABELS)\n",
    "plt.legend()\n",
    "plt.title('Distribution of Spectrum Size')"
   ]
  },
  {
   "cell_type": "code",
   "execution_count": null,
   "metadata": {},
   "outputs": [],
   "source": []
  },
  {
   "cell_type": "code",
   "execution_count": null,
   "metadata": {},
   "outputs": [],
   "source": []
  },
  {
   "cell_type": "code",
   "execution_count": 34,
   "metadata": {},
   "outputs": [
    {
     "name": "stdout",
     "output_type": "stream",
     "text": [
      "0\n",
      "1\n",
      "2\n",
      "3\n",
      "4\n",
      "5\n",
      "6\n",
      "7\n",
      "8\n",
      "9\n",
      "10\n",
      "11\n",
      "12\n",
      "13\n",
      "14\n",
      "15\n",
      "16\n",
      "17\n",
      "18\n",
      "19\n",
      "20\n",
      "21\n",
      "22\n",
      "23\n",
      "24\n",
      "25\n",
      "26\n",
      "27\n",
      "28\n",
      "29\n",
      "30\n",
      "31\n",
      "32\n",
      "33\n",
      "34\n",
      "35\n",
      "36\n",
      "37\n",
      "38\n",
      "39\n",
      "40\n",
      "41\n",
      "42\n",
      "43\n",
      "44\n",
      "45\n",
      "46\n",
      "47\n",
      "48\n",
      "49\n",
      "50\n",
      "51\n",
      "52\n",
      "53\n",
      "54\n",
      "55\n",
      "56\n",
      "57\n",
      "58\n",
      "59\n",
      "60\n",
      "61\n",
      "62\n",
      "63\n",
      "64\n",
      "65\n",
      "66\n",
      "67\n",
      "68\n",
      "69\n",
      "70\n",
      "71\n",
      "72\n",
      "73\n",
      "74\n",
      "75\n",
      "76\n",
      "77\n",
      "78\n",
      "79\n",
      "80\n",
      "81\n",
      "82\n",
      "83\n",
      "84\n",
      "85\n",
      "86\n",
      "87\n",
      "88\n",
      "89\n",
      "90\n",
      "91\n",
      "92\n",
      "93\n",
      "94\n",
      "95\n",
      "96\n",
      "97\n",
      "98\n",
      "99\n",
      "100\n",
      "101\n",
      "102\n",
      "103\n",
      "104\n",
      "105\n",
      "106\n",
      "107\n",
      "108\n",
      "109\n",
      "110\n",
      "111\n",
      "112\n",
      "113\n",
      "114\n",
      "115\n",
      "116\n",
      "117\n",
      "118\n",
      "119\n",
      "120\n",
      "121\n",
      "122\n",
      "123\n",
      "124\n",
      "125\n",
      "126\n",
      "127\n",
      "128\n",
      "129\n",
      "130\n",
      "131\n",
      "132\n",
      "133\n",
      "134\n",
      "135\n",
      "136\n",
      "137\n",
      "138\n",
      "139\n",
      "140\n",
      "141\n",
      "142\n",
      "143\n",
      "144\n",
      "145\n",
      "146\n",
      "147\n",
      "148\n",
      "149\n",
      "150\n",
      "151\n",
      "152\n",
      "153\n",
      "154\n",
      "155\n",
      "156\n",
      "157\n",
      "158\n",
      "159\n",
      "160\n",
      "161\n",
      "162\n",
      "163\n",
      "164\n",
      "165\n",
      "166\n",
      "167\n",
      "168\n",
      "169\n",
      "170\n",
      "171\n",
      "172\n",
      "173\n",
      "174\n",
      "175\n",
      "176\n",
      "177\n",
      "0\n",
      "1\n",
      "2\n",
      "3\n",
      "4\n",
      "5\n",
      "6\n",
      "7\n",
      "8\n",
      "9\n",
      "10\n",
      "11\n",
      "12\n",
      "13\n",
      "14\n",
      "15\n",
      "16\n",
      "17\n",
      "18\n",
      "19\n",
      "20\n",
      "21\n",
      "22\n",
      "23\n",
      "24\n",
      "25\n",
      "26\n",
      "27\n",
      "28\n",
      "29\n",
      "30\n",
      "31\n",
      "32\n",
      "33\n",
      "34\n",
      "35\n",
      "36\n",
      "37\n",
      "38\n",
      "39\n",
      "40\n",
      "41\n",
      "42\n",
      "43\n",
      "44\n",
      "45\n",
      "46\n",
      "47\n",
      "48\n",
      "49\n",
      "50\n",
      "51\n",
      "52\n",
      "53\n",
      "54\n",
      "55\n",
      "56\n",
      "57\n",
      "58\n",
      "59\n",
      "60\n",
      "61\n",
      "62\n",
      "63\n",
      "64\n",
      "65\n",
      "66\n",
      "67\n",
      "68\n",
      "69\n",
      "70\n",
      "71\n",
      "72\n",
      "73\n",
      "74\n",
      "75\n",
      "76\n",
      "77\n",
      "78\n",
      "79\n",
      "80\n",
      "81\n",
      "82\n",
      "83\n",
      "84\n",
      "85\n",
      "86\n",
      "87\n",
      "88\n",
      "89\n",
      "90\n",
      "91\n",
      "92\n",
      "93\n",
      "94\n",
      "95\n",
      "96\n",
      "97\n",
      "98\n",
      "99\n",
      "100\n",
      "101\n",
      "102\n",
      "103\n",
      "104\n",
      "105\n",
      "106\n",
      "107\n",
      "108\n",
      "109\n",
      "110\n",
      "111\n",
      "112\n",
      "113\n",
      "114\n",
      "115\n",
      "116\n",
      "117\n",
      "118\n",
      "119\n",
      "120\n",
      "121\n",
      "122\n",
      "123\n",
      "124\n",
      "125\n",
      "126\n",
      "127\n",
      "128\n",
      "129\n",
      "130\n",
      "131\n",
      "132\n",
      "133\n",
      "134\n",
      "135\n",
      "136\n",
      "137\n",
      "138\n",
      "139\n",
      "140\n",
      "141\n",
      "142\n",
      "143\n",
      "144\n",
      "145\n",
      "146\n",
      "147\n",
      "148\n",
      "149\n",
      "150\n",
      "151\n",
      "152\n",
      "153\n",
      "154\n",
      "155\n",
      "156\n",
      "157\n",
      "158\n",
      "159\n",
      "160\n",
      "161\n",
      "162\n",
      "163\n",
      "164\n",
      "165\n",
      "166\n",
      "167\n",
      "168\n",
      "169\n",
      "170\n",
      "171\n",
      "172\n",
      "173\n",
      "174\n",
      "175\n",
      "176\n",
      "177\n",
      "normal  0\n",
      "normal  1\n",
      "normal  2\n",
      "normal  3\n",
      "normal  4\n",
      "normal  5\n",
      "normal  6\n",
      "normal  7\n",
      "normal  8\n",
      "normal  9\n",
      "normal  10\n",
      "normal  11\n",
      "normal  12\n",
      "normal  13\n",
      "normal  14\n",
      "normal  15\n",
      "normal  16\n",
      "normal  17\n",
      "normal  18\n",
      "normal  19\n",
      "normal  20\n",
      "normal  21\n",
      "normal  22\n",
      "normal  23\n",
      "normal  24\n",
      "normal  25\n",
      "normal  26\n",
      "normal  27\n",
      "normal  28\n",
      "normal  29\n",
      "normal  30\n",
      "normal  31\n",
      "normal  32\n",
      "normal  33\n",
      "normal  34\n",
      "normal  35\n",
      "normal  36\n",
      "normal  37\n",
      "normal  38\n",
      "normal  39\n",
      "normal  40\n",
      "normal  41\n",
      "normal  42\n",
      "normal  43\n",
      "normal  44\n",
      "normal  45\n",
      "normal  46\n",
      "normal  47\n",
      "normal  48\n",
      "normal  49\n",
      "normal  50\n",
      "normal  51\n",
      "normal  52\n",
      "normal  53\n",
      "normal  54\n",
      "normal  55\n",
      "normal  56\n",
      "normal  57\n",
      "normal  58\n",
      "normal  59\n",
      "normal  60\n",
      "normal  61\n",
      "normal  62\n",
      "normal  63\n",
      "normal  64\n",
      "normal  65\n",
      "normal  66\n",
      "normal  67\n",
      "normal  68\n",
      "normal  69\n",
      "normal  70\n",
      "normal  71\n",
      "normal  72\n",
      "normal  73\n",
      "normal  74\n",
      "normal  75\n",
      "normal  76\n",
      "normal  77\n",
      "normal  78\n",
      "normal  79\n",
      "normal  80\n",
      "normal  81\n",
      "normal  82\n",
      "normal  83\n",
      "normal  84\n",
      "normal  85\n",
      "normal  86\n",
      "normal  87\n",
      "normal  88\n",
      "normal  89\n",
      "normal  90\n",
      "normal  91\n",
      "normal  92\n",
      "normal  93\n",
      "normal  94\n",
      "normal  95\n",
      "normal  96\n",
      "normal  97\n",
      "normal  98\n",
      "normal  99\n",
      "normal  100\n",
      "normal  101\n",
      "normal  102\n",
      "normal  103\n",
      "normal  104\n",
      "normal  105\n",
      "normal  106\n",
      "normal  107\n",
      "normal  108\n",
      "normal  109\n",
      "normal  110\n",
      "normal  111\n",
      "normal  112\n",
      "normal  113\n",
      "normal  114\n",
      "normal  115\n",
      "normal  116\n",
      "normal  117\n",
      "normal  118\n",
      "normal  119\n",
      "normal  120\n",
      "normal  121\n",
      "normal  122\n",
      "normal  123\n",
      "normal  124\n",
      "normal  125\n",
      "normal  126\n",
      "normal  127\n",
      "normal  128\n",
      "normal  129\n",
      "normal  130\n",
      "normal  131\n",
      "normal  132\n",
      "normal  133\n",
      "normal  134\n",
      "normal  135\n",
      "normal  136\n",
      "normal  137\n",
      "normal  138\n",
      "normal  139\n",
      "normal  140\n",
      "normal  141\n",
      "normal  142\n",
      "normal  143\n",
      "normal  144\n",
      "normal  145\n",
      "normal  146\n",
      "normal  147\n",
      "normal  148\n",
      "normal  149\n",
      "normal  150\n",
      "normal  151\n",
      "normal  152\n",
      "normal  153\n",
      "normal  154\n",
      "normal  155\n",
      "normal  156\n",
      "normal  157\n",
      "normal  158\n",
      "normal  159\n",
      "normal  160\n",
      "normal  161\n",
      "normal  162\n",
      "normal  163\n",
      "normal  164\n",
      "normal  165\n",
      "normal  166\n",
      "normal  167\n",
      "normal  168\n",
      "normal  169\n",
      "normal  170\n",
      "normal  171\n",
      "normal  172\n",
      "normal  173\n",
      "normal  174\n",
      "normal  175\n",
      "normal  176\n",
      "normal  177\n",
      "adv  0\n",
      "adv  1\n",
      "adv  2\n",
      "adv  3\n",
      "adv  4\n",
      "adv  5\n",
      "adv  6\n",
      "adv  7\n",
      "adv  8\n",
      "adv  9\n",
      "adv  10\n",
      "adv  11\n",
      "adv  12\n",
      "adv  13\n",
      "adv  14\n",
      "adv  15\n",
      "adv  16\n",
      "adv  17\n",
      "adv  18\n",
      "adv  19\n",
      "adv  20\n",
      "adv  21\n",
      "adv  22\n",
      "adv  23\n",
      "adv  24\n",
      "adv  25\n",
      "adv  26\n",
      "adv  27\n",
      "adv  28\n",
      "adv  29\n",
      "adv  30\n",
      "adv  31\n",
      "adv  32\n",
      "adv  33\n",
      "adv  34\n",
      "adv  35\n",
      "adv  36\n",
      "adv  37\n",
      "adv  38\n",
      "adv  39\n",
      "adv  40\n",
      "adv  41\n",
      "adv  42\n",
      "adv  43\n",
      "adv  44\n",
      "adv  45\n",
      "adv  46\n",
      "adv  47\n",
      "adv  48\n",
      "adv  49\n",
      "adv  50\n",
      "adv  51\n",
      "adv  52\n",
      "adv  53\n",
      "adv  54\n",
      "adv  55\n",
      "adv  56\n",
      "adv  57\n",
      "adv  58\n",
      "adv  59\n",
      "adv  60\n",
      "adv  61\n",
      "adv  62\n",
      "adv  63\n",
      "adv  64\n",
      "adv  65\n",
      "adv  66\n",
      "adv  67\n",
      "adv  68\n",
      "adv  69\n",
      "adv  70\n",
      "adv  71\n",
      "adv  72\n",
      "adv  73\n",
      "adv  74\n",
      "adv  75\n",
      "adv  76\n",
      "adv  77\n",
      "adv  78\n",
      "adv  79\n",
      "adv  80\n",
      "adv  81\n",
      "adv  82\n",
      "adv  83\n",
      "adv  84\n",
      "adv  85\n",
      "adv  86\n",
      "adv  87\n",
      "adv  88\n",
      "adv  89\n",
      "adv  90\n",
      "adv  91\n",
      "adv  92\n",
      "adv  93\n",
      "adv  94\n",
      "adv  95\n",
      "adv  96\n",
      "adv  97\n",
      "adv  98\n",
      "adv  99\n",
      "adv  100\n",
      "adv  101\n",
      "adv  102\n",
      "adv  103\n",
      "adv  104\n",
      "adv  105\n",
      "adv  106\n",
      "adv  107\n",
      "adv  108\n",
      "adv  109\n",
      "adv  110\n",
      "adv  111\n",
      "adv  112\n",
      "adv  113\n",
      "adv  114\n",
      "adv  115\n",
      "adv  116\n",
      "adv  117\n",
      "adv  118\n",
      "adv  119\n",
      "adv  120\n",
      "adv  121\n",
      "adv  122\n",
      "adv  123\n",
      "adv  124\n",
      "adv  125\n",
      "adv  126\n",
      "adv  127\n",
      "adv  128\n",
      "adv  129\n",
      "adv  130\n",
      "adv  131\n",
      "adv  132\n",
      "adv  133\n",
      "adv  134\n",
      "adv  135\n",
      "adv  136\n",
      "adv  137\n",
      "adv  138\n",
      "adv  139\n",
      "adv  140\n",
      "adv  141\n",
      "adv  142\n",
      "adv  143\n",
      "adv  144\n",
      "adv  145\n",
      "adv  146\n",
      "adv  147\n",
      "adv  148\n",
      "adv  149\n",
      "adv  150\n",
      "adv  151\n",
      "adv  152\n",
      "adv  153\n",
      "adv  154\n",
      "adv  155\n",
      "adv  156\n",
      "adv  157\n",
      "adv  158\n",
      "adv  159\n",
      "adv  160\n",
      "adv  161\n",
      "adv  162\n",
      "adv  163\n",
      "adv  164\n",
      "adv  165\n",
      "adv  166\n",
      "adv  167\n",
      "adv  168\n",
      "adv  169\n",
      "adv  170\n",
      "adv  171\n",
      "adv  172\n",
      "adv  173\n",
      "adv  174\n",
      "adv  175\n",
      "adv  176\n",
      "adv  177\n"
     ]
    }
   ],
   "source": [
    "some_num = 10\n",
    "some_gois = []\n",
    "for i in range(len(sample_graphs)):\n",
    "    print(i)\n",
    "    sgik = list(sample_graphs[i].keys())\n",
    "    a = [sample_graphs[i][k] for k in sgik[len(sgik)-some_num:]]\n",
    "    some_gois.append(nx.compose_all(a))\n",
    "    \n",
    "adv_some_gois = []\n",
    "for i in range(len(adv_sample_graphs)):\n",
    "    print(i)\n",
    "    sgik = list(adv_sample_graphs[i].keys())\n",
    "    a = [adv_sample_graphs[i][k] for k in sgik[len(sgik)-some_num:]]\n",
    "    adv_some_gois.append(nx.compose_all(a))\n",
    "    \n",
    "some_eigs = []\n",
    "for i in range(len(some_gois)):\n",
    "    print('normal ', i)\n",
    "    some_eigs.append(nx.linalg.laplacian_spectrum(some_gois[i]))\n",
    "\n",
    "adv_some_eigs = []\n",
    "for i in range(len(adv_some_gois)):\n",
    "    print('adv ', i)\n",
    "    adv_some_eigs.append(nx.linalg.laplacian_spectrum(adv_some_gois[i]))"
   ]
  },
  {
   "cell_type": "code",
   "execution_count": 35,
   "metadata": {},
   "outputs": [],
   "source": [
    "some_mean_eigs = np.zeros((len(some_eigs),5))\n",
    "for i in range(len(some_eigs)):\n",
    "    some_mean_eigs[i] = [some_eigs[i].mean(), some_eigs[i].shape[0], np.median(some_eigs[i]), some_eigs[i].min(), some_eigs[i].max()]\n",
    "    \n",
    "adv_some_mean_eigs = np.zeros((len(adv_some_eigs),5))\n",
    "for i in range(len(adv_some_eigs)):\n",
    "    adv_some_mean_eigs[i] = [adv_some_eigs[i].mean(), adv_some_eigs[i].shape[0], np.median(adv_some_eigs[i]), adv_some_eigs[i].min(), adv_some_eigs[i].max()]"
   ]
  },
  {
   "cell_type": "code",
   "execution_count": 36,
   "metadata": {},
   "outputs": [
    {
     "data": {
      "text/plain": [
       "Text(0.5, 1.0, 'Distribution of Mean Eigenvalues of Spectrum')"
      ]
     },
     "execution_count": 36,
     "metadata": {},
     "output_type": "execute_result"
    },
    {
     "data": {
      "image/png": "[encoded data removed]",
      "text/plain": [
       "<Figure size 432x288 with 1 Axes>"
      ]
     },
     "metadata": {
      "needs_background": "light"
     },
     "output_type": "display_data"
    }
   ],
   "source": [
    "plt.hist([some_mean_eigs[:,0], adv_some_mean_eigs[:,0]], bins='auto', color=COLORS, label=PLT_LABELS)\n",
    "plt.legend()\n",
    "plt.title('Distribution of Mean Eigenvalues of Spectrum')"
   ]
  },
  {
   "cell_type": "code",
   "execution_count": 37,
   "metadata": {},
   "outputs": [
    {
     "data": {
      "text/plain": [
       "Text(0.5, 1.0, 'Distribution of Median Eigenvalues of Spectrum')"
      ]
     },
     "execution_count": 37,
     "metadata": {},
     "output_type": "execute_result"
    },
    {
     "data": {
      "image/png": "[encoded data removed]",
      "text/plain": [
       "<Figure size 432x288 with 1 Axes>"
      ]
     },
     "metadata": {
      "needs_background": "light"
     },
     "output_type": "display_data"
    }
   ],
   "source": [
    "plt.hist([some_mean_eigs[:,2], adv_some_mean_eigs[:,2]], bins='auto', color=COLORS, label=PLT_LABELS)\n",
    "plt.legend()\n",
    "plt.title('Distribution of Median Eigenvalues of Spectrum')"
   ]
  },
  {
   "cell_type": "code",
   "execution_count": 38,
   "metadata": {},
   "outputs": [
    {
     "data": {
      "text/plain": [
       "Text(0.5, 1.0, 'Distribution of Spectrum Size')"
      ]
     },
     "execution_count": 38,
     "metadata": {},
     "output_type": "execute_result"
    },
    {
     "data": {
      "image/png": "[encoded data removed]",
      "text/plain": [
       "<Figure size 432x288 with 1 Axes>"
      ]
     },
     "metadata": {
      "needs_background": "light"
     },
     "output_type": "display_data"
    }
   ],
   "source": [
    "plt.hist([some_mean_eigs[:,1], adv_some_mean_eigs[:,1]], bins='auto', color=COLORS, label=PLT_LABELS)\n",
    "plt.legend()\n",
    "plt.title('Distribution of Spectrum Size')"
   ]
  },
  {
   "cell_type": "code",
   "execution_count": 39,
   "metadata": {
    "scrolled": true
   },
   "outputs": [
    {
     "data": {
      "text/plain": [
       "Text(0.5, 1.0, 'Distribution of Minimum Eigenvalue of Spectrum')"
      ]
     },
     "execution_count": 39,
     "metadata": {},
     "output_type": "execute_result"
    },
    {
     "data": {
      "image/png": "[encoded data removed]",
      "text/plain": [
       "<Figure size 432x288 with 1 Axes>"
      ]
     },
     "metadata": {
      "needs_background": "light"
     },
     "output_type": "display_data"
    }
   ],
   "source": [
    "plt.hist([some_mean_eigs[:,3], adv_some_mean_eigs[:,3]], bins='auto', color=COLORS, label=PLT_LABELS)\n",
    "plt.legend()\n",
    "plt.title('Distribution of Minimum Eigenvalue of Spectrum')"
   ]
  },
  {
   "cell_type": "code",
   "execution_count": 40,
   "metadata": {},
   "outputs": [
    {
     "data": {
      "text/plain": [
       "Text(0.5, 1.0, 'Distribution of Maximum Eigenvalue of Spectrum')"
      ]
     },
     "execution_count": 40,
     "metadata": {},
     "output_type": "execute_result"
    },
    {
     "data": {
      "image/png": "[encoded data removed]",
      "text/plain": [
       "<Figure size 432x288 with 1 Axes>"
      ]
     },
     "metadata": {
      "needs_background": "light"
     },
     "output_type": "display_data"
    }
   ],
   "source": [
    "plt.hist([some_mean_eigs[:,4], adv_some_mean_eigs[:,4]], bins='auto', color=COLORS, label=PLT_LABELS, edgecolor=EDGE_COLOR)\n",
    "plt.legend()\n",
    "plt.title('Distribution of Maximum Eigenvalue of Spectrum')"
   ]
  },
  {
   "cell_type": "code",
   "execution_count": null,
   "metadata": {},
   "outputs": [],
   "source": []
  },
  {
   "cell_type": "code",
   "execution_count": 41,
   "metadata": {},
   "outputs": [
    {
     "name": "stderr",
     "output_type": "stream",
     "text": [
      "/home/tgebhart/.local/lib/python3.6/site-packages/networkx/drawing/nx_pylab.py:611: MatplotlibDeprecationWarning: isinstance(..., numbers.Number)\n",
      "  if cb.is_numlike(alpha):\n"
     ]
    },
    {
     "data": {
      "image/png": "[encoded data removed]",
      "text/plain": [
       "<Figure size 432x288 with 1 Axes>"
      ]
     },
     "metadata": {},
     "output_type": "display_data"
    }
   ],
   "source": [
    "options = {\n",
    "    'node_color': COLORS[0],\n",
    "    'node_size': 2,\n",
    "    'width': 2,\n",
    "    'with_labels':False}\n",
    "nx.draw_spring(some_gois[2], **options)"
   ]
  },
  {
   "cell_type": "code",
   "execution_count": 42,
   "metadata": {},
   "outputs": [
    {
     "data": {
      "image/png": "[encoded data removed]",
      "text/plain": [
       "<Figure size 432x288 with 1 Axes>"
      ]
     },
     "metadata": {},
     "output_type": "display_data"
    }
   ],
   "source": [
    "options = {\n",
    "    'node_color': COLORS[1],\n",
    "    'node_size': 2,\n",
    "    'width': 2,\n",
    "    'with_labels':False}\n",
    "nx.draw_spring(adv_some_gois[2], **options)"
   ]
  },
  {
   "cell_type": "code",
   "execution_count": null,
   "metadata": {},
   "outputs": [],
   "source": []
  },
  {
   "cell_type": "code",
   "execution_count": 43,
   "metadata": {},
   "outputs": [
    {
     "name": "stdout",
     "output_type": "stream",
     "text": [
      "0\n",
      "1\n",
      "2\n",
      "3\n",
      "4\n",
      "5\n",
      "6\n",
      "7\n",
      "8\n",
      "9\n",
      "10\n",
      "11\n",
      "12\n",
      "13\n",
      "14\n",
      "15\n",
      "16\n",
      "17\n",
      "18\n",
      "19\n",
      "20\n",
      "21\n",
      "22\n",
      "23\n",
      "24\n",
      "25\n",
      "26\n",
      "27\n",
      "28\n",
      "29\n",
      "30\n",
      "31\n",
      "32\n",
      "33\n",
      "34\n",
      "35\n",
      "36\n",
      "37\n",
      "38\n",
      "39\n",
      "40\n",
      "41\n",
      "42\n",
      "43\n",
      "44\n",
      "45\n",
      "46\n",
      "47\n",
      "48\n",
      "49\n",
      "50\n",
      "51\n",
      "52\n",
      "53\n",
      "54\n",
      "55\n",
      "56\n",
      "57\n",
      "58\n",
      "59\n",
      "60\n",
      "61\n",
      "62\n",
      "63\n",
      "64\n",
      "65\n",
      "66\n",
      "67\n",
      "68\n",
      "69\n",
      "70\n",
      "71\n",
      "72\n",
      "73\n",
      "74\n",
      "75\n",
      "76\n",
      "77\n",
      "78\n",
      "79\n",
      "80\n",
      "81\n",
      "82\n",
      "83\n",
      "84\n",
      "85\n",
      "86\n",
      "87\n",
      "88\n",
      "89\n",
      "90\n",
      "91\n",
      "92\n",
      "93\n",
      "94\n",
      "95\n",
      "96\n",
      "97\n",
      "98\n",
      "99\n",
      "100\n",
      "101\n",
      "102\n",
      "103\n",
      "104\n",
      "105\n",
      "106\n",
      "107\n",
      "108\n",
      "109\n",
      "110\n",
      "111\n",
      "112\n",
      "113\n",
      "114\n",
      "115\n",
      "116\n",
      "117\n",
      "118\n",
      "119\n",
      "120\n",
      "121\n",
      "122\n",
      "123\n",
      "124\n",
      "125\n",
      "126\n",
      "127\n",
      "128\n",
      "129\n",
      "130\n",
      "131\n",
      "132\n",
      "133\n",
      "134\n",
      "135\n",
      "136\n",
      "137\n",
      "138\n",
      "139\n",
      "140\n",
      "141\n",
      "142\n",
      "143\n",
      "144\n",
      "145\n",
      "146\n",
      "147\n",
      "148\n",
      "149\n",
      "150\n",
      "151\n",
      "152\n",
      "153\n",
      "154\n",
      "155\n",
      "156\n",
      "157\n",
      "158\n",
      "159\n",
      "160\n",
      "161\n",
      "162\n",
      "163\n",
      "164\n",
      "165\n",
      "166\n",
      "167\n",
      "168\n",
      "169\n",
      "170\n",
      "171\n",
      "172\n",
      "173\n",
      "174\n",
      "175\n",
      "176\n",
      "177\n",
      "0\n",
      "1\n",
      "2\n",
      "3\n",
      "4\n",
      "5\n",
      "6\n",
      "7\n",
      "8\n",
      "9\n",
      "10\n",
      "11\n",
      "12\n",
      "13\n",
      "14\n",
      "15\n",
      "16\n",
      "17\n",
      "18\n",
      "19\n",
      "20\n",
      "21\n",
      "22\n",
      "23\n",
      "24\n",
      "25\n",
      "26\n",
      "27\n",
      "28\n",
      "29\n",
      "30\n",
      "31\n",
      "32\n",
      "33\n",
      "34\n",
      "35\n",
      "36\n",
      "37\n",
      "38\n",
      "39\n",
      "40\n",
      "41\n",
      "42\n",
      "43\n",
      "44\n",
      "45\n",
      "46\n",
      "47\n",
      "48\n",
      "49\n",
      "50\n",
      "51\n",
      "52\n",
      "53\n",
      "54\n",
      "55\n",
      "56\n",
      "57\n",
      "58\n",
      "59\n",
      "60\n",
      "61\n",
      "62\n",
      "63\n",
      "64\n",
      "65\n",
      "66\n",
      "67\n",
      "68\n",
      "69\n",
      "70\n",
      "71\n",
      "72\n",
      "73\n",
      "74\n",
      "75\n",
      "76\n",
      "77\n",
      "78\n",
      "79\n",
      "80\n",
      "81\n",
      "82\n",
      "83\n",
      "84\n",
      "85\n",
      "86\n",
      "87\n",
      "88\n",
      "89\n",
      "90\n",
      "91\n",
      "92\n",
      "93\n",
      "94\n",
      "95\n",
      "96\n",
      "97\n",
      "98\n",
      "99\n",
      "100\n",
      "101\n",
      "102\n",
      "103\n",
      "104\n",
      "105\n",
      "106\n",
      "107\n",
      "108\n",
      "109\n",
      "110\n",
      "111\n",
      "112\n",
      "113\n",
      "114\n",
      "115\n",
      "116\n",
      "117\n",
      "118\n",
      "119\n",
      "120\n",
      "121\n",
      "122\n",
      "123\n",
      "124\n",
      "125\n",
      "126\n",
      "127\n",
      "128\n",
      "129\n",
      "130\n",
      "131\n",
      "132\n",
      "133\n",
      "134\n",
      "135\n",
      "136\n",
      "137\n",
      "138\n",
      "139\n",
      "140\n",
      "141\n",
      "142\n",
      "143\n",
      "144\n",
      "145\n",
      "146\n",
      "147\n",
      "148\n",
      "149\n",
      "150\n",
      "151\n",
      "152\n",
      "153\n",
      "154\n",
      "155\n",
      "156\n",
      "157\n",
      "158\n",
      "159\n",
      "160\n",
      "161\n",
      "162\n",
      "163\n",
      "164\n",
      "165\n",
      "166\n",
      "167\n",
      "168\n",
      "169\n",
      "170\n",
      "171\n",
      "172\n",
      "173\n",
      "174\n",
      "175\n",
      "176\n",
      "177\n",
      "normal  0\n",
      "normal  1\n",
      "normal  2\n",
      "normal  3\n",
      "normal  4\n",
      "normal  5\n",
      "normal  6\n",
      "normal  7\n",
      "normal  8\n",
      "normal  9\n",
      "normal  10\n",
      "normal  11\n",
      "normal  12\n",
      "normal  13\n",
      "normal  14\n",
      "normal  15\n",
      "normal  16\n",
      "normal  17\n",
      "normal  18\n",
      "normal  19\n",
      "normal  20\n",
      "normal  21\n",
      "normal  22\n",
      "normal  23\n",
      "normal  24\n",
      "normal  25\n",
      "normal  26\n",
      "normal  27\n",
      "normal  28\n",
      "normal  29\n",
      "normal  30\n",
      "normal  31\n",
      "normal  32\n",
      "normal  33\n",
      "normal  34\n",
      "normal  35\n",
      "normal  36\n",
      "normal  37\n",
      "normal  38\n",
      "normal  39\n",
      "normal  40\n",
      "normal  41\n",
      "normal  42\n",
      "normal  43\n",
      "normal  44\n",
      "normal  45\n",
      "normal  46\n",
      "normal  47\n",
      "normal  48\n",
      "normal  49\n",
      "normal  50\n",
      "normal  51\n",
      "normal  52\n",
      "normal  53\n",
      "normal  54\n",
      "normal  55\n",
      "normal  56\n",
      "normal  57\n",
      "normal  58\n",
      "normal  59\n",
      "normal  60\n",
      "normal  61\n",
      "normal  62\n",
      "normal  63\n",
      "normal  64\n",
      "normal  65\n",
      "normal  66\n",
      "normal  67\n",
      "normal  68\n",
      "normal  69\n",
      "normal  70\n",
      "normal  71\n",
      "normal  72\n",
      "normal  73\n",
      "normal  74\n",
      "normal  75\n",
      "normal  76\n",
      "normal  77\n",
      "normal  78\n",
      "normal  79\n",
      "normal  80\n",
      "normal  81\n",
      "normal  82\n",
      "normal  83\n",
      "normal  84\n",
      "normal  85\n",
      "normal  86\n",
      "normal  87\n",
      "normal  88\n",
      "normal  89\n",
      "normal  90\n",
      "normal  91\n",
      "normal  92\n",
      "normal  93\n",
      "normal  94\n",
      "normal  95\n",
      "normal  96\n",
      "normal  97\n",
      "normal  98\n",
      "normal  99\n",
      "normal  100\n",
      "normal  101\n",
      "normal  102\n",
      "normal  103\n",
      "normal  104\n",
      "normal  105\n",
      "normal  106\n",
      "normal  107\n",
      "normal  108\n",
      "normal  109\n",
      "normal  110\n",
      "normal  111\n",
      "normal  112\n",
      "normal  113\n",
      "normal  114\n",
      "normal  115\n",
      "normal  116\n",
      "normal  117\n",
      "normal  118\n",
      "normal  119\n",
      "normal  120\n",
      "normal  121\n",
      "normal  122\n",
      "normal  123\n",
      "normal  124\n",
      "normal  125\n",
      "normal  126\n",
      "normal  127\n",
      "normal  128\n",
      "normal  129\n",
      "normal  130\n",
      "normal  131\n",
      "normal  132\n",
      "normal  133\n",
      "normal  134\n",
      "normal  135\n",
      "normal  136\n",
      "normal  137\n",
      "normal  138\n",
      "normal  139\n",
      "normal  140\n",
      "normal  141\n",
      "normal  142\n",
      "normal  143\n",
      "normal  144\n",
      "normal  145\n",
      "normal  146\n",
      "normal  147\n",
      "normal  148\n",
      "normal  149\n",
      "normal  150\n",
      "normal  151\n",
      "normal  152\n",
      "normal  153\n",
      "normal  154\n",
      "normal  155\n",
      "normal  156\n",
      "normal  157\n",
      "normal  158\n",
      "normal  159\n",
      "normal  160\n",
      "normal  161\n",
      "normal  162\n",
      "normal  163\n",
      "normal  164\n",
      "normal  165\n",
      "normal  166\n",
      "normal  167\n",
      "normal  168\n",
      "normal  169\n",
      "normal  170\n",
      "normal  171\n",
      "normal  172\n",
      "normal  173\n",
      "normal  174\n",
      "normal  175\n",
      "normal  176\n",
      "normal  177\n",
      "adv  0\n",
      "adv  1\n",
      "adv  2\n",
      "adv  3\n",
      "adv  4\n",
      "adv  5\n",
      "adv  6\n",
      "adv  7\n",
      "adv  8\n",
      "adv  9\n",
      "adv  10\n",
      "adv  11\n",
      "adv  12\n",
      "adv  13\n",
      "adv  14\n",
      "adv  15\n",
      "adv  16\n",
      "adv  17\n",
      "adv  18\n",
      "adv  19\n",
      "adv  20\n",
      "adv  21\n",
      "adv  22\n",
      "adv  23\n",
      "adv  24\n",
      "adv  25\n",
      "adv  26\n",
      "adv  27\n",
      "adv  28\n",
      "adv  29\n",
      "adv  30\n",
      "adv  31\n",
      "adv  32\n",
      "adv  33\n",
      "adv  34\n",
      "adv  35\n",
      "adv  36\n",
      "adv  37\n",
      "adv  38\n",
      "adv  39\n",
      "adv  40\n",
      "adv  41\n",
      "adv  42\n",
      "adv  43\n",
      "adv  44\n",
      "adv  45\n",
      "adv  46\n",
      "adv  47\n",
      "adv  48\n",
      "adv  49\n",
      "adv  50\n",
      "adv  51\n",
      "adv  52\n",
      "adv  53\n",
      "adv  54\n",
      "adv  55\n",
      "adv  56\n",
      "adv  57\n",
      "adv  58\n",
      "adv  59\n",
      "adv  60\n",
      "adv  61\n",
      "adv  62\n",
      "adv  63\n",
      "adv  64\n",
      "adv  65\n",
      "adv  66\n",
      "adv  67\n",
      "adv  68\n",
      "adv  69\n",
      "adv  70\n",
      "adv  71\n",
      "adv  72\n",
      "adv  73\n",
      "adv  74\n",
      "adv  75\n",
      "adv  76\n",
      "adv  77\n",
      "adv  78\n",
      "adv  79\n",
      "adv  80\n",
      "adv  81\n",
      "adv  82\n",
      "adv  83\n",
      "adv  84\n",
      "adv  85\n",
      "adv  86\n",
      "adv  87\n",
      "adv  88\n",
      "adv  89\n",
      "adv  90\n",
      "adv  91\n",
      "adv  92\n",
      "adv  93\n",
      "adv  94\n",
      "adv  95\n",
      "adv  96\n",
      "adv  97\n",
      "adv  98\n",
      "adv  99\n",
      "adv  100\n",
      "adv  101\n",
      "adv  102\n",
      "adv  103\n",
      "adv  104\n",
      "adv  105\n",
      "adv  106\n",
      "adv  107\n",
      "adv  108\n",
      "adv  109\n",
      "adv  110\n",
      "adv  111\n",
      "adv  112\n",
      "adv  113\n",
      "adv  114\n",
      "adv  115\n",
      "adv  116\n",
      "adv  117\n",
      "adv  118\n",
      "adv  119\n",
      "adv  120\n",
      "adv  121\n",
      "adv  122\n",
      "adv  123\n",
      "adv  124\n",
      "adv  125\n",
      "adv  126\n",
      "adv  127\n",
      "adv  128\n",
      "adv  129\n",
      "adv  130\n",
      "adv  131\n",
      "adv  132\n",
      "adv  133\n",
      "adv  134\n",
      "adv  135\n",
      "adv  136\n",
      "adv  137\n",
      "adv  138\n",
      "adv  139\n",
      "adv  140\n",
      "adv  141\n",
      "adv  142\n",
      "adv  143\n",
      "adv  144\n",
      "adv  145\n",
      "adv  146\n",
      "adv  147\n",
      "adv  148\n",
      "adv  149\n",
      "adv  150\n",
      "adv  151\n",
      "adv  152\n",
      "adv  153\n",
      "adv  154\n",
      "adv  155\n",
      "adv  156\n",
      "adv  157\n",
      "adv  158\n",
      "adv  159\n",
      "adv  160\n",
      "adv  161\n",
      "adv  162\n",
      "adv  163\n",
      "adv  164\n",
      "adv  165\n",
      "adv  166\n",
      "adv  167\n",
      "adv  168\n",
      "adv  169\n",
      "adv  170\n",
      "adv  171\n",
      "adv  172\n",
      "adv  173\n",
      "adv  174\n",
      "adv  175\n",
      "adv  176\n",
      "adv  177\n"
     ]
    }
   ],
   "source": [
    "some_num = 10\n",
    "some_gois2 = []\n",
    "for i in range(len(sample_graphs)):\n",
    "    print(i)\n",
    "    sgik = list(sample_graphs[i].keys())\n",
    "    a = [sample_graphs[i][k] for k in sgik[:some_num]]\n",
    "    some_gois2.append(nx.compose_all(a))\n",
    "    \n",
    "adv_some_gois2 = []\n",
    "for i in range(len(adv_sample_graphs)):\n",
    "    print(i)\n",
    "    sgik = list(adv_sample_graphs[i].keys())\n",
    "    a = [adv_sample_graphs[i][k] for k in sgik[:some_num]]\n",
    "    adv_some_gois2.append(nx.compose_all(a))\n",
    "    \n",
    "some_eigs2 = []\n",
    "for i in range(len(some_gois)):\n",
    "    print('normal ', i)\n",
    "    some_eigs2.append(nx.linalg.laplacian_spectrum(some_gois2[i]))\n",
    "\n",
    "adv_some_eigs2 = []\n",
    "for i in range(len(adv_some_gois)):\n",
    "    print('adv ', i)\n",
    "    adv_some_eigs2.append(nx.linalg.laplacian_spectrum(adv_some_gois2[i]))"
   ]
  },
  {
   "cell_type": "code",
   "execution_count": 44,
   "metadata": {},
   "outputs": [],
   "source": [
    "some_mean_eigs2 = np.zeros((len(some_eigs2),5))\n",
    "for i in range(len(some_eigs)):\n",
    "    some_mean_eigs2[i] = [some_eigs2[i].mean(), some_eigs2[i].shape[0], np.median(some_eigs2[i]), some_eigs2[i].min(), some_eigs2[i].max()]\n",
    "    \n",
    "adv_some_mean_eigs2 = np.zeros((len(adv_some_eigs2),5))\n",
    "for i in range(len(adv_some_eigs2)):\n",
    "    adv_some_mean_eigs2[i] = [adv_some_eigs2[i].mean(), adv_some_eigs2[i].shape[0], np.median(adv_some_eigs2[i]), adv_some_eigs2[i].min(), adv_some_eigs2[i].max()]"
   ]
  },
  {
   "cell_type": "code",
   "execution_count": 45,
   "metadata": {},
   "outputs": [
    {
     "data": {
      "text/plain": [
       "Text(0.5, 1.0, 'Distribution of Mean Eigenvalues of Spectrum')"
      ]
     },
     "execution_count": 45,
     "metadata": {},
     "output_type": "execute_result"
    },
    {
     "data": {
      "image/png": "[encoded data removed]",
      "text/plain": [
       "<Figure size 432x288 with 1 Axes>"
      ]
     },
     "metadata": {
      "needs_background": "light"
     },
     "output_type": "display_data"
    }
   ],
   "source": [
    "plt.hist([some_mean_eigs2[:,0], adv_some_mean_eigs2[:,0]], bins='auto', color=COLORS, label=PLT_LABELS)\n",
    "plt.legend()\n",
    "plt.title('Distribution of Mean Eigenvalues of Spectrum')"
   ]
  },
  {
   "cell_type": "code",
   "execution_count": 46,
   "metadata": {},
   "outputs": [
    {
     "data": {
      "text/plain": [
       "Text(0.5, 1.0, 'Distribution of Median Eigenvalues of Spectrum')"
      ]
     },
     "execution_count": 46,
     "metadata": {},
     "output_type": "execute_result"
    },
    {
     "data": {
      "image/png": "[encoded data removed]",
      "text/plain": [
       "<Figure size 432x288 with 1 Axes>"
      ]
     },
     "metadata": {
      "needs_background": "light"
     },
     "output_type": "display_data"
    }
   ],
   "source": [
    "plt.hist([some_mean_eigs2[:,2], adv_some_mean_eigs2[:,2]], bins='auto', color=COLORS, label=PLT_LABELS)\n",
    "plt.legend()\n",
    "plt.title('Distribution of Median Eigenvalues of Spectrum')"
   ]
  },
  {
   "cell_type": "code",
   "execution_count": 47,
   "metadata": {},
   "outputs": [
    {
     "data": {
      "text/plain": [
       "Text(0.5, 1.0, 'Distribution of Spectrum Size')"
      ]
     },
     "execution_count": 47,
     "metadata": {},
     "output_type": "execute_result"
    },
    {
     "data": {
      "image/png": "[encoded data removed]",
      "text/plain": [
       "<Figure size 432x288 with 1 Axes>"
      ]
     },
     "metadata": {
      "needs_background": "light"
     },
     "output_type": "display_data"
    }
   ],
   "source": [
    "plt.hist([some_mean_eigs2[:,1], adv_some_mean_eigs2[:,1]], bins='auto', color=COLORS, label=PLT_LABELS, edgecolor=EDGE_COLOR)\n",
    "plt.legend()\n",
    "plt.title('Distribution of Spectrum Size')"
   ]
  },
  {
   "cell_type": "code",
   "execution_count": 48,
   "metadata": {},
   "outputs": [
    {
     "data": {
      "text/plain": [
       "Text(0.5, 1.0, 'Distribution of Minimum Eigenvalue of Spectrum')"
      ]
     },
     "execution_count": 48,
     "metadata": {},
     "output_type": "execute_result"
    },
    {
     "data": {
      "image/png": "[encoded data removed]",
      "text/plain": [
       "<Figure size 432x288 with 1 Axes>"
      ]
     },
     "metadata": {
      "needs_background": "light"
     },
     "output_type": "display_data"
    }
   ],
   "source": [
    "plt.hist([some_mean_eigs2[:,3], adv_some_mean_eigs2[:,3]], bins='auto', color=COLORS, label=PLT_LABELS, edgecolor=EDGE_COLOR)\n",
    "plt.legend()\n",
    "plt.title('Distribution of Minimum Eigenvalue of Spectrum')"
   ]
  },
  {
   "cell_type": "code",
   "execution_count": 49,
   "metadata": {},
   "outputs": [
    {
     "data": {
      "text/plain": [
       "Text(0.5, 1.0, 'Distribution of Maximum Eigenvalue of Spectrum')"
      ]
     },
     "execution_count": 49,
     "metadata": {},
     "output_type": "execute_result"
    },
    {
     "data": {
      "image/png": "[encoded data removed]",
      "text/plain": [
       "<Figure size 432x288 with 1 Axes>"
      ]
     },
     "metadata": {
      "needs_background": "light"
     },
     "output_type": "display_data"
    }
   ],
   "source": [
    "plt.hist([some_mean_eigs2[:,4], adv_some_mean_eigs2[:,4]], bins='auto', color=COLORS, label=PLT_LABELS)\n",
    "plt.legend()\n",
    "plt.title('Distribution of Maximum Eigenvalue of Spectrum')"
   ]
  },
  {
   "cell_type": "code",
   "execution_count": 50,
   "metadata": {},
   "outputs": [
    {
     "data": {
      "text/plain": [
       "<matplotlib.image.AxesImage at 0x7fa652379470>"
      ]
     },
     "execution_count": 50,
     "metadata": {},
     "output_type": "execute_result"
    },
    {
     "data": {
      "image/png": "[encoded data removed]",
      "text/plain": [
       "<Figure size 432x288 with 1 Axes>"
      ]
     },
     "metadata": {
      "needs_background": "light"
     },
     "output_type": "display_data"
    }
   ],
   "source": [
    "plt.imshow(adversaries[5]['adversary'].reshape(28,28))"
   ]
  },
  {
   "cell_type": "code",
   "execution_count": 51,
   "metadata": {},
   "outputs": [
    {
     "data": {
      "image/png": "[encoded data removed]",
      "text/plain": [
       "<Figure size 432x288 with 1 Axes>"
      ]
     },
     "metadata": {},
     "output_type": "display_data"
    }
   ],
   "source": [
    "options = {\n",
    "    'node_color': COLORS[0],\n",
    "    'node_size': 2,\n",
    "    'width': 2,\n",
    "    'with_labels':False}\n",
    "nx.draw_spring(some_gois2[2], **options)"
   ]
  },
  {
   "cell_type": "code",
   "execution_count": 52,
   "metadata": {},
   "outputs": [
    {
     "data": {
      "image/png": "[encoded data removed]",
      "text/plain": [
       "<Figure size 432x288 with 1 Axes>"
      ]
     },
     "metadata": {},
     "output_type": "display_data"
    }
   ],
   "source": [
    "options = {\n",
    "    'node_color': COLORS[1],\n",
    "    'node_size': 2,\n",
    "    'width': 2,\n",
    "    'with_labels':False}\n",
    "nx.draw_spring(adv_some_gois2[2], **options)"
   ]
  },
  {
   "cell_type": "code",
   "execution_count": 53,
   "metadata": {},
   "outputs": [],
   "source": [
    "density = np.zeros(len(all_gois))\n",
    "adv_density = np.zeros(len(adv_all_gois))\n",
    "for i in range(len(all_gois)):\n",
    "    density[i] = nx.classes.function.density(all_gois[i])\n",
    "for i in range(len(adv_all_gois)):\n",
    "    adv_density[i] = nx.classes.function.density(adv_all_gois[i])"
   ]
  },
  {
   "cell_type": "code",
   "execution_count": 54,
   "metadata": {},
   "outputs": [
    {
     "data": {
      "text/plain": [
       "Text(0.5, 1.0, 'Distribution of Graph Density')"
      ]
     },
     "execution_count": 54,
     "metadata": {},
     "output_type": "execute_result"
    },
    {
     "data": {
      "image/png": "[encoded data removed]",
      "text/plain": [
       "<Figure size 432x288 with 1 Axes>"
      ]
     },
     "metadata": {
      "needs_background": "light"
     },
     "output_type": "display_data"
    }
   ],
   "source": [
    "plt.hist([density, adv_density], bins='auto', color=COLORS, label=PLT_LABELS)\n",
    "plt.legend()\n",
    "plt.title('Distribution of Graph Density')"
   ]
  },
  {
   "cell_type": "code",
   "execution_count": null,
   "metadata": {},
   "outputs": [],
   "source": []
  },
  {
   "cell_type": "code",
   "execution_count": null,
   "metadata": {},
   "outputs": [],
   "source": []
  },
  {
   "cell_type": "code",
   "execution_count": null,
   "metadata": {},
   "outputs": [],
   "source": []
  },
  {
   "cell_type": "code",
   "execution_count": null,
   "metadata": {},
   "outputs": [],
   "source": []
  }
 ],
 "metadata": {
  "kernelspec": {
   "display_name": "Python 3",
   "language": "python",
   "name": "python3"
  },
  "language_info": {
   "codemirror_mode": {
    "name": "ipython",
    "version": 3
   },
   "file_extension": ".py",
   "mimetype": "text/x-python",
   "name": "python",
   "nbconvert_exporter": "python",
   "pygments_lexer": "ipython3",
   "version": "3.6.7"
  }
 },
 "nbformat": 4,
 "nbformat_minor": 2
}
