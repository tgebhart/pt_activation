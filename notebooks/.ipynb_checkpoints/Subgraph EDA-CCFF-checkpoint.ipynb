{
 "cells": [
  {
   "cell_type": "code",
   "execution_count": 1,
   "metadata": {},
   "outputs": [],
   "source": [
    "import os\n",
    "\n",
    "import torch\n",
    "import torch.nn.functional as F\n",
    "from torchvision import datasets, transforms\n",
    "import dionysus as dion\n",
    "import numpy as np\n",
    "import pandas as pd\n",
    "import matplotlib.pyplot as plt\n",
    "import seaborn as sns\n",
    "import networkx as nx\n",
    "\n",
    "from pt_activation.models.ccff_fashion import CCFF\n",
    "\n",
    "%load_ext autoreload\n",
    "%autoreload 2"
   ]
  },
  {
   "cell_type": "code",
   "execution_count": 33,
   "metadata": {},
   "outputs": [],
   "source": [
    "def create_filtrations(model, batch_size, up_to):\n",
    "    device = torch.device(\"cpu\")\n",
    "    kwargs = {'num_workers': 1, 'pin_memory': True}\n",
    "    transform = transforms.Compose([transforms.ToTensor()])\n",
    "    \n",
    "    testset = datasets.FashionMNIST(root='../data/fashion', train=False,\n",
    "                                           download=True, transform=transform)\n",
    "    test_loader = torch.utils.data.DataLoader(testset, batch_size=batch_size,\n",
    "                                             shuffle=False, num_workers=2)\n",
    "\n",
    "    model.eval()\n",
    "    test_loss = 0\n",
    "    correct = 0\n",
    "    t = 0\n",
    "    res_df = []\n",
    "    with torch.no_grad():\n",
    "        for data, target in test_loader:\n",
    "            data, target = data.to(device), target.to(device)\n",
    "            output, hiddens = model(data, hiddens=True)\n",
    "            test_loss += F.nll_loss(output, target, reduction='sum').item() # sum up batch loss\n",
    "            pred = output.max(1, keepdim=True)[1] # get the index of the max log-probability\n",
    "            correct += pred.eq(target.view_as(pred)).sum().item()\n",
    "            for s in range(data.shape[0]):\n",
    "                plt.imshow(data[s].reshape(28,28))\n",
    "                plt.show()\n",
    "                # check if this makes sense\n",
    "                num_hids = len(hiddens)\n",
    "                this_hiddens = [hiddens[i][s] for i in range(num_hids)]\n",
    "                print('Filtration: {}'.format(s+t))\n",
    "                f = model.compute_dynamic_filtration(data[s], this_hiddens)\n",
    "                #\n",
    "                row = {'filtration':f, 'loss':output.cpu().numpy()[s][0], 'class':target.cpu().numpy()[s], 'prediction':pred.cpu().numpy()[s][0]}\n",
    "                res_df.append(row)\n",
    "\n",
    "            t += batch_size\n",
    "            if t >= up_to:\n",
    "                break\n",
    "\n",
    "    return pd.DataFrame(res_df)"
   ]
  },
  {
   "cell_type": "code",
   "execution_count": 3,
   "metadata": {},
   "outputs": [],
   "source": [
    "model_location = '/home/tgebhart/projects/pt_activation/logdir/models/ccff_fashion.pt'\n",
    "model = CCFF()\n",
    "model.load_state_dict(torch.load(model_location))"
   ]
  },
  {
   "cell_type": "code",
   "execution_count": 34,
   "metadata": {
    "scrolled": true
   },
   "outputs": [
    {
     "data": {
      "image/png": "[encoded data removed]",
      "text/plain": [
       "<Figure size 432x288 with 1 Axes>"
      ]
     },
     "metadata": {
      "needs_background": "light"
     },
     "output_type": "display_data"
    },
    {
     "name": "stdout",
     "output_type": "stream",
     "text": [
      "Filtration: 0\n",
      "filtration size 443477\n",
      "Sorting filtration...\n"
     ]
    },
    {
     "data": {
      "image/png": "[encoded data removed]",
      "text/plain": [
       "<Figure size 432x288 with 1 Axes>"
      ]
     },
     "metadata": {
      "needs_background": "light"
     },
     "output_type": "display_data"
    },
    {
     "name": "stdout",
     "output_type": "stream",
     "text": [
      "Filtration: 1\n",
      "filtration size 526587\n",
      "Sorting filtration...\n"
     ]
    },
    {
     "data": {
      "image/png": "[encoded data removed]",
      "text/plain": [
       "<Figure size 432x288 with 1 Axes>"
      ]
     },
     "metadata": {
      "needs_background": "light"
     },
     "output_type": "display_data"
    },
    {
     "name": "stdout",
     "output_type": "stream",
     "text": [
      "Filtration: 2\n",
      "filtration size 373247\n",
      "Sorting filtration...\n"
     ]
    },
    {
     "data": {
      "image/png": "[encoded data removed]",
      "text/plain": [
       "<Figure size 432x288 with 1 Axes>"
      ]
     },
     "metadata": {
      "needs_background": "light"
     },
     "output_type": "display_data"
    },
    {
     "name": "stdout",
     "output_type": "stream",
     "text": [
      "Filtration: 3\n",
      "filtration size 571598\n",
      "Sorting filtration...\n"
     ]
    },
    {
     "data": {
      "image/png": "[encoded data removed]",
      "text/plain": [
       "<Figure size 432x288 with 1 Axes>"
      ]
     },
     "metadata": {
      "needs_background": "light"
     },
     "output_type": "display_data"
    },
    {
     "name": "stdout",
     "output_type": "stream",
     "text": [
      "Filtration: 4\n",
      "filtration size 495374\n",
      "Sorting filtration...\n"
     ]
    },
    {
     "data": {
      "image/png": "[encoded data removed]",
      "text/plain": [
       "<Figure size 432x288 with 1 Axes>"
      ]
     },
     "metadata": {
      "needs_background": "light"
     },
     "output_type": "display_data"
    },
    {
     "name": "stdout",
     "output_type": "stream",
     "text": [
      "Filtration: 5\n",
      "filtration size 382614\n",
      "Sorting filtration...\n"
     ]
    },
    {
     "data": {
      "image/png": "[encoded data removed]",
      "text/plain": [
       "<Figure size 432x288 with 1 Axes>"
      ]
     },
     "metadata": {
      "needs_background": "light"
     },
     "output_type": "display_data"
    },
    {
     "name": "stdout",
     "output_type": "stream",
     "text": [
      "Filtration: 6\n",
      "filtration size 510490\n",
      "Sorting filtration...\n"
     ]
    },
    {
     "data": {
      "image/png": "[encoded data removed]",
      "text/plain": [
       "<Figure size 432x288 with 1 Axes>"
      ]
     },
     "metadata": {
      "needs_background": "light"
     },
     "output_type": "display_data"
    },
    {
     "name": "stdout",
     "output_type": "stream",
     "text": [
      "Filtration: 7\n"
     ]
    },
    {
     "name": "stderr",
     "output_type": "stream",
     "text": [
      "Process Process-5:\n",
      "Process Process-6:\n",
      "Traceback (most recent call last):\n",
      "  File \"/usr/lib/python3.6/multiprocessing/process.py\", line 258, in _bootstrap\n",
      "    self.run()\n",
      "  File \"/usr/lib/python3.6/multiprocessing/process.py\", line 93, in run\n",
      "    self._target(*self._args, **self._kwargs)\n",
      "  File \"/home/tgebhart/.local/lib/python3.6/site-packages/torch/utils/data/dataloader.py\", line 96, in _worker_loop\n",
      "    r = index_queue.get(timeout=MANAGER_STATUS_CHECK_INTERVAL)\n",
      "  File \"/usr/lib/python3.6/multiprocessing/queues.py\", line 104, in get\n",
      "    if not self._poll(timeout):\n",
      "  File \"/usr/lib/python3.6/multiprocessing/connection.py\", line 257, in poll\n",
      "    return self._poll(timeout)\n",
      "  File \"/usr/lib/python3.6/multiprocessing/connection.py\", line 414, in _poll\n",
      "    r = wait([self], timeout)\n"
     ]
    },
    {
     "ename": "KeyboardInterrupt",
     "evalue": "",
     "output_type": "error",
     "traceback": [
      "\u001b[0;31m---------------------------------------------------------------------------\u001b[0m",
      "\u001b[0;31mKeyboardInterrupt\u001b[0m                         Traceback (most recent call last)",
      "\u001b[0;32m<ipython-input-34-0f798ae939e5>\u001b[0m in \u001b[0;36m<module>\u001b[0;34m\u001b[0m\n\u001b[0;32m----> 1\u001b[0;31m \u001b[0mres_df\u001b[0m \u001b[0;34m=\u001b[0m \u001b[0mcreate_filtrations\u001b[0m\u001b[0;34m(\u001b[0m\u001b[0mmodel\u001b[0m\u001b[0;34m,\u001b[0m \u001b[0;36m50\u001b[0m\u001b[0;34m,\u001b[0m \u001b[0;36m100\u001b[0m\u001b[0;34m)\u001b[0m\u001b[0;34m\u001b[0m\u001b[0;34m\u001b[0m\u001b[0m\n\u001b[0m",
      "\u001b[0;32m<ipython-input-33-c7dfeafb3930>\u001b[0m in \u001b[0;36mcreate_filtrations\u001b[0;34m(model, batch_size, up_to)\u001b[0m\n\u001b[1;32m     28\u001b[0m                 \u001b[0mthis_hiddens\u001b[0m \u001b[0;34m=\u001b[0m \u001b[0;34m[\u001b[0m\u001b[0mhiddens\u001b[0m\u001b[0;34m[\u001b[0m\u001b[0mi\u001b[0m\u001b[0;34m]\u001b[0m\u001b[0;34m[\u001b[0m\u001b[0ms\u001b[0m\u001b[0;34m]\u001b[0m \u001b[0;32mfor\u001b[0m \u001b[0mi\u001b[0m \u001b[0;32min\u001b[0m \u001b[0mrange\u001b[0m\u001b[0;34m(\u001b[0m\u001b[0mnum_hids\u001b[0m\u001b[0;34m)\u001b[0m\u001b[0;34m]\u001b[0m\u001b[0;34m\u001b[0m\u001b[0;34m\u001b[0m\u001b[0m\n\u001b[1;32m     29\u001b[0m                 \u001b[0mprint\u001b[0m\u001b[0;34m(\u001b[0m\u001b[0;34m'Filtration: {}'\u001b[0m\u001b[0;34m.\u001b[0m\u001b[0mformat\u001b[0m\u001b[0;34m(\u001b[0m\u001b[0ms\u001b[0m\u001b[0;34m+\u001b[0m\u001b[0mt\u001b[0m\u001b[0;34m)\u001b[0m\u001b[0;34m)\u001b[0m\u001b[0;34m\u001b[0m\u001b[0;34m\u001b[0m\u001b[0m\n\u001b[0;32m---> 30\u001b[0;31m                 \u001b[0mf\u001b[0m \u001b[0;34m=\u001b[0m \u001b[0mmodel\u001b[0m\u001b[0;34m.\u001b[0m\u001b[0mcompute_dynamic_filtration\u001b[0m\u001b[0;34m(\u001b[0m\u001b[0mdata\u001b[0m\u001b[0;34m[\u001b[0m\u001b[0ms\u001b[0m\u001b[0;34m]\u001b[0m\u001b[0;34m,\u001b[0m \u001b[0mthis_hiddens\u001b[0m\u001b[0;34m)\u001b[0m\u001b[0;34m\u001b[0m\u001b[0;34m\u001b[0m\u001b[0m\n\u001b[0m\u001b[1;32m     31\u001b[0m                 \u001b[0;31m#\u001b[0m\u001b[0;34m\u001b[0m\u001b[0;34m\u001b[0m\u001b[0;34m\u001b[0m\u001b[0m\n\u001b[1;32m     32\u001b[0m                 \u001b[0mrow\u001b[0m \u001b[0;34m=\u001b[0m \u001b[0;34m{\u001b[0m\u001b[0;34m'filtration'\u001b[0m\u001b[0;34m:\u001b[0m\u001b[0mf\u001b[0m\u001b[0;34m,\u001b[0m \u001b[0;34m'loss'\u001b[0m\u001b[0;34m:\u001b[0m\u001b[0moutput\u001b[0m\u001b[0;34m.\u001b[0m\u001b[0mcpu\u001b[0m\u001b[0;34m(\u001b[0m\u001b[0;34m)\u001b[0m\u001b[0;34m.\u001b[0m\u001b[0mnumpy\u001b[0m\u001b[0;34m(\u001b[0m\u001b[0;34m)\u001b[0m\u001b[0;34m[\u001b[0m\u001b[0ms\u001b[0m\u001b[0;34m]\u001b[0m\u001b[0;34m[\u001b[0m\u001b[0;36m0\u001b[0m\u001b[0;34m]\u001b[0m\u001b[0;34m,\u001b[0m \u001b[0;34m'class'\u001b[0m\u001b[0;34m:\u001b[0m\u001b[0mtarget\u001b[0m\u001b[0;34m.\u001b[0m\u001b[0mcpu\u001b[0m\u001b[0;34m(\u001b[0m\u001b[0;34m)\u001b[0m\u001b[0;34m.\u001b[0m\u001b[0mnumpy\u001b[0m\u001b[0;34m(\u001b[0m\u001b[0;34m)\u001b[0m\u001b[0;34m[\u001b[0m\u001b[0ms\u001b[0m\u001b[0;34m]\u001b[0m\u001b[0;34m,\u001b[0m \u001b[0;34m'prediction'\u001b[0m\u001b[0;34m:\u001b[0m\u001b[0mpred\u001b[0m\u001b[0;34m.\u001b[0m\u001b[0mcpu\u001b[0m\u001b[0;34m(\u001b[0m\u001b[0;34m)\u001b[0m\u001b[0;34m.\u001b[0m\u001b[0mnumpy\u001b[0m\u001b[0;34m(\u001b[0m\u001b[0;34m)\u001b[0m\u001b[0;34m[\u001b[0m\u001b[0ms\u001b[0m\u001b[0;34m]\u001b[0m\u001b[0;34m[\u001b[0m\u001b[0;36m0\u001b[0m\u001b[0;34m]\u001b[0m\u001b[0;34m}\u001b[0m\u001b[0;34m\u001b[0m\u001b[0;34m\u001b[0m\u001b[0m\n",
      "\u001b[0;32m~/projects/pt_activation/pt_activation/models/ccff_fashion.py\u001b[0m in \u001b[0;36mcompute_dynamic_filtration\u001b[0;34m(self, x, hiddens, percentile)\u001b[0m\n\u001b[1;32m    181\u001b[0m \u001b[0;34m\u001b[0m\u001b[0m\n\u001b[1;32m    182\u001b[0m             \u001b[0mh3_id_start\u001b[0m \u001b[0;34m=\u001b[0m \u001b[0mh2_id_start\u001b[0m \u001b[0;34m+\u001b[0m \u001b[0mhiddens\u001b[0m\u001b[0;34m[\u001b[0m\u001b[0;36m1\u001b[0m\u001b[0;34m]\u001b[0m\u001b[0;34m.\u001b[0m\u001b[0mcpu\u001b[0m\u001b[0;34m(\u001b[0m\u001b[0;34m)\u001b[0m\u001b[0;34m.\u001b[0m\u001b[0mdetach\u001b[0m\u001b[0;34m(\u001b[0m\u001b[0;34m)\u001b[0m\u001b[0;34m.\u001b[0m\u001b[0mnumpy\u001b[0m\u001b[0;34m(\u001b[0m\u001b[0;34m)\u001b[0m\u001b[0;34m.\u001b[0m\u001b[0mshape\u001b[0m\u001b[0;34m[\u001b[0m\u001b[0;36m0\u001b[0m\u001b[0;34m]\u001b[0m\u001b[0;34m\u001b[0m\u001b[0;34m\u001b[0m\u001b[0m\n\u001b[0;32m--> 183\u001b[0;31m             \u001b[0mf\u001b[0m\u001b[0;34m,\u001b[0m \u001b[0mh3_births\u001b[0m \u001b[0;34m=\u001b[0m \u001b[0mlinear_filtration\u001b[0m\u001b[0;34m(\u001b[0m\u001b[0mf\u001b[0m\u001b[0;34m,\u001b[0m \u001b[0mhiddens\u001b[0m\u001b[0;34m[\u001b[0m\u001b[0;36m1\u001b[0m\u001b[0;34m]\u001b[0m\u001b[0;34m,\u001b[0m \u001b[0mself\u001b[0m\u001b[0;34m.\u001b[0m\u001b[0ml1\u001b[0m\u001b[0;34m,\u001b[0m \u001b[0mh2_births\u001b[0m\u001b[0;34m,\u001b[0m \u001b[0mh2_id_start\u001b[0m\u001b[0;34m,\u001b[0m \u001b[0mh3_id_start\u001b[0m\u001b[0;34m,\u001b[0m \u001b[0mpercentile\u001b[0m\u001b[0;34m=\u001b[0m\u001b[0mpercentile\u001b[0m\u001b[0;34m,\u001b[0m \u001b[0mlast\u001b[0m\u001b[0;34m=\u001b[0m\u001b[0;32mFalse\u001b[0m\u001b[0;34m)\u001b[0m\u001b[0;34m\u001b[0m\u001b[0;34m\u001b[0m\u001b[0m\n\u001b[0m\u001b[1;32m    184\u001b[0m \u001b[0;34m\u001b[0m\u001b[0m\n\u001b[1;32m    185\u001b[0m             \u001b[0mh4_id_start\u001b[0m \u001b[0;34m=\u001b[0m \u001b[0mh3_id_start\u001b[0m \u001b[0;34m+\u001b[0m \u001b[0mhiddens\u001b[0m\u001b[0;34m[\u001b[0m\u001b[0;36m2\u001b[0m\u001b[0;34m]\u001b[0m\u001b[0;34m.\u001b[0m\u001b[0mcpu\u001b[0m\u001b[0;34m(\u001b[0m\u001b[0;34m)\u001b[0m\u001b[0;34m.\u001b[0m\u001b[0mdetach\u001b[0m\u001b[0;34m(\u001b[0m\u001b[0;34m)\u001b[0m\u001b[0;34m.\u001b[0m\u001b[0mnumpy\u001b[0m\u001b[0;34m(\u001b[0m\u001b[0;34m)\u001b[0m\u001b[0;34m.\u001b[0m\u001b[0mshape\u001b[0m\u001b[0;34m[\u001b[0m\u001b[0;36m0\u001b[0m\u001b[0;34m]\u001b[0m\u001b[0;34m\u001b[0m\u001b[0;34m\u001b[0m\u001b[0m\n",
      "\u001b[0;32m~/projects/pt_activation/pt_activation/functions/filtration.py\u001b[0m in \u001b[0;36mlinear_filtration\u001b[0;34m(f, h1, fc, h1_births, id_start_1, id_start_2, percentile, last)\u001b[0m\n\u001b[1;32m    105\u001b[0m \u001b[0;34m\u001b[0m\u001b[0m\n\u001b[1;32m    106\u001b[0m     \u001b[0;32mfor\u001b[0m \u001b[0mxi\u001b[0m \u001b[0;32min\u001b[0m \u001b[0mgtzh1\u001b[0m\u001b[0;34m:\u001b[0m\u001b[0;34m\u001b[0m\u001b[0;34m\u001b[0m\u001b[0m\n\u001b[0;32m--> 107\u001b[0;31m         \u001b[0mall_xis\u001b[0m \u001b[0;34m=\u001b[0m \u001b[0mnp\u001b[0m\u001b[0;34m.\u001b[0m\u001b[0mabsolute\u001b[0m\u001b[0;34m(\u001b[0m\u001b[0mmat\u001b[0m\u001b[0;34m[\u001b[0m\u001b[0;34m:\u001b[0m\u001b[0;34m,\u001b[0m\u001b[0mxi\u001b[0m\u001b[0;34m]\u001b[0m\u001b[0;34m*\u001b[0m\u001b[0mh1\u001b[0m\u001b[0;34m[\u001b[0m\u001b[0mxi\u001b[0m\u001b[0;34m]\u001b[0m\u001b[0;34m)\u001b[0m\u001b[0;34m\u001b[0m\u001b[0;34m\u001b[0m\u001b[0m\n\u001b[0m\u001b[1;32m    108\u001b[0m         \u001b[0mmax_xi\u001b[0m \u001b[0;34m=\u001b[0m \u001b[0mall_xis\u001b[0m\u001b[0;34m.\u001b[0m\u001b[0mmax\u001b[0m\u001b[0;34m(\u001b[0m\u001b[0;34m)\u001b[0m\u001b[0;34m\u001b[0m\u001b[0;34m\u001b[0m\u001b[0m\n\u001b[1;32m    109\u001b[0m         \u001b[0;32mif\u001b[0m \u001b[0mh1_births\u001b[0m\u001b[0;34m[\u001b[0m\u001b[0mxi\u001b[0m\u001b[0;34m]\u001b[0m \u001b[0;34m<\u001b[0m \u001b[0mmax_xi\u001b[0m\u001b[0;34m:\u001b[0m\u001b[0;34m\u001b[0m\u001b[0;34m\u001b[0m\u001b[0m\n",
      "\u001b[0;31mKeyboardInterrupt\u001b[0m: "
     ]
    },
    {
     "name": "stderr",
     "output_type": "stream",
     "text": [
      "  File \"/usr/lib/python3.6/multiprocessing/connection.py\", line 911, in wait\n",
      "    ready = selector.select(timeout)\n",
      "Traceback (most recent call last):\n",
      "  File \"/usr/lib/python3.6/selectors.py\", line 376, in select\n",
      "    fd_event_list = self._poll.poll(timeout)\n",
      "KeyboardInterrupt\n",
      "  File \"/usr/lib/python3.6/multiprocessing/process.py\", line 258, in _bootstrap\n",
      "    self.run()\n",
      "  File \"/usr/lib/python3.6/multiprocessing/process.py\", line 93, in run\n",
      "    self._target(*self._args, **self._kwargs)\n",
      "  File \"/home/tgebhart/.local/lib/python3.6/site-packages/torch/utils/data/dataloader.py\", line 96, in _worker_loop\n",
      "    r = index_queue.get(timeout=MANAGER_STATUS_CHECK_INTERVAL)\n",
      "  File \"/usr/lib/python3.6/multiprocessing/queues.py\", line 104, in get\n",
      "    if not self._poll(timeout):\n",
      "  File \"/usr/lib/python3.6/multiprocessing/connection.py\", line 257, in poll\n",
      "    return self._poll(timeout)\n",
      "  File \"/usr/lib/python3.6/multiprocessing/connection.py\", line 414, in _poll\n",
      "    r = wait([self], timeout)\n",
      "  File \"/usr/lib/python3.6/multiprocessing/connection.py\", line 911, in wait\n",
      "    ready = selector.select(timeout)\n",
      "  File \"/usr/lib/python3.6/selectors.py\", line 376, in select\n",
      "    fd_event_list = self._poll.poll(timeout)\n",
      "KeyboardInterrupt\n"
     ]
    }
   ],
   "source": [
    "res_df = create_filtrations(model, 50, 100)"
   ]
  },
  {
   "cell_type": "code",
   "execution_count": null,
   "metadata": {},
   "outputs": [],
   "source": []
  },
  {
   "cell_type": "code",
   "execution_count": 6,
   "metadata": {
    "scrolled": true
   },
   "outputs": [
    {
     "name": "stdout",
     "output_type": "stream",
     "text": [
      "0\n",
      "1\n",
      "2\n",
      "3\n",
      "4\n",
      "5\n",
      "6\n",
      "7\n",
      "8\n",
      "9\n",
      "10\n",
      "11\n",
      "12\n",
      "13\n",
      "14\n",
      "15\n",
      "16\n",
      "17\n",
      "18\n",
      "19\n",
      "20\n",
      "21\n",
      "22\n",
      "23\n",
      "24\n",
      "25\n",
      "26\n",
      "27\n",
      "28\n",
      "29\n",
      "30\n",
      "31\n",
      "32\n",
      "33\n",
      "34\n",
      "35\n",
      "36\n",
      "37\n",
      "38\n",
      "39\n",
      "40\n",
      "41\n",
      "42\n",
      "43\n",
      "44\n",
      "45\n",
      "46\n",
      "47\n",
      "48\n",
      "49\n",
      "50\n",
      "51\n",
      "52\n",
      "53\n",
      "54\n",
      "55\n",
      "56\n",
      "57\n",
      "58\n",
      "59\n",
      "60\n",
      "61\n",
      "62\n",
      "63\n",
      "64\n",
      "65\n",
      "66\n",
      "67\n",
      "68\n",
      "69\n",
      "70\n",
      "71\n",
      "72\n",
      "73\n",
      "74\n",
      "75\n",
      "76\n",
      "77\n",
      "78\n",
      "79\n",
      "80\n",
      "81\n",
      "82\n",
      "83\n",
      "84\n",
      "85\n",
      "86\n",
      "87\n",
      "88\n",
      "89\n",
      "90\n",
      "91\n",
      "92\n",
      "93\n",
      "94\n",
      "95\n",
      "96\n",
      "97\n",
      "98\n",
      "99\n"
     ]
    }
   ],
   "source": [
    "sample_graphs = []\n",
    "for s in range(res_df.shape[0]):\n",
    "    print(s)\n",
    "    subgraphs = {}\n",
    "    f = res_df['filtration'].iloc[s]\n",
    "    m = dion.homology_persistence(f)\n",
    "    dgms = dion.init_diagrams(m,f)\n",
    "#     dion.plot.plot_diagram(dgms[0], show=True)\n",
    "    for i,c in enumerate(m):\n",
    "        if len(c) == 2:\n",
    "            if f[c[0].index][0] in subgraphs:\n",
    "                subgraphs[f[c[0].index][0]].add_edge(f[c[0].index][0],f[c[1].index][0],weight=f[i].data)\n",
    "            else:\n",
    "                eaten = False\n",
    "                for k, v in subgraphs.items():\n",
    "                    if v.has_node(f[c[0].index][0]):\n",
    "                        v.add_edge(f[c[0].index][0], f[c[1].index][0], weight=f[i].data)\n",
    "                        eaten = True\n",
    "                        break\n",
    "                if not eaten:\n",
    "                    g = nx.Graph()\n",
    "                    g.add_edge(f[c[0].index][0], f[c[1].index][0], weight=f[i].data)\n",
    "                    subgraphs[f[c[0].index][0]] = g\n",
    "                    \n",
    "    sample_graphs.append(subgraphs)"
   ]
  },
  {
   "cell_type": "code",
   "execution_count": 7,
   "metadata": {},
   "outputs": [
    {
     "data": {
      "text/html": [
       "<div>\n",
       "<style scoped>\n",
       "    .dataframe tbody tr th:only-of-type {\n",
       "        vertical-align: middle;\n",
       "    }\n",
       "\n",
       "    .dataframe tbody tr th {\n",
       "        vertical-align: top;\n",
       "    }\n",
       "\n",
       "    .dataframe thead th {\n",
       "        text-align: right;\n",
       "    }\n",
       "</style>\n",
       "<table border=\"1\" class=\"dataframe\">\n",
       "  <thead>\n",
       "    <tr style=\"text-align: right;\">\n",
       "      <th></th>\n",
       "      <th>class</th>\n",
       "      <th>filtration</th>\n",
       "      <th>loss</th>\n",
       "      <th>prediction</th>\n",
       "    </tr>\n",
       "  </thead>\n",
       "  <tbody>\n",
       "    <tr>\n",
       "      <th>0</th>\n",
       "      <td>7</td>\n",
       "      <td>[(3650), (20107), (3650, 20107), (3627), (1865...</td>\n",
       "      <td>-0.543560</td>\n",
       "      <td>7</td>\n",
       "    </tr>\n",
       "    <tr>\n",
       "      <th>1</th>\n",
       "      <td>2</td>\n",
       "      <td>[(7317), (7167, 7317), (7138), (7309), (7138, ...</td>\n",
       "      <td>-3.547816</td>\n",
       "      <td>2</td>\n",
       "    </tr>\n",
       "    <tr>\n",
       "      <th>2</th>\n",
       "      <td>1</td>\n",
       "      <td>[(3578), (18611), (3578, 18611), (7303), (7313...</td>\n",
       "      <td>-3.209333</td>\n",
       "      <td>1</td>\n",
       "    </tr>\n",
       "    <tr>\n",
       "      <th>3</th>\n",
       "      <td>0</td>\n",
       "      <td>[(7084, 7311), (7084, 7312), (7154, 7313), (70...</td>\n",
       "      <td>11.579509</td>\n",
       "      <td>0</td>\n",
       "    </tr>\n",
       "    <tr>\n",
       "      <th>4</th>\n",
       "      <td>4</td>\n",
       "      <td>[(7113, 7313), (7163), (7163, 7311), (7314), (...</td>\n",
       "      <td>-4.053490</td>\n",
       "      <td>4</td>\n",
       "    </tr>\n",
       "  </tbody>\n",
       "</table>\n",
       "</div>"
      ],
      "text/plain": [
       "   class                                         filtration       loss  \\\n",
       "0      7  [(3650), (20107), (3650, 20107), (3627), (1865...  -0.543560   \n",
       "1      2  [(7317), (7167, 7317), (7138), (7309), (7138, ...  -3.547816   \n",
       "2      1  [(3578), (18611), (3578, 18611), (7303), (7313...  -3.209333   \n",
       "3      0  [(7084, 7311), (7084, 7312), (7154, 7313), (70...  11.579509   \n",
       "4      4  [(7113, 7313), (7163), (7163, 7311), (7314), (...  -4.053490   \n",
       "\n",
       "   prediction  \n",
       "0           7  \n",
       "1           2  \n",
       "2           1  \n",
       "3           0  \n",
       "4           4  "
      ]
     },
     "execution_count": 7,
     "metadata": {},
     "output_type": "execute_result"
    }
   ],
   "source": [
    "res_df.head()"
   ]
  },
  {
   "cell_type": "code",
   "execution_count": 8,
   "metadata": {},
   "outputs": [
    {
     "data": {
      "text/html": [
       "<div>\n",
       "<style scoped>\n",
       "    .dataframe tbody tr th:only-of-type {\n",
       "        vertical-align: middle;\n",
       "    }\n",
       "\n",
       "    .dataframe tbody tr th {\n",
       "        vertical-align: top;\n",
       "    }\n",
       "\n",
       "    .dataframe thead th {\n",
       "        text-align: right;\n",
       "    }\n",
       "</style>\n",
       "<table border=\"1\" class=\"dataframe\">\n",
       "  <thead>\n",
       "    <tr style=\"text-align: right;\">\n",
       "      <th></th>\n",
       "      <th>class</th>\n",
       "      <th>filtration</th>\n",
       "      <th>loss</th>\n",
       "      <th>prediction</th>\n",
       "    </tr>\n",
       "  </thead>\n",
       "  <tbody>\n",
       "  </tbody>\n",
       "</table>\n",
       "</div>"
      ],
      "text/plain": [
       "Empty DataFrame\n",
       "Columns: [class, filtration, loss, prediction]\n",
       "Index: []"
      ]
     },
     "execution_count": 8,
     "metadata": {},
     "output_type": "execute_result"
    }
   ],
   "source": [
    "res_df[res_df['prediction'] != res_df['class']]"
   ]
  },
  {
   "cell_type": "code",
   "execution_count": 9,
   "metadata": {},
   "outputs": [],
   "source": [
    "# options = {\n",
    "#     'node_color': 'red',\n",
    "#     'node_size': 2,\n",
    "#     'width': 3,\n",
    "#     'with_labels':True}\n",
    "# nx.draw_random(subgraphs[243], **options)"
   ]
  },
  {
   "cell_type": "code",
   "execution_count": null,
   "metadata": {},
   "outputs": [],
   "source": []
  },
  {
   "cell_type": "code",
   "execution_count": null,
   "metadata": {},
   "outputs": [],
   "source": [
    "ids = model.layerwise_ids()\n",
    "ids"
   ]
  },
  {
   "cell_type": "code",
   "execution_count": 10,
   "metadata": {},
   "outputs": [],
   "source": [
    "goi = 1"
   ]
  },
  {
   "cell_type": "code",
   "execution_count": 11,
   "metadata": {},
   "outputs": [
    {
     "name": "stdout",
     "output_type": "stream",
     "text": [
      "dict_keys([7317, 7138, 7313, 3557, 3556, 3558, 3555, 3561, 3147, 3562, 3541, 3269, 3552, 3553, 3527, 3560, 3191, 3554, 3559, 3528, 3293, 3386, 3433, 3192, 3246, 3542, 3148, 3168, 3456, 3146, 3563, 3540, 3169, 3316, 3363, 3409, 3564, 3222, 3410, 3149, 3339, 3503, 7058, 3581, 3551, 3480, 3170, 3582, 3362, 3292, 3270, 3174, 3198, 3145, 3457, 3340, 3245, 3565, 3539, 3479, 3504, 3580, 7308, 3215, 3529, 3173, 3150, 3432, 3317, 3566, 3583, 3387, 3171, 3434, 3579, 3584, 3294, 3193, 3172, 3199, 3364, 3223, 3175, 3247, 3411, 3151, 6421, 6271, 6185, 6357, 6136, 6442, 6492, 6336, 6292, 6465, 6250, 6249, 6206, 6270, 6490, 402, 6335, 6491, 347, 6141, 6466, 6494, 6493, 6488, 6498, 554, 6497, 6468, 484, 210, 6477, 2140, 2039, 2210, 2257, 2304, 2017, 2644, 2761, 2785, 2668, 2950, 2855, 2808, 2926, 2645, 2621, 3037, 3038, 3039, 2635, 3058, 2791, 2861, 2708, 2768, 2885, 2721, 2611, 2838, 2710, 2886, 2815, 2745, 2889, 2711, 2514, 2515, 2516, 2530, 2531, 2532, 2533, 2534, 2535, 2538, 2539, 2554, 2555, 2556, 2557, 2558, 2559, 2562, 2578, 2579, 2580, 2581, 2582, 2583, 2586, 2602, 2603, 2604, 2605, 2606, 2607, 2610, 2626, 2627, 2628, 2629, 2630, 2631, 2634, 2650, 2651, 2652, 2653, 2654, 2655, 2658, 2674, 2675, 2676, 2677, 2678, 2679, 2682, 2698, 2699, 2700, 2701, 2702, 2703, 2706, 2707, 2722, 2723, 2724, 2725, 2726, 2727, 2730, 2731, 2732, 2733, 2746, 2747, 2748, 2749, 2750, 2751, 2754, 2755, 2756, 2757, 2769, 2770, 2771, 2772, 2773, 2774, 2775, 2778, 2779, 2780, 2792, 2793, 2794, 2795, 2796, 2797, 2798, 2799, 2802, 2803, 2816, 2817, 2818, 2819, 2820, 2821, 2822, 2823, 2826, 2827, 2839, 2840, 2841, 2842, 2843, 2844, 2845, 2846, 2847, 2850, 2851, 2862, 2863, 2864, 2865, 2866, 2867, 2868, 2869, 2870, 2871, 2874, 2875, 2898, 2899, 2922, 2923, 2946, 2947, 2970, 2971, 2994, 2995, 3018, 3019, 2709, 2804, 2734, 2888, 2887, 2563, 2529, 2781, 2577, 2553, 2517, 2540, 2828, 2587, 2758, 3042, 3043, 3044, 3066, 3067, 3068, 3069, 2560, 2561, 2584, 2585, 2608, 2609, 2632, 2633, 2656, 2680, 2704, 2728, 2729, 2752, 2753, 2776, 2777, 2800, 2801, 2824, 2825, 2848, 2849, 2872, 2873, 2896, 2897, 2920, 2921, 2944, 2945, 2968, 2969, 2992, 2993, 3016, 3017, 3040, 3041, 3064, 3065, 2805, 2512, 3211, 3113, 3114, 3115, 3130, 3131, 3132, 3133, 3134, 3137, 3138, 3155, 3156, 3157, 3158, 3161, 3162, 3179, 3180, 3181, 3182, 3185, 3186, 3203, 3204, 3205, 3206, 3209, 3210, 3227, 3228, 3229, 3230, 3233, 3234, 3250, 3251, 3252, 3253, 3254, 3257, 3258, 3274, 3275, 3276, 3277, 3278, 3281, 3282, 3283, 3298, 3299, 3300, 3301, 3302, 3305, 3306, 3307, 3308, 3309, 3322, 3323, 3324, 3325, 3326, 3329, 3330, 3331, 3332, 3333, 3345, 3346, 3347, 3348, 3349, 3350, 3353, 3354, 3355, 3356, 3368, 3369, 3370, 3371, 3372, 3373, 3374, 3377, 3378, 3379, 3392, 3393, 3394, 3395, 3396, 3397, 3398, 3401, 3402, 3403, 3415, 3416, 3417, 3418, 3419, 3420, 3421, 3422, 3425, 3426, 3427, 3438, 3439, 3440, 3441, 3442, 3443, 3444, 3445, 3446, 3449, 3450, 3451, 3473, 3474, 3475, 3497, 3498, 3499, 3521, 3522, 3523, 3545, 3546, 3547, 3569, 3570, 3571, 3593, 3594, 3595, 3617, 3618, 3619, 3620, 3637, 3638, 3645, 3659, 3321, 3380, 3092, 2158, 2228, 1961, 1963, 1978, 1979, 1980, 1981, 1982, 1985, 1986, 2002, 2003, 2004, 2005, 2006, 2009, 2010, 2026, 2027, 2028, 2029, 2030, 2033, 2034, 2050, 2051, 2052, 2053, 2054, 2057, 2074, 2075, 2076, 2077, 2078, 2081, 2098, 2099, 2100, 2101, 2102, 2105, 2122, 2123, 2124, 2125, 2126, 2129, 2130, 2146, 2147, 2148, 2149, 2150, 2153, 2154, 2155, 2170, 2171, 2172, 2173, 2174, 2177, 2178, 2179, 2181, 2193, 2194, 2195, 2196, 2197, 2198, 2201, 2202, 2203, 2204, 2216, 2217, 2218, 2219, 2220, 2221, 2222, 2225, 2226, 2240, 2241, 2242, 2243, 2244, 2245, 2246, 2249, 2250, 2251, 2263, 2264, 2265, 2266, 2267, 2268, 2269, 2270, 2273, 2274, 2275, 2297, 2298, 2299, 2321, 2322, 2345, 2346, 2369, 2370, 2393, 2394, 2417, 2418, 2441, 2442, 2465, 2466, 2485, 2486, 2007, 2031, 2055, 2079, 2103, 2127, 2151, 2175, 2199, 2223, 2247, 2271, 2295, 2490, 2491, 2507, 2508, 2509, 2510, 2511, 1960, 1984, 2008, 2032, 2056, 2080, 2104, 2128, 2152, 2176, 2200, 2224, 2248, 2272, 2296, 2320, 2344, 2368, 2392, 2416, 2440, 2464, 1983])\n"
     ]
    }
   ],
   "source": [
    "print(sample_graphs[goi].keys())"
   ]
  },
  {
   "cell_type": "code",
   "execution_count": 21,
   "metadata": {},
   "outputs": [
    {
     "data": {
      "image/png": "[encoded data removed]",
      "text/plain": [
       "<Figure size 432x288 with 1 Axes>"
      ]
     },
     "metadata": {},
     "output_type": "display_data"
    }
   ],
   "source": [
    "options = {\n",
    "    'node_color': 'red',\n",
    "    'node_size': 2,\n",
    "    'width': 3,\n",
    "    'with_labels':True}\n",
    "nx.draw_spring(sample_graphs[goi][7317], **options)"
   ]
  },
  {
   "cell_type": "code",
   "execution_count": null,
   "metadata": {},
   "outputs": [],
   "source": [
    "gois = [sample_graphs[goi][k] for k in sample_graphs[goi].keys()]"
   ]
  },
  {
   "cell_type": "code",
   "execution_count": null,
   "metadata": {},
   "outputs": [],
   "source": [
    "all_goi = nx.compose_all(gois)"
   ]
  },
  {
   "cell_type": "code",
   "execution_count": null,
   "metadata": {},
   "outputs": [],
   "source": [
    "options = {\n",
    "    'node_color': 'red',\n",
    "    'node_size': 2,\n",
    "    'width': 2,\n",
    "    'with_labels':True}\n",
    "nx.draw_spring(all_goi, **options)"
   ]
  },
  {
   "cell_type": "code",
   "execution_count": null,
   "metadata": {},
   "outputs": [],
   "source": [
    "from node2vec import Node2Vec"
   ]
  },
  {
   "cell_type": "code",
   "execution_count": null,
   "metadata": {},
   "outputs": [],
   "source": []
  },
  {
   "cell_type": "code",
   "execution_count": null,
   "metadata": {
    "scrolled": true
   },
   "outputs": [],
   "source": [
    "take = 10\n",
    "embedding_info = []\n",
    "for i in range(len(sample_graphs)):\n",
    "    print('Sample: {}/{}'.format(i,len(sample_graphs)))\n",
    "    subs = []\n",
    "    for k in list(sample_graphs[i].keys())[:take]:\n",
    "        node2vec = Node2Vec(sample_graphs[i][k], dimensions=64, walk_length=5, num_walks=5, workers=4, quiet=True)\n",
    "        model = node2vec.fit(window=10, min_count=1, batch_words=4)\n",
    "        model.wv.save_word2vec_format('../data/node2vec_temp')\n",
    "        t = pd.read_csv('../data/node2vec_temp', delimiter=' ', names=['node']+list(range(64))).drop(0, axis=0)\n",
    "        srt = sorted(sample_graphs[i][k].edges(data=True),key= lambda x: x[2]['weight'],reverse=True)\n",
    "        life = srt[0][2]['weight'] - srt[-1][2]['weight']\n",
    "        subs.append({'sample':i, 'generator':k, 'lifetime':life,'embedding':t})\n",
    "    embedding_info.append(subs)"
   ]
  },
  {
   "cell_type": "code",
   "execution_count": null,
   "metadata": {
    "scrolled": true
   },
   "outputs": [],
   "source": [
    "embedding_info[0][5]['embedding'][list(range(64))].values.mean(axis=0)"
   ]
  },
  {
   "cell_type": "code",
   "execution_count": null,
   "metadata": {},
   "outputs": [],
   "source": [
    "embedding_info[0][5]"
   ]
  },
  {
   "cell_type": "code",
   "execution_count": null,
   "metadata": {},
   "outputs": [],
   "source": [
    "dim = 64\n",
    "avg_embds = np.zeros(shape=(len(embedding_info),dim))\n",
    "for i in range(len(embedding_info)):\n",
    "    print('{}/{}'.format(i, len(embedding_info)))\n",
    "    gs = embedding_info[i]\n",
    "    ws = np.zeros(len(gs))\n",
    "    embds = np.zeros((len(gs),dim))\n",
    "    for j in range(len(gs)):\n",
    "        ws[j] = gs[j]['lifetime']\n",
    "        embds[j,:] = gs[j]['embedding'][list(range(dim))].values.mean(axis=0)\n",
    "    avg_embds[i,:] = np.dot(ws,embds)/np.sum(ws)"
   ]
  },
  {
   "cell_type": "code",
   "execution_count": null,
   "metadata": {},
   "outputs": [],
   "source": []
  },
  {
   "cell_type": "code",
   "execution_count": null,
   "metadata": {},
   "outputs": [],
   "source": [
    "from sklearn.cluster import KMeans\n",
    "centers = KMeans(n_clusters=10, random_state=0).fit_predict(avg_embds)"
   ]
  },
  {
   "cell_type": "code",
   "execution_count": null,
   "metadata": {},
   "outputs": [],
   "source": [
    "res_df.append"
   ]
  },
  {
   "cell_type": "code",
   "execution_count": null,
   "metadata": {},
   "outputs": [],
   "source": [
    "cluster_df = res_df.join(pd.DataFrame(centers))\n",
    "cluster_df.head()"
   ]
  },
  {
   "cell_type": "code",
   "execution_count": null,
   "metadata": {},
   "outputs": [],
   "source": [
    "from sklearn.linear_model import LogisticRegression"
   ]
  },
  {
   "cell_type": "code",
   "execution_count": null,
   "metadata": {},
   "outputs": [],
   "source": [
    "X = avg_embds\n",
    "y = res_df['class'].values\n",
    "\n",
    "X_train = avg_embds[:-100,:]\n",
    "y_train = res_df.iloc[:-100]['class'].values\n",
    "X_test = avg_embds[-100:,:]\n",
    "y_test = res_df.iloc[-100:]['class'].values\n",
    "\n",
    "clf = LogisticRegression(solver='lbfgs', multi_class='multinomial')\n"
   ]
  },
  {
   "cell_type": "code",
   "execution_count": null,
   "metadata": {},
   "outputs": [],
   "source": [
    "cross_val_score(clf, X, y, cv=10)"
   ]
  },
  {
   "cell_type": "code",
   "execution_count": null,
   "metadata": {},
   "outputs": [],
   "source": []
  },
  {
   "cell_type": "code",
   "execution_count": null,
   "metadata": {},
   "outputs": [],
   "source": [
    "from sklearn.tree import DecisionTreeClassifier\n",
    "from sklearn.model_selection import cross_val_score\n",
    "from sklearn.decomposition import PCA"
   ]
  },
  {
   "cell_type": "code",
   "execution_count": null,
   "metadata": {},
   "outputs": [],
   "source": [
    "clf = DecisionTreeClassifier(random_state=0)\n",
    "cross_val_score(clf, X, y, cv=10)"
   ]
  },
  {
   "cell_type": "code",
   "execution_count": null,
   "metadata": {},
   "outputs": [],
   "source": [
    "h = 0.2\n",
    "reduced_data = PCA(n_components=2).fit_transform(X)\n",
    "kmeans = KMeans(init='k-means++', n_clusters=10, n_init=10)\n",
    "kmeans.fit(reduced_data)\n",
    "x_min, x_max = reduced_data[:, 0].min() - 1, reduced_data[:, 0].max() + 1\n",
    "y_min, y_max = reduced_data[:, 1].min() - 1, reduced_data[:, 1].max() + 1\n",
    "xx, yy = np.meshgrid(np.arange(x_min, x_max, h), np.arange(y_min, y_max, h))\n",
    "\n",
    "Z = kmeans.predict(np.c_[xx.ravel(), yy.ravel()])"
   ]
  },
  {
   "cell_type": "code",
   "execution_count": null,
   "metadata": {
    "scrolled": true
   },
   "outputs": [],
   "source": [
    "Z = Z.reshape(xx.shape)\n",
    "plt.figure(1)\n",
    "plt.clf()\n",
    "plt.imshow(Z, interpolation='nearest',\n",
    "           extent=(xx.min(), xx.max(), yy.min(), yy.max()),\n",
    "           cmap=plt.cm.Paired,\n",
    "           aspect='auto', origin='lower')\n",
    "\n",
    "plt.plot(reduced_data[:, 0], reduced_data[:, 1], 'k.', markersize=2)\n",
    "# Plot the centroids as a white X\n",
    "centroids = kmeans.cluster_centers_\n",
    "plt.scatter(centroids[:, 0], centroids[:, 1],\n",
    "            marker='x', s=169, linewidths=3,\n",
    "            color='w', zorder=10)\n",
    "plt.title('K-means clustering on the digits dataset (PCA-reduced data)\\n'\n",
    "          'Centroids are marked with white cross')\n",
    "plt.xlim(x_min, x_max)\n",
    "plt.ylim(y_min, y_max)\n",
    "plt.xticks(())\n",
    "plt.yticks(())\n",
    "plt.show()"
   ]
  },
  {
   "cell_type": "code",
   "execution_count": 24,
   "metadata": {},
   "outputs": [],
   "source": [
    "take = 10\n",
    "edges = set()\n",
    "for i in range(len(sample_graphs)):\n",
    "    for k in list(sample_graphs[i].keys())[:take]:\n",
    "        for x in sample_graphs[i][k].edges(data=True):\n",
    "            edge_name = str(x[0])+'-'+str(x[1])\n",
    "            edges.add(edge_name)"
   ]
  },
  {
   "cell_type": "code",
   "execution_count": 25,
   "metadata": {
    "scrolled": true
   },
   "outputs": [
    {
     "name": "stdout",
     "output_type": "stream",
     "text": [
      "Sample: 0/100\n",
      "Sample: 1/100\n",
      "Sample: 2/100\n",
      "Sample: 3/100\n",
      "Sample: 4/100\n",
      "Sample: 5/100\n",
      "Sample: 6/100\n",
      "Sample: 7/100\n",
      "Sample: 8/100\n",
      "Sample: 9/100\n",
      "Sample: 10/100\n",
      "Sample: 11/100\n",
      "Sample: 12/100\n",
      "Sample: 13/100\n",
      "Sample: 14/100\n",
      "Sample: 15/100\n",
      "Sample: 16/100\n",
      "Sample: 17/100\n",
      "Sample: 18/100\n",
      "Sample: 19/100\n",
      "Sample: 20/100\n",
      "Sample: 21/100\n",
      "Sample: 22/100\n",
      "Sample: 23/100\n",
      "Sample: 24/100\n",
      "Sample: 25/100\n",
      "Sample: 26/100\n",
      "Sample: 27/100\n",
      "Sample: 28/100\n",
      "Sample: 29/100\n",
      "Sample: 30/100\n",
      "Sample: 31/100\n",
      "Sample: 32/100\n",
      "Sample: 33/100\n",
      "Sample: 34/100\n",
      "Sample: 35/100\n",
      "Sample: 36/100\n",
      "Sample: 37/100\n",
      "Sample: 38/100\n",
      "Sample: 39/100\n",
      "Sample: 40/100\n",
      "Sample: 41/100\n",
      "Sample: 42/100\n",
      "Sample: 43/100\n",
      "Sample: 44/100\n",
      "Sample: 45/100\n",
      "Sample: 46/100\n",
      "Sample: 47/100\n",
      "Sample: 48/100\n",
      "Sample: 49/100\n",
      "Sample: 50/100\n",
      "Sample: 51/100\n",
      "Sample: 52/100\n",
      "Sample: 53/100\n",
      "Sample: 54/100\n",
      "Sample: 55/100\n",
      "Sample: 56/100\n",
      "Sample: 57/100\n",
      "Sample: 58/100\n",
      "Sample: 59/100\n",
      "Sample: 60/100\n",
      "Sample: 61/100\n",
      "Sample: 62/100\n",
      "Sample: 63/100\n",
      "Sample: 64/100\n",
      "Sample: 65/100\n",
      "Sample: 66/100\n",
      "Sample: 67/100\n",
      "Sample: 68/100\n",
      "Sample: 69/100\n",
      "Sample: 70/100\n",
      "Sample: 71/100\n",
      "Sample: 72/100\n",
      "Sample: 73/100\n",
      "Sample: 74/100\n",
      "Sample: 75/100\n",
      "Sample: 76/100\n",
      "Sample: 77/100\n",
      "Sample: 78/100\n",
      "Sample: 79/100\n",
      "Sample: 80/100\n",
      "Sample: 81/100\n",
      "Sample: 82/100\n",
      "Sample: 83/100\n",
      "Sample: 84/100\n",
      "Sample: 85/100\n",
      "Sample: 86/100\n",
      "Sample: 87/100\n",
      "Sample: 88/100\n",
      "Sample: 89/100\n",
      "Sample: 90/100\n",
      "Sample: 91/100\n",
      "Sample: 92/100\n",
      "Sample: 93/100\n",
      "Sample: 94/100\n",
      "Sample: 95/100\n",
      "Sample: 96/100\n",
      "Sample: 97/100\n",
      "Sample: 98/100\n",
      "Sample: 99/100\n"
     ]
    }
   ],
   "source": [
    "edf = pd.DataFrame(np.zeros((len(sample_graphs),len(edges))), columns=list(edges))\n",
    "for i in range(len(sample_graphs)):\n",
    "    print('Sample: {}/{}'.format(i,len(sample_graphs)))\n",
    "    for k in list(sample_graphs[i].keys())[:take]:\n",
    "        for x in sample_graphs[i][k].edges(data=True):\n",
    "            edge_name = str(x[0])+'-'+str(x[1])\n",
    "            edf.iloc[i][edge_name] = x[2]['weight']"
   ]
  },
  {
   "cell_type": "code",
   "execution_count": null,
   "metadata": {
    "scrolled": true
   },
   "outputs": [],
   "source": []
  },
  {
   "cell_type": "code",
   "execution_count": 26,
   "metadata": {},
   "outputs": [
    {
     "data": {
      "text/html": [
       "<div>\n",
       "<style scoped>\n",
       "    .dataframe tbody tr th:only-of-type {\n",
       "        vertical-align: middle;\n",
       "    }\n",
       "\n",
       "    .dataframe tbody tr th {\n",
       "        vertical-align: top;\n",
       "    }\n",
       "\n",
       "    .dataframe thead th {\n",
       "        text-align: right;\n",
       "    }\n",
       "</style>\n",
       "<table border=\"1\" class=\"dataframe\">\n",
       "  <thead>\n",
       "    <tr style=\"text-align: right;\">\n",
       "      <th></th>\n",
       "      <th>3381-20367</th>\n",
       "      <th>2139-12517</th>\n",
       "      <th>3531-20019</th>\n",
       "      <th>1177-4003</th>\n",
       "      <th>1875-10383</th>\n",
       "      <th>3292-18350</th>\n",
       "      <th>1089-5858</th>\n",
       "      <th>687-3654</th>\n",
       "      <th>1303-7045</th>\n",
       "      <th>1829-8429</th>\n",
       "      <th>...</th>\n",
       "      <th>3024-14780</th>\n",
       "      <th>1688-10258</th>\n",
       "      <th>3272-19276</th>\n",
       "      <th>1704-10248</th>\n",
       "      <th>2119-10608</th>\n",
       "      <th>3629-19627</th>\n",
       "      <th>2094-12962</th>\n",
       "      <th>7290-4026</th>\n",
       "      <th>547-2959</th>\n",
       "      <th>2015-11919</th>\n",
       "    </tr>\n",
       "  </thead>\n",
       "  <tbody>\n",
       "    <tr>\n",
       "      <th>0</th>\n",
       "      <td>0.0</td>\n",
       "      <td>0.0</td>\n",
       "      <td>0.000000</td>\n",
       "      <td>0.0</td>\n",
       "      <td>0.000000</td>\n",
       "      <td>0.0</td>\n",
       "      <td>0.0</td>\n",
       "      <td>0.0</td>\n",
       "      <td>0.0</td>\n",
       "      <td>0.088691</td>\n",
       "      <td>...</td>\n",
       "      <td>0.000000</td>\n",
       "      <td>0.0</td>\n",
       "      <td>0.0</td>\n",
       "      <td>0.0</td>\n",
       "      <td>0.0</td>\n",
       "      <td>0.0</td>\n",
       "      <td>0.0</td>\n",
       "      <td>0.0</td>\n",
       "      <td>0.0</td>\n",
       "      <td>0.0</td>\n",
       "    </tr>\n",
       "    <tr>\n",
       "      <th>1</th>\n",
       "      <td>0.0</td>\n",
       "      <td>0.0</td>\n",
       "      <td>0.000000</td>\n",
       "      <td>0.0</td>\n",
       "      <td>0.000000</td>\n",
       "      <td>0.0</td>\n",
       "      <td>0.0</td>\n",
       "      <td>0.0</td>\n",
       "      <td>0.0</td>\n",
       "      <td>0.040500</td>\n",
       "      <td>...</td>\n",
       "      <td>0.000000</td>\n",
       "      <td>0.0</td>\n",
       "      <td>0.0</td>\n",
       "      <td>0.0</td>\n",
       "      <td>0.0</td>\n",
       "      <td>0.0</td>\n",
       "      <td>0.0</td>\n",
       "      <td>0.0</td>\n",
       "      <td>0.0</td>\n",
       "      <td>0.0</td>\n",
       "    </tr>\n",
       "    <tr>\n",
       "      <th>2</th>\n",
       "      <td>0.0</td>\n",
       "      <td>0.0</td>\n",
       "      <td>2.507442</td>\n",
       "      <td>0.0</td>\n",
       "      <td>0.064709</td>\n",
       "      <td>0.0</td>\n",
       "      <td>0.0</td>\n",
       "      <td>0.0</td>\n",
       "      <td>0.0</td>\n",
       "      <td>0.000000</td>\n",
       "      <td>...</td>\n",
       "      <td>0.040487</td>\n",
       "      <td>0.0</td>\n",
       "      <td>0.0</td>\n",
       "      <td>0.0</td>\n",
       "      <td>0.0</td>\n",
       "      <td>0.0</td>\n",
       "      <td>0.0</td>\n",
       "      <td>0.0</td>\n",
       "      <td>0.0</td>\n",
       "      <td>0.0</td>\n",
       "    </tr>\n",
       "    <tr>\n",
       "      <th>3</th>\n",
       "      <td>0.0</td>\n",
       "      <td>0.0</td>\n",
       "      <td>0.000000</td>\n",
       "      <td>0.0</td>\n",
       "      <td>0.000000</td>\n",
       "      <td>0.0</td>\n",
       "      <td>0.0</td>\n",
       "      <td>0.0</td>\n",
       "      <td>0.0</td>\n",
       "      <td>0.000000</td>\n",
       "      <td>...</td>\n",
       "      <td>0.000000</td>\n",
       "      <td>0.0</td>\n",
       "      <td>0.0</td>\n",
       "      <td>0.0</td>\n",
       "      <td>0.0</td>\n",
       "      <td>0.0</td>\n",
       "      <td>0.0</td>\n",
       "      <td>0.0</td>\n",
       "      <td>0.0</td>\n",
       "      <td>0.0</td>\n",
       "    </tr>\n",
       "    <tr>\n",
       "      <th>4</th>\n",
       "      <td>0.0</td>\n",
       "      <td>0.0</td>\n",
       "      <td>0.000000</td>\n",
       "      <td>0.0</td>\n",
       "      <td>0.000000</td>\n",
       "      <td>0.0</td>\n",
       "      <td>0.0</td>\n",
       "      <td>0.0</td>\n",
       "      <td>0.0</td>\n",
       "      <td>0.000000</td>\n",
       "      <td>...</td>\n",
       "      <td>0.000000</td>\n",
       "      <td>0.0</td>\n",
       "      <td>0.0</td>\n",
       "      <td>0.0</td>\n",
       "      <td>0.0</td>\n",
       "      <td>0.0</td>\n",
       "      <td>0.0</td>\n",
       "      <td>0.0</td>\n",
       "      <td>0.0</td>\n",
       "      <td>0.0</td>\n",
       "    </tr>\n",
       "  </tbody>\n",
       "</table>\n",
       "<p>5 rows × 61264 columns</p>\n",
       "</div>"
      ],
      "text/plain": [
       "   3381-20367  2139-12517  3531-20019  1177-4003  1875-10383  3292-18350  \\\n",
       "0         0.0         0.0    0.000000        0.0    0.000000         0.0   \n",
       "1         0.0         0.0    0.000000        0.0    0.000000         0.0   \n",
       "2         0.0         0.0    2.507442        0.0    0.064709         0.0   \n",
       "3         0.0         0.0    0.000000        0.0    0.000000         0.0   \n",
       "4         0.0         0.0    0.000000        0.0    0.000000         0.0   \n",
       "\n",
       "   1089-5858  687-3654  1303-7045  1829-8429     ...      3024-14780  \\\n",
       "0        0.0       0.0        0.0   0.088691     ...        0.000000   \n",
       "1        0.0       0.0        0.0   0.040500     ...        0.000000   \n",
       "2        0.0       0.0        0.0   0.000000     ...        0.040487   \n",
       "3        0.0       0.0        0.0   0.000000     ...        0.000000   \n",
       "4        0.0       0.0        0.0   0.000000     ...        0.000000   \n",
       "\n",
       "   1688-10258  3272-19276  1704-10248  2119-10608  3629-19627  2094-12962  \\\n",
       "0         0.0         0.0         0.0         0.0         0.0         0.0   \n",
       "1         0.0         0.0         0.0         0.0         0.0         0.0   \n",
       "2         0.0         0.0         0.0         0.0         0.0         0.0   \n",
       "3         0.0         0.0         0.0         0.0         0.0         0.0   \n",
       "4         0.0         0.0         0.0         0.0         0.0         0.0   \n",
       "\n",
       "   7290-4026  547-2959  2015-11919  \n",
       "0        0.0       0.0         0.0  \n",
       "1        0.0       0.0         0.0  \n",
       "2        0.0       0.0         0.0  \n",
       "3        0.0       0.0         0.0  \n",
       "4        0.0       0.0         0.0  \n",
       "\n",
       "[5 rows x 61264 columns]"
      ]
     },
     "execution_count": 26,
     "metadata": {},
     "output_type": "execute_result"
    }
   ],
   "source": [
    "edf.head()"
   ]
  },
  {
   "cell_type": "code",
   "execution_count": 27,
   "metadata": {},
   "outputs": [],
   "source": [
    "X = edf.values\n",
    "y = res_df['class'].values"
   ]
  },
  {
   "cell_type": "code",
   "execution_count": 28,
   "metadata": {},
   "outputs": [],
   "source": [
    "from sklearn import svm\n",
    "from sklearn.model_selection import cross_val_score"
   ]
  },
  {
   "cell_type": "code",
   "execution_count": 29,
   "metadata": {},
   "outputs": [
    {
     "data": {
      "text/plain": [
       "array([0.32692308, 0.14583333])"
      ]
     },
     "execution_count": 29,
     "metadata": {},
     "output_type": "execute_result"
    }
   ],
   "source": [
    "clf = svm.SVC(gamma='scale', decision_function_shape='ovo')\n",
    "cross_val_score(clf, X, y, cv=2)"
   ]
  },
  {
   "cell_type": "code",
   "execution_count": null,
   "metadata": {},
   "outputs": [],
   "source": [
    "y_incorrect = res_df[res_df['class'] != res_df['prediction']]\n",
    "y_correct = res_df[res_df['class'] == res_df['prediction']]\n",
    "y_incorrect"
   ]
  },
  {
   "cell_type": "code",
   "execution_count": null,
   "metadata": {},
   "outputs": [],
   "source": [
    "X_correct = edf.iloc[y_correct.index]\n",
    "X_incorrect = edf.iloc[y_incorrect.index]"
   ]
  },
  {
   "cell_type": "code",
   "execution_count": null,
   "metadata": {},
   "outputs": [],
   "source": [
    "clf.fit(X_correct.values, y_correct['class'].values) "
   ]
  },
  {
   "cell_type": "code",
   "execution_count": null,
   "metadata": {},
   "outputs": [],
   "source": [
    "inc_preds = clf.predict(X_incorrect.values)"
   ]
  },
  {
   "cell_type": "code",
   "execution_count": null,
   "metadata": {},
   "outputs": [],
   "source": [
    "inc_preds"
   ]
  },
  {
   "cell_type": "code",
   "execution_count": null,
   "metadata": {},
   "outputs": [],
   "source": [
    "clf.support_vectors_.shape"
   ]
  },
  {
   "cell_type": "code",
   "execution_count": null,
   "metadata": {},
   "outputs": [],
   "source": []
  },
  {
   "cell_type": "code",
   "execution_count": null,
   "metadata": {},
   "outputs": [],
   "source": []
  },
  {
   "cell_type": "code",
   "execution_count": null,
   "metadata": {},
   "outputs": [],
   "source": []
  },
  {
   "cell_type": "code",
   "execution_count": null,
   "metadata": {},
   "outputs": [],
   "source": []
  }
 ],
 "metadata": {
  "kernelspec": {
   "display_name": "Python 3",
   "language": "python",
   "name": "python3"
  },
  "language_info": {
   "codemirror_mode": {
    "name": "ipython",
    "version": 3
   },
   "file_extension": ".py",
   "mimetype": "text/x-python",
   "name": "python",
   "nbconvert_exporter": "python",
   "pygments_lexer": "ipython3",
   "version": "3.6.7"
  }
 },
 "nbformat": 4,
 "nbformat_minor": 2
}
