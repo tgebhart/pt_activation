{
 "cells": [
  {
   "cell_type": "code",
   "execution_count": 1,
   "metadata": {},
   "outputs": [],
   "source": [
    "import os\n",
    "\n",
    "import torch\n",
    "import torch.nn.functional as F\n",
    "from torchvision import datasets, transforms\n",
    "import dionysus as dion\n",
    "import numpy as np\n",
    "import pandas as pd\n",
    "import matplotlib.pyplot as plt\n",
    "import seaborn as sns\n",
    "import networkx as nx\n",
    "\n",
    "from pt_activation.models.simple_mnist import CFF\n",
    "\n",
    "%load_ext autoreload\n",
    "%autoreload 2"
   ]
  },
  {
   "cell_type": "code",
   "execution_count": 10,
   "metadata": {},
   "outputs": [],
   "source": [
    "def plot_diagram(d, n, i):\n",
    "\n",
    "    ax = plt.subplot()\n",
    "    diag = np.array([[pt.birth, pt.death] for pt in d])\n",
    "    ax.scatter(diag[:,0], diag[:,1], s=25, c=(diag[:,0] - diag[:,1])**2, cmap=plt.cm.coolwarm, zorder=10)\n",
    "    lims = [\n",
    "        np.min(0),  # min of both axes\n",
    "        np.max(1),  # max of both axes\n",
    "    ]\n",
    "\n",
    "    # now plot both limits against eachother\n",
    "\n",
    "    ax.plot(lims, lims, 'k-', alpha=0.75, zorder=0)\n",
    "    ax.set_aspect('equal')\n",
    "    ax.set_xlim(lims)\n",
    "    ax.set_ylim(lims)\n",
    "    plt.xlabel('Birth Time')\n",
    "    plt.ylabel('Death Time')\n",
    "    plt.title('Epoch {}'.format(i))\n",
    "    \n",
    "#     plt.show()\n",
    "\n",
    "    plt.savefig(os.path.join(n, 'diagram_' + str(i) + '.png'), dpi=1200,\n",
    "                            format='png', bbox_inches='tight')\n",
    "\n",
    "    plt.close()\n",
    "    plt.clf()\n",
    "    plt.cla()\n",
    "    \n",
    "    \n",
    "def persistence_score(d):\n",
    "    diag = np.array([[pt.birth,pt.death] for pt in d])\n",
    "    diag = diag[~np.isinf(diag[:,1])]\n",
    "    return np.sum(diag[:,0] - diag[:,1])*diag.shape[0]"
   ]
  },
  {
   "cell_type": "code",
   "execution_count": 3,
   "metadata": {},
   "outputs": [],
   "source": [
    "diagram_directory = '/home/tgebhart/projects/pt_activation/logdir/diagrams/train_homology_cff_5-filters_5-kernel_size_50-fc1_relu-activation.pkl'"
   ]
  },
  {
   "cell_type": "code",
   "execution_count": 4,
   "metadata": {},
   "outputs": [],
   "source": [
    "df = pd.read_pickle(diagram_directory)"
   ]
  },
  {
   "cell_type": "code",
   "execution_count": 5,
   "metadata": {},
   "outputs": [
    {
     "data": {
      "text/html": [
       "<div>\n",
       "<style scoped>\n",
       "    .dataframe tbody tr th:only-of-type {\n",
       "        vertical-align: middle;\n",
       "    }\n",
       "\n",
       "    .dataframe tbody tr th {\n",
       "        vertical-align: top;\n",
       "    }\n",
       "\n",
       "    .dataframe thead th {\n",
       "        text-align: right;\n",
       "    }\n",
       "</style>\n",
       "<table border=\"1\" class=\"dataframe\">\n",
       "  <thead>\n",
       "    <tr style=\"text-align: right;\">\n",
       "      <th></th>\n",
       "      <th>accuracy</th>\n",
       "      <th>diagrams</th>\n",
       "      <th>epoch</th>\n",
       "      <th>loss</th>\n",
       "    </tr>\n",
       "  </thead>\n",
       "  <tbody>\n",
       "    <tr>\n",
       "      <th>0</th>\n",
       "      <td>92.52</td>\n",
       "      <td>[((0.463372,inf), (0.463372,0.436716), (0.4633...</td>\n",
       "      <td>1</td>\n",
       "      <td>0.253607</td>\n",
       "    </tr>\n",
       "    <tr>\n",
       "      <th>1</th>\n",
       "      <td>95.23</td>\n",
       "      <td>[((0.520874,inf), (0.520874,0.49176), (0.52087...</td>\n",
       "      <td>2</td>\n",
       "      <td>0.161804</td>\n",
       "    </tr>\n",
       "    <tr>\n",
       "      <th>2</th>\n",
       "      <td>96.11</td>\n",
       "      <td>[((0.541316,inf), (0.541316,0.509484), (0.5413...</td>\n",
       "      <td>3</td>\n",
       "      <td>0.131134</td>\n",
       "    </tr>\n",
       "    <tr>\n",
       "      <th>3</th>\n",
       "      <td>97.00</td>\n",
       "      <td>[((0.549576,inf), (0.549576,0.517909), (0.5495...</td>\n",
       "      <td>4</td>\n",
       "      <td>0.098949</td>\n",
       "    </tr>\n",
       "    <tr>\n",
       "      <th>4</th>\n",
       "      <td>97.47</td>\n",
       "      <td>[((0.55736,inf), (0.55736,0.524924), (0.55736,...</td>\n",
       "      <td>5</td>\n",
       "      <td>0.086538</td>\n",
       "    </tr>\n",
       "  </tbody>\n",
       "</table>\n",
       "</div>"
      ],
      "text/plain": [
       "   accuracy                                           diagrams  epoch  \\\n",
       "0     92.52  [((0.463372,inf), (0.463372,0.436716), (0.4633...      1   \n",
       "1     95.23  [((0.520874,inf), (0.520874,0.49176), (0.52087...      2   \n",
       "2     96.11  [((0.541316,inf), (0.541316,0.509484), (0.5413...      3   \n",
       "3     97.00  [((0.549576,inf), (0.549576,0.517909), (0.5495...      4   \n",
       "4     97.47  [((0.55736,inf), (0.55736,0.524924), (0.55736,...      5   \n",
       "\n",
       "       loss  \n",
       "0  0.253607  \n",
       "1  0.161804  \n",
       "2  0.131134  \n",
       "3  0.098949  \n",
       "4  0.086538  "
      ]
     },
     "execution_count": 5,
     "metadata": {},
     "output_type": "execute_result"
    }
   ],
   "source": [
    "df.head()"
   ]
  },
  {
   "cell_type": "code",
   "execution_count": 6,
   "metadata": {},
   "outputs": [
    {
     "name": "stdout",
     "output_type": "stream",
     "text": [
      "[Diagram with 91 points, Diagram with 55471 points]\n",
      "[Diagram with 105 points, Diagram with 60762 points]\n"
     ]
    },
    {
     "name": "stderr",
     "output_type": "stream",
     "text": [
      "/home/tgebhart/.local/lib/python3.6/site-packages/matplotlib/figure.py:98: MatplotlibDeprecationWarning: \n",
      "Adding an axes using the same arguments as a previous axes currently reuses the earlier instance.  In a future version, a new instance will always be created and returned.  Meanwhile, this warning can be suppressed, and the future behavior ensured, by passing a unique label to each axes instance.\n",
      "  \"Adding an axes using the same arguments as a previous axes \"\n"
     ]
    },
    {
     "name": "stdout",
     "output_type": "stream",
     "text": [
      "[Diagram with 184 points, Diagram with 80080 points]\n",
      "[Diagram with 124 points, Diagram with 60752 points]\n",
      "[Diagram with 74 points, Diagram with 48341 points]\n",
      "[Diagram with 157 points, Diagram with 71741 points]\n",
      "[Diagram with 113 points, Diagram with 61117 points]\n",
      "[Diagram with 165 points, Diagram with 73983 points]\n",
      "[Diagram with 63 points, Diagram with 47230 points]\n",
      "[Diagram with 117 points, Diagram with 60145 points]\n",
      "[Diagram with 116 points, Diagram with 59333 points]\n",
      "[Diagram with 183 points, Diagram with 76124 points]\n",
      "[Diagram with 199 points, Diagram with 79206 points]\n",
      "[Diagram with 157 points, Diagram with 73842 points]\n",
      "[Diagram with 119 points, Diagram with 59691 points]\n",
      "[Diagram with 157 points, Diagram with 72080 points]\n",
      "[Diagram with 176 points, Diagram with 82581 points]\n",
      "[Diagram with 158 points, Diagram with 73692 points]\n",
      "[Diagram with 157 points, Diagram with 69076 points]\n",
      "[Diagram with 161 points, Diagram with 68451 points]\n",
      "[Diagram with 103 points, Diagram with 57912 points]\n",
      "[Diagram with 139 points, Diagram with 67129 points]\n",
      "[Diagram with 188 points, Diagram with 79995 points]\n",
      "[Diagram with 83 points, Diagram with 51957 points]\n",
      "[Diagram with 98 points, Diagram with 59507 points]\n",
      "[Diagram with 151 points, Diagram with 67749 points]\n",
      "[Diagram with 183 points, Diagram with 84431 points]\n",
      "[Diagram with 166 points, Diagram with 70475 points]\n",
      "[Diagram with 170 points, Diagram with 72173 points]\n",
      "[Diagram with 137 points, Diagram with 66936 points]\n",
      "[Diagram with 67 points, Diagram with 46981 points]\n",
      "[Diagram with 113 points, Diagram with 60614 points]\n",
      "[Diagram with 162 points, Diagram with 68639 points]\n",
      "[Diagram with 128 points, Diagram with 75670 points]\n",
      "[Diagram with 188 points, Diagram with 80237 points]\n",
      "[Diagram with 159 points, Diagram with 70152 points]\n",
      "[Diagram with 107 points, Diagram with 60632 points]\n",
      "[Diagram with 155 points, Diagram with 73048 points]\n",
      "[Diagram with 112 points, Diagram with 59488 points]\n",
      "[Diagram with 96 points, Diagram with 52447 points]\n",
      "[Diagram with 178 points, Diagram with 85018 points]\n",
      "[Diagram with 146 points, Diagram with 68296 points]\n",
      "[Diagram with 129 points, Diagram with 61987 points]\n",
      "[Diagram with 102 points, Diagram with 53843 points]\n",
      "[Diagram with 152 points, Diagram with 65999 points]\n",
      "[Diagram with 109 points, Diagram with 57472 points]\n",
      "[Diagram with 108 points, Diagram with 58420 points]\n",
      "[Diagram with 202 points, Diagram with 80056 points]\n",
      "[Diagram with 165 points, Diagram with 72929 points]\n",
      "[Diagram with 205 points, Diagram with 81516 points]\n"
     ]
    },
    {
     "data": {
      "image/png": "[encoded data removed]",
      "text/plain": [
       "<Figure size 432x288 with 1 Axes>"
      ]
     },
     "metadata": {
      "needs_background": "light"
     },
     "output_type": "display_data"
    }
   ],
   "source": [
    "save_loc = '/home/tgebhart/projects/pt_activation/logdir/diagrams/training'\n",
    "for i in range(df.shape[0]):\n",
    "    print(df['diagrams'].iloc[i])\n",
    "    plot_diagram(df['diagrams'].iloc[i][0], save_loc, df['epoch'].iloc[i])"
   ]
  },
  {
   "cell_type": "code",
   "execution_count": 11,
   "metadata": {},
   "outputs": [],
   "source": [
    "scores = []\n",
    "for i in range(df.shape[0]):\n",
    "    scores.append(persistence_score(df['diagrams'].iloc[i][0]))"
   ]
  },
  {
   "cell_type": "code",
   "execution_count": 12,
   "metadata": {},
   "outputs": [
    {
     "data": {
      "text/plain": [
       "[<matplotlib.lines.Line2D at 0x7f675e770dd8>]"
      ]
     },
     "execution_count": 12,
     "metadata": {},
     "output_type": "execute_result"
    },
    {
     "data": {
      "image/png": "[encoded data removed]",
      "text/plain": [
       "<Figure size 432x288 with 1 Axes>"
      ]
     },
     "metadata": {
      "needs_background": "light"
     },
     "output_type": "display_data"
    }
   ],
   "source": [
    "fig, ax1 = plt.subplots()\n",
    "\n",
    "color = 'red'\n",
    "ax1.set_xlabel('epoch')\n",
    "ax1.set_ylabel('persistence_score', color=color)\n",
    "ax1.plot(df['epoch'], scores, color=color)\n",
    "\n",
    "ax2 = ax1.twinx()  # instantiate a second axes that shares the same x-axis\n",
    "\n",
    "color = 'blue'\n",
    "ax2.set_ylabel('loss', color=color)  # we already handled the x-label with ax1\n",
    "ax2.plot(df['epoch'], df['loss'], color=color)\n",
    "ax2.tick_params(axis='y', labelcolor=color)\n",
    "ax.plot(df['epoch'], scores)\n",
    "ax.plot(df['epoch'], df['loss'])"
   ]
  },
  {
   "cell_type": "code",
   "execution_count": null,
   "metadata": {},
   "outputs": [],
   "source": []
  }
 ],
 "metadata": {
  "kernelspec": {
   "display_name": "Python 3",
   "language": "python",
   "name": "python3"
  },
  "language_info": {
   "codemirror_mode": {
    "name": "ipython",
    "version": 3
   },
   "file_extension": ".py",
   "mimetype": "text/x-python",
   "name": "python",
   "nbconvert_exporter": "python",
   "pygments_lexer": "ipython3",
   "version": "3.6.7"
  }
 },
 "nbformat": 4,
 "nbformat_minor": 2
}
