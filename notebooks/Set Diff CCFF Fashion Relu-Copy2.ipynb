{
 "cells": [
  {
   "cell_type": "markdown",
   "metadata": {},
   "source": [
    "- what are the nearest neighbors of the additional graph structure induced by the adversary?\n",
    "\n",
    "- Computing something like an \"average\" subgraph for a class might be difficult because it is unclear how we deal with conflicting directions on edge weights and how we actually average over all the possible subgraphs examples from various classes could elicit\n",
    "    - But this analysis would be fairly interesting. Should think more about how to do this"
   ]
  },
  {
   "cell_type": "code",
   "execution_count": 1,
   "metadata": {},
   "outputs": [],
   "source": [
    "import os\n",
    "import parse\n",
    "\n",
    "import torch\n",
    "import torch.nn.functional as F\n",
    "from torchvision import datasets, transforms\n",
    "import dionysus as dion\n",
    "import numpy as np\n",
    "from scipy.spatial.distance import hamming, cosine\n",
    "import pandas as pd\n",
    "import matplotlib.pyplot as plt\n",
    "import seaborn as sns\n",
    "import networkx as nx\n",
    "\n",
    "PERCENTILE = 95\n",
    "\n",
    "from pt_activation.models.ccff import CCFF\n",
    "\n",
    "%load_ext autoreload\n",
    "%autoreload 2"
   ]
  },
  {
   "cell_type": "code",
   "execution_count": 2,
   "metadata": {},
   "outputs": [],
   "source": [
    "def get_adv_info(filename):\n",
    "    format_string = 'true-{}_adv-{}_sample-{}.npy'\n",
    "    parsed = parse.parse(format_string, filename)\n",
    "    return {'true class':int(parsed[0]), 'adv class':int(parsed[1]), 'sample':int(parsed[2])}\n",
    "\n",
    "def read_adversaries(loc):\n",
    "    ret = []\n",
    "    for f in os.listdir(loc):\n",
    "        if os.path.isfile(os.path.join(loc,f)) and f.find('.npy') != -1:\n",
    "            adv = np.load(os.path.join(loc, f))\n",
    "            info = get_adv_info(f)\n",
    "            info['adversary'] = adv\n",
    "            ret.append(info)\n",
    "    return ret\n",
    "    "
   ]
  },
  {
   "cell_type": "code",
   "execution_count": 3,
   "metadata": {},
   "outputs": [],
   "source": [
    "adv_directory_loc = '/home/tgebhart/projects/pt_activation/logdir/adversaries/fashion/projected_gradient_descent/ccff.pt'\n",
    "adversaries = read_adversaries(adv_directory_loc)\n",
    "adversaries = sorted(adversaries,  key=lambda k: k['sample'])"
   ]
  },
  {
   "cell_type": "code",
   "execution_count": 4,
   "metadata": {},
   "outputs": [],
   "source": [
    "def get_adv_dists(adversaries, up_to):\n",
    "    device = torch.device('cpu')\n",
    "    dists = np.zeros(up_to)\n",
    "    i = 0\n",
    "    ims = []\n",
    "    kwargs = {'num_workers': 1, 'pin_memory': True}\n",
    "    test_loader = torch.utils.data.DataLoader(\n",
    "        datasets.FashionMNIST('../../data', train=False, download=True, transform=transforms.Compose([transforms.ToTensor(),\n",
    "                               transforms.Normalize((0.5,), (0.5,))])), batch_size=1, shuffle=False, **kwargs)\n",
    "    adv_images = np.array([a['adversary'] for a in adversaries])\n",
    "    with torch.no_grad():\n",
    "        for data, target in test_loader:\n",
    "            d = data.numpy()[0].reshape(28*28)\n",
    "            ims.append(d)\n",
    "            dists[i] = np.linalg.norm(d-adv_images[i].reshape(28*28),2)\n",
    "            i += 1\n",
    "            if i >= up_to:\n",
    "                break\n",
    "            \n",
    "    return dists, ims, adv_images\n",
    "\n",
    "def create_sample_graph(f,tnms,wm):\n",
    "\n",
    "    subgraphs = {}\n",
    "    m = dion.homology_persistence(f)\n",
    "    dgm = dion.init_diagrams(m,f)[0]\n",
    "    for i,c in enumerate(m):\n",
    "        if len(c) == 2:\n",
    "            w = f[i].data\n",
    "            if (tnms[f[c[0].index][0]],tnms[f[c[1].index][0]]) in wm:\n",
    "                w = wm[(tnms[f[c[0].index][0]],tnms[f[c[1].index][0]])]\n",
    "            elif (tnms[f[c[1].index][0]],tnms[f[c[0].index][0]]) in wm:\n",
    "                w = wm[(tnms[f[c[1].index][0]],tnms[f[c[0].index][0]])]\n",
    "#                 else:\n",
    "#                     print((tnms[f[c[0].index][0]],tnms[f[c[1].index][0]]))\n",
    "#                     raise Exception('NO WM!')\n",
    "            if False: #tnms[f[c[0].index][0]] in subgraphs:\n",
    "                subgraphs[tnms[f[c[0].index][0]]].add_edge(tnms[f[c[0].index][0]],tnms[f[c[1].index][0]], weight=w)\n",
    "            else:\n",
    "                eaten = False\n",
    "                for k, v in subgraphs.items():\n",
    "                    if v.has_node(tnms[f[c[0].index][0]]):\n",
    "                        if tnms[f[c[1].index][0]] in subgraphs:\n",
    "                            v.add_node(tnms[f[c[1].index][0]])\n",
    "#                                 subgraphs[k] = nx.union(v, subgraphs[tnms[f[c[1].index][0]]])\n",
    "                        else:\n",
    "                            v.add_edge(tnms[f[c[0].index][0]], tnms[f[c[1].index][0]], weight=w)\n",
    "                        eaten = True\n",
    "                        break\n",
    "                if not eaten:\n",
    "                    g = nx.Graph()\n",
    "                    g.add_edge(tnms[f[c[0].index][0]], tnms[f[c[1].index][0]], weight=w)\n",
    "                    subgraphs[tnms[f[c[0].index][0]]] = g\n",
    "\n",
    "    return subgraphs, dgm, create_lifetimes(f,subgraphs,dgm,tnms)\n",
    "\n",
    "def create_lifetimes(f, subgraphs, dgm, ids):\n",
    "    lifetimes = {}\n",
    "    for pt in dgm:\n",
    "        k = ids[f[pt.data][0]]\n",
    "        if k in subgraphs.keys():\n",
    "            if pt.death < float('inf'):\n",
    "                lifetimes[k] = pt.birth - pt.death\n",
    "            else:\n",
    "                lifetimes[k] = pt.birth\n",
    "    return lifetimes\n",
    "\n",
    "\n",
    "\n",
    "# In[9]:\n",
    "\n",
    "\n",
    "def create_subgraphs(model, batch_size, up_to):\n",
    "    device = torch.device(\"cpu\")\n",
    "    kwargs = {'num_workers': 1, 'pin_memory': True}\n",
    "    test_loader = torch.utils.data.DataLoader(\n",
    "        datasets.FashionMNIST('../../data', train=False, download=True, transform=transforms.Compose([transforms.ToTensor(),\n",
    "                               transforms.Normalize((0.5,), (0.5,))])), batch_size=batch_size, shuffle=False, **kwargs)\n",
    "\n",
    "    model.eval()\n",
    "    test_loss = 0\n",
    "    correct = 0\n",
    "    t = 0\n",
    "    res_df = []\n",
    "    subgraphs = []\n",
    "    diagrams = []\n",
    "    lifetimes = []\n",
    "    with torch.no_grad():\n",
    "        for data, target in test_loader:\n",
    "            data, target = data.to(device), target.to(device)\n",
    "            output, hiddens = model(data, hiddens=True)\n",
    "            test_loss = F.nll_loss(output, target).item() # sum up batch loss\n",
    "            pred = output.max(1, keepdim=True)[1] # get the index of the max log-probability\n",
    "            correct += pred.eq(target.view_as(pred)).sum().item()\n",
    "\n",
    "            for s in range(data.shape[0]):\n",
    "                this_hiddens = [hiddens[i][s] for i in range(len(hiddens))]\n",
    "                print('Filtration: {}'.format(s+t))\n",
    "                f, nm, wm = model.compute_dynamic_filtration2(data[s], this_hiddens, percentile=PERCENTILE, return_nm=True, absolute_value=True)\n",
    "                tnm = {v: k for k, v in nm.items()}\n",
    "                sg, dg, lifetime = create_sample_graph(f, tnm, wm)\n",
    "                row = {'loss':test_loss, 'class':target.cpu().numpy()[s], 'prediction':pred.cpu().numpy()[s][0]}\n",
    "                res_df.append(row)\n",
    "                subgraphs.append(sg)\n",
    "                diagrams.append(dg)\n",
    "                lifetimes.append(lifetime)\n",
    "\n",
    "            t += batch_size\n",
    "            if t >= up_to:\n",
    "                break\n",
    "\n",
    "    return pd.DataFrame(res_df), subgraphs, diagrams, lifetimes\n",
    "\n",
    "\n",
    "def create_adversary_subgraphs(model, batch_size, up_to, adversaries):\n",
    "    device = torch.device(\"cpu\")\n",
    "    adv_images = torch.tensor(np.array([a['adversary'] for a in adversaries]))\n",
    "    adv_labels = torch.tensor(np.array([a['true class'] for a in adversaries]))\n",
    "    adv_samples = [a['sample'] for a in adversaries]\n",
    "\n",
    "    print(adv_images.shape, adv_labels.shape)\n",
    "\n",
    "    advs = torch.utils.data.TensorDataset(adv_images, adv_labels)\n",
    "    test_loader = torch.utils.data.DataLoader(advs, batch_size=batch_size, shuffle=False)\n",
    "\n",
    "    model.eval()\n",
    "    test_loss = 0\n",
    "    correct = 0\n",
    "    t = 0\n",
    "    res_df = []\n",
    "    subgraphs = []\n",
    "    diagrams = []\n",
    "    lifetimes = []\n",
    "    with torch.no_grad():\n",
    "\n",
    "        for data, target in test_loader:\n",
    "            data, target = data.to(device), target.to(device)\n",
    "            output, hiddens = model(data, hiddens=True)\n",
    "            test_loss = F.nll_loss(output, target).item() # sum up batch loss\n",
    "            pred = output.max(1, keepdim=True)[1] # get the index of the max log-probability\n",
    "            correct += pred.eq(target.view_as(pred)).sum().item()\n",
    "            for s in range(data.shape[0]):\n",
    "                this_hiddens = [hiddens[i][s] for i in range(len(hiddens))]\n",
    "                print('Filtration: {}'.format(s+t))\n",
    "                f, nm, wm = model.compute_dynamic_filtration2(data[s], this_hiddens, percentile=PERCENTILE, return_nm=True, absolute_value=True)\n",
    "                tnm = {v: k for k, v in nm.items()}\n",
    "                sg, dg, lifetime = create_sample_graph(f, tnm, wm)\n",
    "                row = {'loss':test_loss, 'class':target.cpu().numpy()[s], 'prediction':pred.cpu().numpy()[s][0]}\n",
    "                res_df.append(row)\n",
    "                subgraphs.append(sg)\n",
    "                diagrams.append(dg)\n",
    "                lifetimes.append(lifetime)\n",
    "\n",
    "            t += (batch_size)\n",
    "            if t >= up_to:\n",
    "                break\n",
    "\n",
    "    return pd.DataFrame(res_df), subgraphs, diagrams, lifetimes\n",
    "\n",
    "def create_moved_subgraphs(model, ims, labels, devs, batch_size, up_to, times=1):\n",
    "    device = torch.device(\"cpu\")\n",
    "\n",
    "    nims = []\n",
    "    for i in range(len(ims)):\n",
    "#         print('finding alteration number', i)\n",
    "        im = ims[i]\n",
    "        dev = devs[i]\n",
    "        delim = np.zeros(im.shape, dtype=im.dtype)\n",
    "        sigma = 0\n",
    "        while np.linalg.norm(im+delim - im) < dev:\n",
    "            sigma += 0.00001\n",
    "            delim = np.random.normal(scale=sigma, size=im.shape)\n",
    "        nims.append((im+delim).reshape(1,28,28))\n",
    "    tims = torch.FloatTensor(nims)\n",
    "    tlabels = torch.tensor(labels)\n",
    "    print(tims.shape, tlabels.shape, type(tims), type(tlabels))\n",
    "    dataset = torch.utils.data.TensorDataset(tims, tlabels)\n",
    "    test_loader = torch.utils.data.DataLoader(dataset, batch_size=batch_size, shuffle=False)\n",
    "    \n",
    "    model.eval()\n",
    "    test_loss = 0\n",
    "    correct = 0\n",
    "    t = 0\n",
    "    res_df = []\n",
    "    subgraphs = []\n",
    "    diagrams = []\n",
    "    lifetimes = []\n",
    "    with torch.no_grad():\n",
    "\n",
    "        for data, target in test_loader:\n",
    "            data, target = data.to(device), target.to(device)\n",
    "            output, hiddens = model(data, hiddens=True)\n",
    "            test_loss = F.nll_loss(output, target).item() # sum up batch loss\n",
    "            pred = output.max(1, keepdim=True)[1] # get the index of the max log-probability\n",
    "            correct += pred.eq(target.view_as(pred)).sum().item()\n",
    "            for s in range(data.shape[0]):\n",
    "                this_hiddens = [hiddens[i][s] for i in range(len(hiddens))]\n",
    "                print('Filtration: {}'.format(s+t))\n",
    "                f, nm, wm = model.compute_dynamic_filtration2(data[s], this_hiddens, percentile=PERCENTILE, return_nm=True, absolute_value=True)\n",
    "                tnm = {v: k for k, v in nm.items()}\n",
    "                sg, dg, lifetime = create_sample_graph(f, tnm, wm)\n",
    "                row = {'loss':test_loss, 'class':target.cpu().numpy()[s], 'prediction':pred.cpu().numpy()[s][0]}\n",
    "                res_df.append(row)\n",
    "                subgraphs.append(sg)\n",
    "                diagrams.append(dg)\n",
    "                lifetimes.append(lifetime)\n",
    "\n",
    "            t += (batch_size)\n",
    "            if t >= up_to:\n",
    "                break\n",
    "\n",
    "    return pd.DataFrame(res_df), subgraphs, diagrams, lifetimes, nims"
   ]
  },
  {
   "cell_type": "code",
   "execution_count": 5,
   "metadata": {},
   "outputs": [],
   "source": [
    "model_location = '/home/tgebhart/projects/pt_activation/logdir/models/fashion/ccff.pt'\n",
    "model = CCFF()\n",
    "model.load_state_dict(torch.load(model_location))"
   ]
  },
  {
   "cell_type": "code",
   "execution_count": 6,
   "metadata": {
    "scrolled": true
   },
   "outputs": [
    {
     "name": "stdout",
     "output_type": "stream",
     "text": [
      "Filtration: 0\n",
      "filtration size 19245\n",
      "Filtration: 1\n",
      "filtration size 19335\n",
      "Filtration: 2\n",
      "filtration size 19308\n",
      "Filtration: 3\n",
      "filtration size 19321\n",
      "Filtration: 4\n",
      "filtration size 19370\n",
      "Filtration: 5\n",
      "filtration size 19307\n",
      "Filtration: 6\n",
      "filtration size 19362\n",
      "Filtration: 7\n",
      "filtration size 19392\n",
      "Filtration: 8\n",
      "filtration size 19775\n",
      "Filtration: 9\n",
      "filtration size 19285\n",
      "Filtration: 10\n",
      "filtration size 19321\n",
      "Filtration: 11\n",
      "filtration size 19285\n",
      "Filtration: 12\n",
      "filtration size 19290\n",
      "Filtration: 13\n",
      "filtration size 19352\n",
      "Filtration: 14\n",
      "filtration size 19392\n",
      "Filtration: 15\n",
      "filtration size 19357\n",
      "Filtration: 16\n",
      "filtration size 19325\n",
      "Filtration: 17\n",
      "filtration size 19402\n",
      "Filtration: 18\n",
      "filtration size 19263\n",
      "Filtration: 19\n",
      "filtration size 19335\n",
      "Filtration: 20\n",
      "filtration size 19471\n",
      "Filtration: 21\n",
      "filtration size 19296\n",
      "Filtration: 22\n",
      "filtration size 19228\n",
      "Filtration: 23\n",
      "filtration size 19264\n",
      "Filtration: 24\n",
      "filtration size 19296\n",
      "Filtration: 25\n",
      "filtration size 19360\n",
      "Filtration: 26\n",
      "filtration size 19315\n",
      "Filtration: 27\n",
      "filtration size 19373\n",
      "Filtration: 28\n",
      "filtration size 19277\n",
      "Filtration: 29\n",
      "filtration size 19333\n",
      "Filtration: 30\n",
      "filtration size 19399\n",
      "Filtration: 31\n",
      "filtration size 19345\n",
      "Filtration: 32\n",
      "filtration size 19306\n",
      "Filtration: 33\n",
      "filtration size 19337\n",
      "Filtration: 34\n",
      "filtration size 19393\n",
      "Filtration: 35\n",
      "filtration size 19364\n",
      "Filtration: 36\n",
      "filtration size 19295\n",
      "Filtration: 37\n",
      "filtration size 19242\n",
      "Filtration: 38\n",
      "filtration size 19271\n",
      "Filtration: 39\n",
      "filtration size 19239\n",
      "Filtration: 40\n",
      "filtration size 19300\n",
      "Filtration: 41\n",
      "filtration size 19355\n",
      "Filtration: 42\n",
      "filtration size 19362\n",
      "Filtration: 43\n",
      "filtration size 19255\n",
      "Filtration: 44\n",
      "filtration size 19372\n",
      "Filtration: 45\n",
      "filtration size 19283\n",
      "Filtration: 46\n",
      "filtration size 19457\n",
      "Filtration: 47\n",
      "filtration size 19337\n",
      "Filtration: 48\n",
      "filtration size 19269\n",
      "Filtration: 49\n",
      "filtration size 19364\n",
      "Filtration: 50\n",
      "filtration size 19358\n",
      "Filtration: 51\n",
      "filtration size 19356\n",
      "Filtration: 52\n",
      "filtration size 19304\n",
      "Filtration: 53\n",
      "filtration size 19481\n",
      "Filtration: 54\n",
      "filtration size 19351\n",
      "Filtration: 55\n",
      "filtration size 19358\n",
      "Filtration: 56\n",
      "filtration size 19287\n",
      "Filtration: 57\n",
      "filtration size 19345\n",
      "Filtration: 58\n",
      "filtration size 19329\n",
      "Filtration: 59\n",
      "filtration size 19446\n",
      "Filtration: 60\n",
      "filtration size 19259\n",
      "Filtration: 61\n",
      "filtration size 19259\n",
      "Filtration: 62\n",
      "filtration size 19261\n",
      "Filtration: 63\n",
      "filtration size 19322\n",
      "Filtration: 64\n",
      "filtration size 19314\n",
      "Filtration: 65\n",
      "filtration size 19332\n",
      "Filtration: 66\n",
      "filtration size 19288\n",
      "Filtration: 67\n",
      "filtration size 19337\n",
      "Filtration: 68\n",
      "filtration size 19303\n",
      "Filtration: 69\n",
      "filtration size 19374\n",
      "Filtration: 70\n",
      "filtration size 19298\n",
      "Filtration: 71\n",
      "filtration size 19524\n",
      "Filtration: 72\n",
      "filtration size 19402\n",
      "Filtration: 73\n",
      "filtration size 19363\n",
      "Filtration: 74\n",
      "filtration size 19371\n",
      "Filtration: 75\n",
      "filtration size 19990\n",
      "Filtration: 76\n",
      "filtration size 19353\n",
      "Filtration: 77\n",
      "filtration size 19307\n",
      "Filtration: 78\n",
      "filtration size 19224\n",
      "Filtration: 79\n",
      "filtration size 19313\n",
      "Filtration: 80\n",
      "filtration size 19311\n",
      "Filtration: 81\n",
      "filtration size 19416\n",
      "Filtration: 82\n",
      "filtration size 19279\n",
      "Filtration: 83\n",
      "filtration size 19257\n",
      "Filtration: 84\n",
      "filtration size 19260\n",
      "Filtration: 85\n",
      "filtration size 19287\n",
      "Filtration: 86\n",
      "filtration size 19356\n",
      "Filtration: 87\n",
      "filtration size 19336\n",
      "Filtration: 88\n",
      "filtration size 19295\n",
      "Filtration: 89\n",
      "filtration size 19401\n",
      "Filtration: 90\n",
      "filtration size 19254\n",
      "Filtration: 91\n",
      "filtration size 19674\n",
      "Filtration: 92\n",
      "filtration size 19301\n",
      "Filtration: 93\n",
      "filtration size 19235\n",
      "Filtration: 94\n",
      "filtration size 19339\n",
      "Filtration: 95\n",
      "filtration size 19320\n",
      "Filtration: 96\n",
      "filtration size 19593\n",
      "Filtration: 97\n",
      "filtration size 19376\n",
      "Filtration: 98\n",
      "filtration size 19402\n",
      "Filtration: 99\n",
      "filtration size 19272\n"
     ]
    }
   ],
   "source": [
    "res_df, sample_graphs, diagrams, lifetimes = create_subgraphs(model, 50, 100)"
   ]
  },
  {
   "cell_type": "code",
   "execution_count": 7,
   "metadata": {
    "scrolled": true
   },
   "outputs": [
    {
     "name": "stdout",
     "output_type": "stream",
     "text": [
      "torch.Size([1000, 1, 28, 28]) torch.Size([1000])\n",
      "Filtration: 0\n",
      "filtration size 19247\n",
      "Filtration: 1\n",
      "filtration size 19361\n",
      "Filtration: 2\n",
      "filtration size 19329\n",
      "Filtration: 3\n",
      "filtration size 19313\n",
      "Filtration: 4\n",
      "filtration size 19371\n",
      "Filtration: 5\n",
      "filtration size 19334\n",
      "Filtration: 6\n",
      "filtration size 19369\n",
      "Filtration: 7\n",
      "filtration size 19392\n",
      "Filtration: 8\n",
      "filtration size 19779\n",
      "Filtration: 9\n",
      "filtration size 19294\n",
      "Filtration: 10\n",
      "filtration size 19355\n",
      "Filtration: 11\n",
      "filtration size 19289\n",
      "Filtration: 12\n",
      "filtration size 19290\n",
      "Filtration: 13\n",
      "filtration size 19382\n",
      "Filtration: 14\n",
      "filtration size 19392\n",
      "Filtration: 15\n",
      "filtration size 19330\n",
      "Filtration: 16\n",
      "filtration size 19366\n",
      "Filtration: 17\n",
      "filtration size 19403\n",
      "Filtration: 18\n",
      "filtration size 19325\n",
      "Filtration: 19\n",
      "filtration size 19339\n",
      "Filtration: 20\n",
      "filtration size 19475\n",
      "Filtration: 21\n",
      "filtration size 19296\n",
      "Filtration: 22\n",
      "filtration size 19241\n",
      "Filtration: 23\n",
      "filtration size 19264\n",
      "Filtration: 24\n",
      "filtration size 19314\n",
      "Filtration: 25\n",
      "filtration size 19361\n",
      "Filtration: 26\n",
      "filtration size 19321\n",
      "Filtration: 27\n",
      "filtration size 19376\n",
      "Filtration: 28\n",
      "filtration size 19284\n",
      "Filtration: 29\n",
      "filtration size 19336\n",
      "Filtration: 30\n",
      "filtration size 19405\n",
      "Filtration: 31\n",
      "filtration size 19349\n",
      "Filtration: 32\n",
      "filtration size 19307\n",
      "Filtration: 33\n",
      "filtration size 19340\n",
      "Filtration: 34\n",
      "filtration size 19408\n",
      "Filtration: 35\n",
      "filtration size 19457\n",
      "Filtration: 36\n",
      "filtration size 19301\n",
      "Filtration: 37\n",
      "filtration size 19600\n",
      "Filtration: 38\n",
      "filtration size 19281\n",
      "Filtration: 39\n",
      "filtration size 19254\n",
      "Filtration: 40\n",
      "filtration size 19300\n",
      "Filtration: 41\n",
      "filtration size 19378\n",
      "Filtration: 42\n",
      "filtration size 19362\n",
      "Filtration: 43\n",
      "filtration size 19255\n",
      "Filtration: 44\n",
      "filtration size 19372\n",
      "Filtration: 45\n",
      "filtration size 19461\n",
      "Filtration: 46\n",
      "filtration size 19468\n",
      "Filtration: 47\n",
      "filtration size 19354\n",
      "Filtration: 48\n",
      "filtration size 19268\n",
      "Filtration: 49\n",
      "filtration size 19364\n",
      "Filtration: 50\n",
      "filtration size 19364\n",
      "Filtration: 51\n",
      "filtration size 19360\n",
      "Filtration: 52\n",
      "filtration size 19639\n",
      "Filtration: 53\n",
      "filtration size 19441\n",
      "Filtration: 54\n",
      "filtration size 19361\n",
      "Filtration: 55\n",
      "filtration size 19357\n",
      "Filtration: 56\n",
      "filtration size 19322\n",
      "Filtration: 57\n",
      "filtration size 19348\n",
      "Filtration: 58\n",
      "filtration size 19288\n",
      "Filtration: 59\n",
      "filtration size 19494\n",
      "Filtration: 60\n",
      "filtration size 19265\n",
      "Filtration: 61\n",
      "filtration size 19264\n",
      "Filtration: 62\n",
      "filtration size 19282\n",
      "Filtration: 63\n",
      "filtration size 19335\n",
      "Filtration: 64\n",
      "filtration size 19326\n",
      "Filtration: 65\n",
      "filtration size 19311\n",
      "Filtration: 66\n",
      "filtration size 19288\n",
      "Filtration: 67\n",
      "filtration size 19337\n",
      "Filtration: 68\n",
      "filtration size 19303\n",
      "Filtration: 69\n",
      "filtration size 19439\n",
      "Filtration: 70\n",
      "filtration size 19307\n",
      "Filtration: 71\n",
      "filtration size 19666\n",
      "Filtration: 72\n",
      "filtration size 19409\n",
      "Filtration: 73\n",
      "filtration size 19359\n",
      "Filtration: 74\n",
      "filtration size 19371\n",
      "Filtration: 75\n",
      "filtration size 19678\n",
      "Filtration: 76\n",
      "filtration size 19368\n",
      "Filtration: 77\n",
      "filtration size 19319\n",
      "Filtration: 78\n",
      "filtration size 19250\n",
      "Filtration: 79\n",
      "filtration size 19313\n",
      "Filtration: 80\n",
      "filtration size 19554\n",
      "Filtration: 81\n",
      "filtration size 19436\n",
      "Filtration: 82\n",
      "filtration size 19309\n",
      "Filtration: 83\n",
      "filtration size 19298\n",
      "Filtration: 84\n",
      "filtration size 19277\n",
      "Filtration: 85\n",
      "filtration size 19295\n",
      "Filtration: 86\n",
      "filtration size 19372\n",
      "Filtration: 87\n",
      "filtration size 19399\n",
      "Filtration: 88\n",
      "filtration size 19319\n",
      "Filtration: 89\n",
      "filtration size 19401\n",
      "Filtration: 90\n",
      "filtration size 19257\n",
      "Filtration: 91\n",
      "filtration size 19705\n",
      "Filtration: 92\n",
      "filtration size 19302\n",
      "Filtration: 93\n",
      "filtration size 19266\n",
      "Filtration: 94\n",
      "filtration size 19327\n",
      "Filtration: 95\n",
      "filtration size 19320\n",
      "Filtration: 96\n",
      "filtration size 19579\n",
      "Filtration: 97\n",
      "filtration size 19385\n",
      "Filtration: 98\n",
      "filtration size 19402\n",
      "Filtration: 99\n",
      "filtration size 19270\n"
     ]
    }
   ],
   "source": [
    "adv_df, adv_sample_graphs, adv_diagrams, adv_lifetimes = create_adversary_subgraphs(model, 50, 100, adversaries)"
   ]
  },
  {
   "cell_type": "code",
   "execution_count": 8,
   "metadata": {},
   "outputs": [],
   "source": [
    "dists, ims, adv_ims = get_adv_dists(adversaries, 100)"
   ]
  },
  {
   "cell_type": "code",
   "execution_count": 9,
   "metadata": {
    "scrolled": true
   },
   "outputs": [
    {
     "name": "stdout",
     "output_type": "stream",
     "text": [
      "torch.Size([100, 1, 28, 28]) torch.Size([100]) <class 'torch.Tensor'> <class 'torch.Tensor'>\n",
      "Filtration: 0\n",
      "filtration size 19252\n",
      "Filtration: 1\n",
      "filtration size 19327\n",
      "Filtration: 2\n",
      "filtration size 19319\n",
      "Filtration: 3\n",
      "filtration size 19325\n",
      "Filtration: 4\n",
      "filtration size 19371\n",
      "Filtration: 5\n",
      "filtration size 19319\n",
      "Filtration: 6\n",
      "filtration size 19361\n",
      "Filtration: 7\n",
      "filtration size 19396\n",
      "Filtration: 8\n",
      "filtration size 19472\n",
      "Filtration: 9\n",
      "filtration size 19291\n",
      "Filtration: 10\n",
      "filtration size 19327\n",
      "Filtration: 11\n",
      "filtration size 19296\n",
      "Filtration: 12\n",
      "filtration size 19290\n",
      "Filtration: 13\n",
      "filtration size 19360\n",
      "Filtration: 14\n",
      "filtration size 19395\n",
      "Filtration: 15\n",
      "filtration size 19366\n",
      "Filtration: 16\n",
      "filtration size 19346\n",
      "Filtration: 17\n",
      "filtration size 19400\n",
      "Filtration: 18\n",
      "filtration size 19283\n",
      "Filtration: 19\n",
      "filtration size 19333\n",
      "Filtration: 20\n",
      "filtration size 19486\n",
      "Filtration: 21\n",
      "filtration size 19299\n",
      "Filtration: 22\n",
      "filtration size 19231\n",
      "Filtration: 23\n",
      "filtration size 19264\n",
      "Filtration: 24\n",
      "filtration size 19301\n",
      "Filtration: 25\n",
      "filtration size 19361\n",
      "Filtration: 26\n",
      "filtration size 19318\n",
      "Filtration: 27\n",
      "filtration size 19374\n",
      "Filtration: 28\n",
      "filtration size 19273\n",
      "Filtration: 29\n",
      "filtration size 19334\n",
      "Filtration: 30\n",
      "filtration size 19417\n",
      "Filtration: 31\n",
      "filtration size 19344\n",
      "Filtration: 32\n",
      "filtration size 19304\n",
      "Filtration: 33\n",
      "filtration size 19337\n",
      "Filtration: 34\n",
      "filtration size 19389\n",
      "Filtration: 35\n",
      "filtration size 19407\n",
      "Filtration: 36\n",
      "filtration size 19295\n",
      "Filtration: 37\n",
      "filtration size 19240\n",
      "Filtration: 38\n",
      "filtration size 19275\n",
      "Filtration: 39\n",
      "filtration size 19241\n",
      "Filtration: 40\n",
      "filtration size 19300\n",
      "Filtration: 41\n",
      "filtration size 19363\n",
      "Filtration: 42\n",
      "filtration size 19362\n",
      "Filtration: 43\n",
      "filtration size 19255\n",
      "Filtration: 44\n",
      "filtration size 19372\n",
      "Filtration: 45\n",
      "filtration size 19359\n",
      "Filtration: 46\n",
      "filtration size 19471\n",
      "Filtration: 47\n",
      "filtration size 19333\n",
      "Filtration: 48\n",
      "filtration size 19269\n",
      "Filtration: 49\n",
      "filtration size 19364\n",
      "Filtration: 50\n",
      "filtration size 19363\n",
      "Filtration: 51\n",
      "filtration size 19356\n",
      "Filtration: 52\n",
      "filtration size 19315\n",
      "Filtration: 53\n",
      "filtration size 19468\n",
      "Filtration: 54\n",
      "filtration size 19366\n",
      "Filtration: 55\n",
      "filtration size 19360\n",
      "Filtration: 56\n",
      "filtration size 19295\n",
      "Filtration: 57\n",
      "filtration size 19344\n",
      "Filtration: 58\n",
      "filtration size 19321\n",
      "Filtration: 59\n",
      "filtration size 19363\n",
      "Filtration: 60\n",
      "filtration size 19256\n",
      "Filtration: 61\n",
      "filtration size 19257\n",
      "Filtration: 62\n",
      "filtration size 19273\n",
      "Filtration: 63\n",
      "filtration size 19321\n",
      "Filtration: 64\n",
      "filtration size 19326\n",
      "Filtration: 65\n",
      "filtration size 19341\n",
      "Filtration: 66\n",
      "filtration size 19288\n",
      "Filtration: 67\n",
      "filtration size 19337\n",
      "Filtration: 68\n",
      "filtration size 19303\n",
      "Filtration: 69\n",
      "filtration size 19421\n",
      "Filtration: 70\n",
      "filtration size 19296\n",
      "Filtration: 71\n",
      "filtration size 19553\n",
      "Filtration: 72\n",
      "filtration size 19415\n",
      "Filtration: 73\n",
      "filtration size 19368\n",
      "Filtration: 74\n",
      "filtration size 19369\n",
      "Filtration: 75\n",
      "filtration size 19990\n",
      "Filtration: 76\n",
      "filtration size 19361\n",
      "Filtration: 77\n",
      "filtration size 19305\n",
      "Filtration: 78\n",
      "filtration size 19231\n",
      "Filtration: 79\n",
      "filtration size 19315\n",
      "Filtration: 80\n",
      "filtration size 19402\n",
      "Filtration: 81\n",
      "filtration size 19448\n",
      "Filtration: 82\n",
      "filtration size 19290\n",
      "Filtration: 83\n",
      "filtration size 19272\n",
      "Filtration: 84\n",
      "filtration size 19264\n",
      "Filtration: 85\n",
      "filtration size 19290\n",
      "Filtration: 86\n",
      "filtration size 19357\n",
      "Filtration: 87\n",
      "filtration size 19333\n",
      "Filtration: 88\n",
      "filtration size 19285\n",
      "Filtration: 89\n",
      "filtration size 19401\n",
      "Filtration: 90\n",
      "filtration size 19254\n",
      "Filtration: 91\n",
      "filtration size 19663\n",
      "Filtration: 92\n",
      "filtration size 19304\n",
      "Filtration: 93\n",
      "filtration size 19240\n",
      "Filtration: 94\n",
      "filtration size 19349\n",
      "Filtration: 95\n",
      "filtration size 19320\n",
      "Filtration: 96\n",
      "filtration size 19594\n",
      "Filtration: 97\n",
      "filtration size 19381\n",
      "Filtration: 98\n",
      "filtration size 19402\n",
      "Filtration: 99\n",
      "filtration size 19273\n"
     ]
    }
   ],
   "source": [
    "moved_df, moved_sample_graphs, moved_diagrams, moved_lifetimes, moved_ims = create_moved_subgraphs(model, ims, res_df['class'], dists, 100, 100, times=1)"
   ]
  },
  {
   "cell_type": "code",
   "execution_count": 10,
   "metadata": {},
   "outputs": [
    {
     "name": "stdout",
     "output_type": "stream",
     "text": [
      "Moved Accuracy: 0.89\n",
      "Actual Accuracy: 0.89\n",
      "Adversary Accuracy: 0.01\n"
     ]
    }
   ],
   "source": [
    "print('Moved Accuracy:', moved_df[moved_df['prediction'] == moved_df['class']].shape[0]/moved_df.shape[0])\n",
    "print('Actual Accuracy:', res_df[res_df['prediction'] == res_df['class']].shape[0]/res_df.shape[0])\n",
    "print('Adversary Accuracy:', adv_df[adv_df['prediction'] == adv_df['class']].shape[0]/adv_df.shape[0])"
   ]
  },
  {
   "cell_type": "code",
   "execution_count": 11,
   "metadata": {},
   "outputs": [
    {
     "data": {
      "text/html": [
       "<div>\n",
       "<style scoped>\n",
       "    .dataframe tbody tr th:only-of-type {\n",
       "        vertical-align: middle;\n",
       "    }\n",
       "\n",
       "    .dataframe tbody tr th {\n",
       "        vertical-align: top;\n",
       "    }\n",
       "\n",
       "    .dataframe thead th {\n",
       "        text-align: right;\n",
       "    }\n",
       "</style>\n",
       "<table border=\"1\" class=\"dataframe\">\n",
       "  <thead>\n",
       "    <tr style=\"text-align: right;\">\n",
       "      <th></th>\n",
       "      <th>class</th>\n",
       "      <th>loss</th>\n",
       "      <th>prediction</th>\n",
       "    </tr>\n",
       "  </thead>\n",
       "  <tbody>\n",
       "    <tr>\n",
       "      <th>0</th>\n",
       "      <td>9</td>\n",
       "      <td>0.619969</td>\n",
       "      <td>9</td>\n",
       "    </tr>\n",
       "    <tr>\n",
       "      <th>1</th>\n",
       "      <td>2</td>\n",
       "      <td>0.619969</td>\n",
       "      <td>2</td>\n",
       "    </tr>\n",
       "    <tr>\n",
       "      <th>2</th>\n",
       "      <td>1</td>\n",
       "      <td>0.619969</td>\n",
       "      <td>1</td>\n",
       "    </tr>\n",
       "    <tr>\n",
       "      <th>3</th>\n",
       "      <td>1</td>\n",
       "      <td>0.619969</td>\n",
       "      <td>1</td>\n",
       "    </tr>\n",
       "    <tr>\n",
       "      <th>4</th>\n",
       "      <td>6</td>\n",
       "      <td>0.619969</td>\n",
       "      <td>6</td>\n",
       "    </tr>\n",
       "  </tbody>\n",
       "</table>\n",
       "</div>"
      ],
      "text/plain": [
       "   class      loss  prediction\n",
       "0      9  0.619969           9\n",
       "1      2  0.619969           2\n",
       "2      1  0.619969           1\n",
       "3      1  0.619969           1\n",
       "4      6  0.619969           6"
      ]
     },
     "execution_count": 11,
     "metadata": {},
     "output_type": "execute_result"
    }
   ],
   "source": [
    "res_df.head()"
   ]
  },
  {
   "cell_type": "code",
   "execution_count": 12,
   "metadata": {},
   "outputs": [],
   "source": [
    "goi = 1"
   ]
  },
  {
   "cell_type": "code",
   "execution_count": 13,
   "metadata": {},
   "outputs": [
    {
     "data": {
      "text/plain": [
       "<matplotlib.image.AxesImage at 0x7fb7965e75c0>"
      ]
     },
     "execution_count": 13,
     "metadata": {},
     "output_type": "execute_result"
    },
    {
     "data": {
      "image/png": "[encoded data removed]",
      "text/plain": [
       "<Figure size 432x288 with 3 Axes>"
      ]
     },
     "metadata": {
      "needs_background": "light"
     },
     "output_type": "display_data"
    }
   ],
   "source": [
    "plt.subplot(131).imshow(ims[goi].reshape(28,28), cmap='gray')\n",
    "plt.subplot(132).imshow(adv_ims[goi].reshape(28,28), cmap='gray')\n",
    "plt.subplot(133).imshow(moved_ims[goi].reshape(28,28), cmap='gray')"
   ]
  },
  {
   "cell_type": "code",
   "execution_count": 14,
   "metadata": {},
   "outputs": [
    {
     "data": {
      "image/png": "[encoded data removed]",
      "text/plain": [
       "<Figure size 432x288 with 1 Axes>"
      ]
     },
     "metadata": {
      "needs_background": "light"
     },
     "output_type": "display_data"
    }
   ],
   "source": [
    "dion.plot.plot_diagram(diagrams[goi])"
   ]
  },
  {
   "cell_type": "code",
   "execution_count": 15,
   "metadata": {},
   "outputs": [
    {
     "data": {
      "image/png": "[encoded data removed]",
      "text/plain": [
       "<Figure size 432x288 with 1 Axes>"
      ]
     },
     "metadata": {
      "needs_background": "light"
     },
     "output_type": "display_data"
    }
   ],
   "source": [
    "dion.plot.plot_diagram(adv_diagrams[goi])"
   ]
  },
  {
   "cell_type": "code",
   "execution_count": 16,
   "metadata": {},
   "outputs": [
    {
     "data": {
      "image/png": "[encoded data removed]",
      "text/plain": [
       "<Figure size 432x288 with 1 Axes>"
      ]
     },
     "metadata": {
      "needs_background": "light"
     },
     "output_type": "display_data"
    }
   ],
   "source": [
    "dion.plot.plot_diagram(moved_diagrams[goi])"
   ]
  },
  {
   "cell_type": "code",
   "execution_count": 17,
   "metadata": {
    "scrolled": true
   },
   "outputs": [
    {
     "data": {
      "text/plain": [
       "{(1, 1, 237): 7.951789379119873,\n",
       " (1, 1, 213): 6.699612379074097,\n",
       " (1, 1, 261): 6.851537346839905,\n",
       " (3, 0, 116): 2.3113157749176025,\n",
       " (2, 0, 1441): 1.3291183710098267,\n",
       " (2, 0, 1439): 0.2079230546951294,\n",
       " (2, 0, 945): 0.5047173500061035,\n",
       " (2, 0, 813): 0.44762611389160156,\n",
       " (2, 0, 1436): 0.18436527252197266,\n",
       " (2, 0, 525): 0.15867698192596436,\n",
       " (3, 0, 17): 0.512494683265686,\n",
       " (2, 0, 967): 0.07671701908111572,\n",
       " (2, 0, 569): 0.1854320764541626,\n",
       " (2, 0, 681): 0.26220452785491943,\n",
       " (2, 0, 1437): 0.3313271999359131,\n",
       " (3, 0, 6): 0.06358134746551514,\n",
       " (2, 0, 591): 0.07556486129760742,\n",
       " (2, 0, 1444): 0.21992480754852295,\n",
       " (2, 0, 614): 0.03514134883880615,\n",
       " (2, 0, 768): 0.0015050172805786133,\n",
       " (2, 0, 524): 0.1331721544265747,\n",
       " (2, 0, 1435): 0.10544705390930176,\n",
       " (3, 0, 9): 0.024476051330566406,\n",
       " (2, 0, 622): 0.0827329158782959,\n",
       " (3, 0, 222): 0.03460574150085449,\n",
       " (2, 0, 1419): 0.014494776725769043,\n",
       " (2, 0, 570): 0.04008150100708008,\n",
       " (2, 0, 1422): 0.04180002212524414,\n",
       " (2, 0, 666): 0.04431205987930298}"
      ]
     },
     "execution_count": 17,
     "metadata": {},
     "output_type": "execute_result"
    }
   ],
   "source": [
    "lifetimes[goi]"
   ]
  },
  {
   "cell_type": "code",
   "execution_count": 18,
   "metadata": {},
   "outputs": [
    {
     "data": {
      "text/plain": [
       "{(1, 1, 237): 8.165331840515137,\n",
       " (1, 1, 261): 6.911661505699158,\n",
       " (1, 1, 213): 6.659841537475586,\n",
       " (1, 1, 285): 6.6520702838897705,\n",
       " (1, 1, 189): 6.167603492736816,\n",
       " (2, 0, 1441): 1.0318514108657837,\n",
       " (3, 0, 116): 0.7786935567855835,\n",
       " (2, 0, 1439): 0.18115663528442383,\n",
       " (2, 0, 1436): 0.18396353721618652,\n",
       " (3, 0, 8): 0.3965543508529663,\n",
       " (2, 0, 945): 0.39640235900878906,\n",
       " (2, 0, 569): 0.3442615270614624,\n",
       " (2, 0, 591): 0.2554934024810791,\n",
       " (2, 0, 813): 0.3902003765106201,\n",
       " (2, 0, 681): 0.21536827087402344,\n",
       " (2, 0, 525): 0.1726611852645874,\n",
       " (3, 0, 77): 0.3092038631439209,\n",
       " (2, 0, 1435): 0.11175036430358887,\n",
       " (3, 0, 17): 0.27382469177246094,\n",
       " (2, 0, 1444): 0.22942566871643066,\n",
       " (2, 0, 967): 0.06715106964111328,\n",
       " (2, 0, 1437): 0.17897391319274902,\n",
       " (2, 0, 524): 0.14771664142608643,\n",
       " (3, 0, 120): 0.08357560634613037,\n",
       " (3, 0, 9): 0.1553560495376587,\n",
       " (3, 0, 228): 0.07329154014587402,\n",
       " (3, 0, 152): 0.19027554988861084,\n",
       " (2, 0, 1422): 0.04184579849243164,\n",
       " (2, 0, 1419): 0.013312458992004395,\n",
       " (2, 0, 622): 0.018794775009155273}"
      ]
     },
     "execution_count": 18,
     "metadata": {},
     "output_type": "execute_result"
    }
   ],
   "source": [
    "adv_lifetimes[goi]"
   ]
  },
  {
   "cell_type": "code",
   "execution_count": 19,
   "metadata": {},
   "outputs": [
    {
     "data": {
      "text/plain": [
       "{(3, 0, 116): 3.649376392364502,\n",
       " (2, 0, 1441): 1.4778269529342651,\n",
       " (2, 0, 1439): 0.21135354042053223,\n",
       " (2, 0, 945): 0.5253685712814331,\n",
       " (2, 0, 813): 0.4655318260192871,\n",
       " (2, 0, 1436): 0.18568873405456543,\n",
       " (2, 0, 525): 0.1582953929901123,\n",
       " (2, 0, 967): 0.07712662220001221,\n",
       " (3, 0, 17): 0.413210391998291,\n",
       " (2, 0, 681): 0.30983853340148926,\n",
       " (2, 0, 1437): 0.33936119079589844,\n",
       " (3, 0, 6): 0.06286919116973877,\n",
       " (2, 0, 1444): 0.22707784175872803,\n",
       " (2, 0, 569): 0.14095187187194824,\n",
       " (2, 0, 524): 0.10751068592071533,\n",
       " (2, 0, 768): 0.0517195463180542,\n",
       " (2, 0, 614): 0.014317512512207031,\n",
       " (2, 0, 1435): 0.10585033893585205,\n",
       " (2, 0, 592): 0.01794302463531494,\n",
       " (3, 0, 9): 0.06474518775939941,\n",
       " (2, 0, 622): 0.10957443714141846,\n",
       " (3, 0, 222): 0.05499696731567383,\n",
       " (2, 0, 1419): 0.014864087104797363,\n",
       " (2, 0, 570): 0.0400998592376709,\n",
       " (2, 0, 1422): 0.04290032386779785,\n",
       " (2, 0, 666): 0.07741057872772217}"
      ]
     },
     "execution_count": 19,
     "metadata": {},
     "output_type": "execute_result"
    }
   ],
   "source": [
    "moved_lifetimes[goi]"
   ]
  },
  {
   "cell_type": "code",
   "execution_count": 22,
   "metadata": {},
   "outputs": [],
   "source": [
    "sgk = (1,1,237)\n",
    "agk = (1,1,237)\n",
    "mgk = sgk"
   ]
  },
  {
   "cell_type": "code",
   "execution_count": 23,
   "metadata": {},
   "outputs": [
    {
     "name": "stderr",
     "output_type": "stream",
     "text": [
      "/home/tgebhart/.local/lib/python3.6/site-packages/networkx/drawing/nx_pylab.py:611: MatplotlibDeprecationWarning: isinstance(..., numbers.Number)\n",
      "  if cb.is_numlike(alpha):\n"
     ]
    },
    {
     "data": {
      "image/png": "[encoded data removed]",
      "text/plain": [
       "<Figure size 432x288 with 1 Axes>"
      ]
     },
     "metadata": {},
     "output_type": "display_data"
    }
   ],
   "source": [
    "options = {\n",
    "    'node_color': 'red',\n",
    "    'node_size': 2,\n",
    "    'width': 2,\n",
    "    'with_labels':True}\n",
    "nx.draw_spring(sample_graphs[goi][sgk], **options)"
   ]
  },
  {
   "cell_type": "code",
   "execution_count": 24,
   "metadata": {},
   "outputs": [
    {
     "data": {
      "image/png": "[encoded data removed]",
      "text/plain": [
       "<Figure size 432x288 with 1 Axes>"
      ]
     },
     "metadata": {},
     "output_type": "display_data"
    }
   ],
   "source": [
    "options = {\n",
    "    'node_color': 'red',\n",
    "    'node_size': 2,\n",
    "    'width': 2,\n",
    "    'with_labels':True}\n",
    "nx.draw_spring(adv_sample_graphs[goi][agk], **options)"
   ]
  },
  {
   "cell_type": "code",
   "execution_count": 26,
   "metadata": {},
   "outputs": [],
   "source": [
    "# options = {\n",
    "#     'node_color': 'red',\n",
    "#     'node_size': 2,\n",
    "#     'width': 2,\n",
    "#     'with_labels':True}\n",
    "# nx.draw_spring(moved_sample_graphs[goi][mgk], **options)"
   ]
  },
  {
   "cell_type": "code",
   "execution_count": null,
   "metadata": {
    "scrolled": true
   },
   "outputs": [],
   "source": []
  },
  {
   "cell_type": "code",
   "execution_count": null,
   "metadata": {
    "scrolled": true
   },
   "outputs": [],
   "source": []
  },
  {
   "cell_type": "code",
   "execution_count": 27,
   "metadata": {},
   "outputs": [],
   "source": [
    "def hamming_distance(g1, g2, ret_labels=False):\n",
    "    nodeset = set(list(g1.nodes) + list(g2.nodes))\n",
    "    g1_vec = np.zeros((len(nodeset)))\n",
    "    g2_vec = np.zeros((len(nodeset)))\n",
    "    nodesetlist = list(nodeset)\n",
    "    for i in range(len(nodesetlist)):\n",
    "        node = nodesetlist[i]\n",
    "        if node in g1.nodes:\n",
    "            g1_vec[i] = 1.0\n",
    "        if node in g2.nodes:\n",
    "            g2_vec[i] = 1.0\n",
    "    if ret_labels:\n",
    "        return hamming(g1_vec, g2_vec), nodesetlist\n",
    "    else:\n",
    "        return hamming(g1_vec, g2_vec)\n",
    "    \n",
    "def edge_hamming_distance(g1, g2, ret_labels=False):\n",
    "    edgeset = set(list(g1.edges) + list(g2.edges))\n",
    "    g1_vec = np.zeros((len(edgeset)))\n",
    "    g2_vec = np.zeros((len(edgeset)))\n",
    "    edgesetlist = list(edgeset)\n",
    "    for i in range(len(edgesetlist)):\n",
    "        edge = edgesetlist[i]\n",
    "        if edge in g1.edges:\n",
    "            g1_vec[i] = 1.0\n",
    "        if edge in g2.edges:\n",
    "            g2_vec[i] = 1.0\n",
    "    if ret_labels:\n",
    "        return hamming(g1_vec, g2_vec), edgesetlist\n",
    "    else:\n",
    "        return hamming(g1_vec, g2_vec)\n",
    "    \n",
    "def lifetime_weighted_edge_distance(subgraphs1,subgraphs2,lifetimes1,lifetimes2,ret_labels=False):\n",
    "    edges1 = {}\n",
    "    edges2 = {}\n",
    "    sg1keys = list(subgraphs1.keys())\n",
    "    sg2keys = list(subgraphs2.keys())\n",
    "    lifetimes1 = list(lifetimes1.values())\n",
    "    lifetimes2 = list(lifetimes2.values())\n",
    "    ml1 = max(lifetimes1)\n",
    "    ml2 = max(lifetimes2)\n",
    "    for i in range(len(sg1keys)):\n",
    "        g = subgraphs1[sg1keys[i]]\n",
    "        for e in g.edges:\n",
    "            edges1[e] = lifetimes1[i]/ml1\n",
    "    for i in range(len(sg2keys)):\n",
    "        g = subgraphs2[sg2keys[i]]\n",
    "        for e in g.edges:\n",
    "            edges2[e] = lifetimes2[i]/ml2\n",
    "    edgeset = set(list(edges1.keys()) + list(edges2.keys()))\n",
    "    g1_vec = np.zeros((len(edgeset)))\n",
    "    g2_vec = np.zeros((len(edgeset)))\n",
    "    edgesetlist = list(edgeset)\n",
    "    for i in range(len(edgesetlist)):\n",
    "        edge = edgesetlist[i]\n",
    "        if edge in edges1:\n",
    "            g1_vec[i] += edges1[edge]\n",
    "        if edge in edges2:\n",
    "            g2_vec[i] += edges2[edge]\n",
    "    if ret_labels:\n",
    "        return cosine(g1_vec, g2_vec), edgesetlist\n",
    "    else:\n",
    "        return cosine(g1_vec, g2_vec)\n",
    "    \n",
    "def full_weighted_edge_distance(subgraphs1, subgraphs2):\n",
    "    edges1 = {}\n",
    "    edges2 = {}\n",
    "    sg1keys = list(subgraphs1.keys())\n",
    "    sg2keys = list(subgraphs2.keys())\n",
    "    lifetimes1 = np.ones(len(subgraphs1))\n",
    "    lifetimes2 = np.ones(len(subgraphs2))\n",
    "    ml1 = max(lifetimes1)\n",
    "    ml2 = max(lifetimes2)\n",
    "    for i in range(len(sg1keys)):\n",
    "        g = subgraphs1[sg1keys[i]]\n",
    "        for e in g.edges:\n",
    "            edges1[e] = lifetimes1[i]/ml1\n",
    "    for i in range(len(sg2keys)):\n",
    "        g = subgraphs2[sg2keys[i]]\n",
    "        for e in g.edges:\n",
    "            edges2[e] = lifetimes2[i]/ml2\n",
    "    edgeset = set(list(edges1.keys()) + list(edges2.keys()))\n",
    "    g1_vec = np.zeros((len(edgeset)))\n",
    "    g2_vec = np.zeros((len(edgeset)))\n",
    "    edgesetlist = list(edgeset)\n",
    "    for i in range(len(edgesetlist)):\n",
    "        edge = edgesetlist[i]\n",
    "        if edge in edges1:\n",
    "            g1_vec[i] += edges1[edge]\n",
    "        if edge in edges2:\n",
    "            g2_vec[i] += edges2[edge]\n",
    "\n",
    "    \n",
    "    return cosine(g1_vec, g2_vec)\n",
    "    \n",
    "def weighted_edge_distance(g1, g2, ret_labels=False):\n",
    "    edgeset = set(list(g1.edges) + list(g2.edges))\n",
    "    g1_vec = np.zeros((len(edgeset)))\n",
    "    g2_vec = np.zeros((len(edgeset)))\n",
    "    edgesetlist = list(edgeset)\n",
    "    for i in range(len(edgesetlist)):\n",
    "        edge = edgesetlist[i]\n",
    "        if edge in g1.edges:\n",
    "            g1_vec[i] = g1[edge[0]][edge[1]]['weight']\n",
    "        if edge in g2.edges:\n",
    "            g2_vec[i] = g2[edge[0]][edge[1]]['weight']\n",
    "    if ret_labels:\n",
    "        return cosine(g1_vec, g2_vec), edgesetlist\n",
    "    else:\n",
    "        return cosine(g1_vec, g2_vec)\n",
    "    \n",
    "def total_edge_weights(graphs):\n",
    "    emap = {}\n",
    "    for g in graphs:\n",
    "        for e in g.edges:\n",
    "            if e in emap:\n",
    "                emap[e] += g[e[0]][e[1]]['weight']\n",
    "            else:\n",
    "                emap[e] = g[e[0]][e[1]]['weight']\n",
    "    return emap\n",
    "\n",
    "def count_nodes(graphs):\n",
    "    nmap = {}\n",
    "    for g in graphs:\n",
    "        for n in g.nodes:\n",
    "            if n in nmap:\n",
    "                nmap[n] += 1.0\n",
    "            else:\n",
    "                nm[2] = 1.0\n",
    "    return nmap"
   ]
  },
  {
   "cell_type": "code",
   "execution_count": 28,
   "metadata": {},
   "outputs": [
    {
     "data": {
      "text/html": [
       "<div>\n",
       "<style scoped>\n",
       "    .dataframe tbody tr th:only-of-type {\n",
       "        vertical-align: middle;\n",
       "    }\n",
       "\n",
       "    .dataframe tbody tr th {\n",
       "        vertical-align: top;\n",
       "    }\n",
       "\n",
       "    .dataframe thead th {\n",
       "        text-align: right;\n",
       "    }\n",
       "</style>\n",
       "<table border=\"1\" class=\"dataframe\">\n",
       "  <thead>\n",
       "    <tr style=\"text-align: right;\">\n",
       "      <th></th>\n",
       "      <th>class</th>\n",
       "      <th>loss</th>\n",
       "      <th>prediction</th>\n",
       "    </tr>\n",
       "  </thead>\n",
       "  <tbody>\n",
       "    <tr>\n",
       "      <th>85</th>\n",
       "      <td>0</td>\n",
       "      <td>0.282002</td>\n",
       "      <td>0</td>\n",
       "    </tr>\n",
       "    <tr>\n",
       "      <th>27</th>\n",
       "      <td>0</td>\n",
       "      <td>0.619969</td>\n",
       "      <td>0</td>\n",
       "    </tr>\n",
       "    <tr>\n",
       "      <th>19</th>\n",
       "      <td>0</td>\n",
       "      <td>0.619969</td>\n",
       "      <td>0</td>\n",
       "    </tr>\n",
       "    <tr>\n",
       "      <th>35</th>\n",
       "      <td>0</td>\n",
       "      <td>0.619969</td>\n",
       "      <td>0</td>\n",
       "    </tr>\n",
       "    <tr>\n",
       "      <th>88</th>\n",
       "      <td>0</td>\n",
       "      <td>0.282002</td>\n",
       "      <td>0</td>\n",
       "    </tr>\n",
       "  </tbody>\n",
       "</table>\n",
       "</div>"
      ],
      "text/plain": [
       "    class      loss  prediction\n",
       "85      0  0.282002           0\n",
       "27      0  0.619969           0\n",
       "19      0  0.619969           0\n",
       "35      0  0.619969           0\n",
       "88      0  0.282002           0"
      ]
     },
     "execution_count": 28,
     "metadata": {},
     "output_type": "execute_result"
    }
   ],
   "source": [
    "sorted_res_df = res_df.sort_values(by=['prediction'])\n",
    "sorted_res_df.head()"
   ]
  },
  {
   "cell_type": "code",
   "execution_count": 29,
   "metadata": {},
   "outputs": [],
   "source": [
    "# comb_sim_mat = np.zeros((len(combs),len(adv_combs)))\n",
    "# for i in range(len(combs)):\n",
    "#     g = combs[i]\n",
    "#     for j in range(len(adv_combs)):\n",
    "#         ag = adv_combs[j]\n",
    "#         comb_sim_mat[i,j] = 1 - weighted_edge_distance(g,ag)\n",
    "\n",
    "# comb_sim_mat = np.zeros((len(sample_graphs), len(adv_sample_graphs)))\n",
    "# for i in range(len(sample_graphs)):\n",
    "#     for j in range(len(adv_sample_graphs)):\n",
    "#         comb_sim_mat[i,j] = 1 - lifetime_weighted_edge_distance(sample_graphs[i],adv_sample_graphs[j],lifetimes[i],adv_lifetimes[j])\n",
    "\n",
    "adv_sim_mat = np.zeros((len(sample_graphs), len(adv_sample_graphs)))\n",
    "for i in range(len(sample_graphs)):\n",
    "    for j in range(len(adv_sample_graphs)):\n",
    "        adv_sim_mat[i,j] = 1 - lifetime_weighted_edge_distance(sample_graphs[i],adv_sample_graphs[j],lifetimes[i],adv_lifetimes[j])\n",
    "#         adv_sim_mat[i,j] = 1 - full_weighted_edge_distance(sample_graphs[i],adv_sample_graphs[j])\n",
    "        "
   ]
  },
  {
   "cell_type": "code",
   "execution_count": 30,
   "metadata": {},
   "outputs": [
    {
     "data": {
      "image/png": "[encoded data removed]",
      "text/plain": [
       "<Figure size 432x288 with 2 Axes>"
      ]
     },
     "metadata": {
      "needs_background": "light"
     },
     "output_type": "display_data"
    }
   ],
   "source": [
    "ax = sns.heatmap(adv_sim_mat, xticklabels=5, yticklabels=5)\n",
    "plt.yticks(rotation=0)\n",
    "plt.xticks(rotation=0)\n",
    "plt.tick_params(axis='y',labelsize=5)\n",
    "plt.tick_params(axis='x',labelsize=5)\n",
    "plt.ylabel('Unaltered Subgraphs')\n",
    "plt.xlabel('Adversarial Subgraphs')\n",
    "plt.savefig('/home/tgebhart/projects/pt_activation/logdir/vis/ccff_fashion/adv_comb_heatmap.png', format='png', dpi=500)"
   ]
  },
  {
   "cell_type": "code",
   "execution_count": 31,
   "metadata": {},
   "outputs": [],
   "source": [
    "moved_sim_mat = np.zeros((len(sample_graphs), len(moved_sample_graphs)))\n",
    "for i in range(len(sample_graphs)):\n",
    "    for j in range(len(moved_sample_graphs)):\n",
    "        moved_sim_mat[i,j] = 1 - lifetime_weighted_edge_distance(sample_graphs[i],moved_sample_graphs[j],lifetimes[i],moved_lifetimes[j])\n",
    "#         moved_sim_mat[i,j] = 1 - full_weighted_edge_distance(sample_graphs[i],moved_sample_graphs[j])\n",
    "        "
   ]
  },
  {
   "cell_type": "code",
   "execution_count": 32,
   "metadata": {},
   "outputs": [
    {
     "data": {
      "image/png": "[encoded data removed]",
      "text/plain": [
       "<Figure size 432x288 with 2 Axes>"
      ]
     },
     "metadata": {
      "needs_background": "light"
     },
     "output_type": "display_data"
    }
   ],
   "source": [
    "ax = sns.heatmap(moved_sim_mat, xticklabels=5, yticklabels=5)\n",
    "plt.yticks(rotation=0)\n",
    "plt.xticks(rotation=0)\n",
    "plt.tick_params(axis='y',labelsize=5)\n",
    "plt.tick_params(axis='x',labelsize=5)\n",
    "plt.ylabel('Unaltered Subgraphs')\n",
    "plt.xlabel('Adversarial Subgraphs')\n",
    "plt.savefig('/home/tgebhart/projects/pt_activation/logdir/vis/ccff_fashion/moved_comb_heatmap.png', format='png', dpi=500)"
   ]
  },
  {
   "cell_type": "code",
   "execution_count": null,
   "metadata": {},
   "outputs": [],
   "source": [
    "# moved_dists = np.array([get_adv_dist(ims[i], moved_ims[i]) for i in range(res_df.shape[0])])"
   ]
  },
  {
   "cell_type": "code",
   "execution_count": null,
   "metadata": {},
   "outputs": [],
   "source": []
  },
  {
   "cell_type": "code",
   "execution_count": 33,
   "metadata": {},
   "outputs": [
    {
     "data": {
      "text/plain": [
       "<matplotlib.legend.Legend at 0x7fb794ce7128>"
      ]
     },
     "execution_count": 33,
     "metadata": {},
     "output_type": "execute_result"
    },
    {
     "data": {
      "image/png": "[encoded data removed]",
      "text/plain": [
       "<Figure size 432x288 with 1 Axes>"
      ]
     },
     "metadata": {
      "needs_background": "light"
     },
     "output_type": "display_data"
    }
   ],
   "source": [
    "bins = 25\n",
    "plt.hist(np.diagonal(adv_sim_mat), bins, alpha=0.5, label='Adversaries', color='r')\n",
    "plt.hist(np.diagonal(moved_sim_mat), bins, alpha=0.5, label='Randomly Perturbed', color='b')\n",
    "plt.xlabel('Similarity to Unaltered Subgraph')\n",
    "plt.ylabel('Frequency')\n",
    "plt.legend()"
   ]
  },
  {
   "cell_type": "code",
   "execution_count": 44,
   "metadata": {},
   "outputs": [
    {
     "data": {
      "text/plain": [
       "(0.19265226217429948, 1.047832397824436)"
      ]
     },
     "execution_count": 44,
     "metadata": {},
     "output_type": "execute_result"
    },
    {
     "data": {
      "image/png": "[encoded data removed]",
      "text/plain": [
       "<Figure size 432x288 with 1 Axes>"
      ]
     },
     "metadata": {
      "needs_background": "light"
     },
     "output_type": "display_data"
    }
   ],
   "source": [
    "fig, ax = plt.subplots()\n",
    "differs = np.diagonal(adv_sim_mat) - np.diagonal(moved_sim_mat)\n",
    "colors = ['b' if differs[i] > 0 else 'r' for i in range(len(moved_num_edges))]\n",
    "ax.scatter(np.diagonal(adv_sim_mat), np.diagonal(moved_sim_mat), c=colors)\n",
    "lims = [\n",
    "    np.min([ax.get_xlim(), ax.get_ylim()]),  # min of both axes\n",
    "    np.max([ax.get_xlim(), ax.get_ylim()]),  # max of both axes\n",
    "]\n",
    "\n",
    "# now plot both limits against eachother\n",
    "ax.plot(lims, lims, 'k-', alpha=0.75, zorder=0)\n",
    "ax.set_aspect('equal')\n",
    "ax.set_xlim(lims)\n",
    "ax.set_ylim(lims)"
   ]
  },
  {
   "cell_type": "code",
   "execution_count": 46,
   "metadata": {},
   "outputs": [
    {
     "data": {
      "text/plain": [
       "0.79"
      ]
     },
     "execution_count": 46,
     "metadata": {},
     "output_type": "execute_result"
    }
   ],
   "source": [
    "differs[differs <= 0].shape[0]/len(num_edges)"
   ]
  },
  {
   "cell_type": "code",
   "execution_count": null,
   "metadata": {},
   "outputs": [],
   "source": [
    "# bins = 25\n",
    "# plt.hist(dists, bins, alpha=0.5, label='Adversaries', color='r')\n",
    "# plt.hist(moved_dists, bins, alpha=0.5, label='Random Pertubation', color='b')\n",
    "# plt.xlabel('Distance to Unaltered Image')\n",
    "# plt.ylabel('Frequency')\n",
    "# plt.legend()"
   ]
  },
  {
   "cell_type": "code",
   "execution_count": null,
   "metadata": {},
   "outputs": [],
   "source": []
  },
  {
   "cell_type": "code",
   "execution_count": 34,
   "metadata": {},
   "outputs": [],
   "source": [
    "def compute_num_generators(g):\n",
    "    return len(g)\n",
    "def compute_num_edges(g):\n",
    "    num_edges = 0\n",
    "    for sgk in g:\n",
    "        num_edges += len(g[sgk].edges())\n",
    "    return num_edges"
   ]
  },
  {
   "cell_type": "code",
   "execution_count": 35,
   "metadata": {},
   "outputs": [],
   "source": [
    "num_generators = [compute_num_generators(g) for g in sample_graphs]\n",
    "adv_num_generators = [compute_num_generators(g) for g in adv_sample_graphs]\n",
    "moved_num_generators = [compute_num_generators(g) for g in moved_sample_graphs]"
   ]
  },
  {
   "cell_type": "code",
   "execution_count": 36,
   "metadata": {},
   "outputs": [
    {
     "data": {
      "text/plain": [
       "<matplotlib.legend.Legend at 0x7fb794a35f98>"
      ]
     },
     "execution_count": 36,
     "metadata": {},
     "output_type": "execute_result"
    },
    {
     "data": {
      "image/png": "[encoded data removed]",
      "text/plain": [
       "<Figure size 432x288 with 1 Axes>"
      ]
     },
     "metadata": {
      "needs_background": "light"
     },
     "output_type": "display_data"
    }
   ],
   "source": [
    "bins = 25\n",
    "plt.hist(num_generators, bins, alpha=0.5, label='Unaltered', color='g')\n",
    "plt.hist(adv_num_generators, bins, alpha=0.5, label='Adversaries', color='r')\n",
    "plt.hist(moved_num_generators, bins, alpha=0.5, label='Random Pertubation', color='b')\n",
    "plt.xlabel('Number of Generators')\n",
    "plt.ylabel('Frequency')\n",
    "plt.legend()"
   ]
  },
  {
   "cell_type": "code",
   "execution_count": 37,
   "metadata": {},
   "outputs": [
    {
     "data": {
      "text/plain": [
       "(12.384823399558496, 47.6151766004415)"
      ]
     },
     "execution_count": 37,
     "metadata": {},
     "output_type": "execute_result"
    },
    {
     "data": {
      "image/png": "[encoded data removed]",
      "text/plain": [
       "<Figure size 432x288 with 1 Axes>"
      ]
     },
     "metadata": {
      "needs_background": "light"
     },
     "output_type": "display_data"
    }
   ],
   "source": [
    "fig, ax = plt.subplots()\n",
    "differs = np.array(adv_num_generators) - np.array(num_generators)\n",
    "colors = ['b' if differs[i] > 0 else 'r' for i in range(len(moved_num_generators))]\n",
    "ax.scatter(num_generators, adv_num_generators, c=colors)\n",
    "lims = [\n",
    "    np.min([ax.get_xlim(), ax.get_ylim()]),  # min of both axes\n",
    "    np.max([ax.get_xlim(), ax.get_ylim()]),  # max of both axes\n",
    "]\n",
    "\n",
    "# now plot both limits against eachother\n",
    "ax.plot(lims, lims, 'k-', alpha=0.75, zorder=0)\n",
    "ax.set_aspect('equal')\n",
    "ax.set_xlim(lims)\n",
    "ax.set_ylim(lims)"
   ]
  },
  {
   "cell_type": "code",
   "execution_count": 38,
   "metadata": {},
   "outputs": [],
   "source": [
    "num_edges = [compute_num_edges(g) for g in sample_graphs]\n",
    "adv_num_edges = [compute_num_edges(g) for g in adv_sample_graphs]\n",
    "moved_num_edges = [compute_num_edges(g) for g in moved_sample_graphs]"
   ]
  },
  {
   "cell_type": "code",
   "execution_count": 39,
   "metadata": {},
   "outputs": [
    {
     "data": {
      "text/plain": [
       "<matplotlib.legend.Legend at 0x7fb792e22f60>"
      ]
     },
     "execution_count": 39,
     "metadata": {},
     "output_type": "execute_result"
    },
    {
     "data": {
      "image/png": "[encoded data removed]",
      "text/plain": [
       "<Figure size 432x288 with 1 Axes>"
      ]
     },
     "metadata": {
      "needs_background": "light"
     },
     "output_type": "display_data"
    }
   ],
   "source": [
    "bins = 25\n",
    "plt.hist(num_edges, bins, alpha=0.5, label='Unaltered', color='g')\n",
    "plt.hist(adv_num_edges, bins, alpha=0.5, label='Adversaries', color='r')\n",
    "plt.hist(moved_num_edges, bins, alpha=0.5, label='Random Pertubation', color='b')\n",
    "plt.xlabel('Number of Edges')\n",
    "plt.ylabel('Frequency')\n",
    "plt.legend()"
   ]
  },
  {
   "cell_type": "code",
   "execution_count": 40,
   "metadata": {},
   "outputs": [
    {
     "data": {
      "text/plain": [
       "(396.9901433691756, 661.3651766004415)"
      ]
     },
     "execution_count": 40,
     "metadata": {},
     "output_type": "execute_result"
    },
    {
     "data": {
      "image/png": "[encoded data removed]",
      "text/plain": [
       "<Figure size 432x288 with 1 Axes>"
      ]
     },
     "metadata": {
      "needs_background": "light"
     },
     "output_type": "display_data"
    }
   ],
   "source": [
    "fig, ax = plt.subplots()\n",
    "differs = np.array(adv_num_edges) - np.array(num_edges)\n",
    "colors = ['b' if differs[i] > 0 else 'r' for i in range(len(moved_num_edges))]\n",
    "ax.scatter(num_edges, adv_num_edges, c=colors)\n",
    "lims = [\n",
    "    np.min([ax.get_xlim(), ax.get_ylim()]),  # min of both axes\n",
    "    np.max([ax.get_xlim(), ax.get_ylim()]),  # max of both axes\n",
    "]\n",
    "\n",
    "# now plot both limits against eachother\n",
    "ax.plot(lims, lims, 'k-', alpha=0.75, zorder=0)\n",
    "ax.set_aspect('equal')\n",
    "ax.set_xlim(lims)\n",
    "ax.set_ylim(lims)"
   ]
  },
  {
   "cell_type": "code",
   "execution_count": 41,
   "metadata": {},
   "outputs": [
    {
     "data": {
      "text/plain": [
       "0.78"
      ]
     },
     "execution_count": 41,
     "metadata": {},
     "output_type": "execute_result"
    }
   ],
   "source": [
    "differs[differs >= 0].shape[0]/len(num_edges)"
   ]
  },
  {
   "cell_type": "markdown",
   "metadata": {},
   "source": [
    "- Compute the set differences for each adversary and compare these set differences to each of the unaltered images like we did for the adv_sim_mat above. \n",
    "- Sort this similarity matrix by the _predicted_ class of the adversary. We would expect to see some sort of relationship emerge if these subgraphs were targeting class-specific information within the persistent subgraphs\n",
    "- Compute these differences based on the composed graphs like in `lifetime_weighted_edge_distance()`"
   ]
  },
  {
   "cell_type": "code",
   "execution_count": null,
   "metadata": {},
   "outputs": [],
   "source": [
    "def set_difference(subgraphs1, subgraphs2):\n",
    "    sg1keys = list(subgraphs1.keys())\n",
    "    sg2keys = list(subgraphs2.keys())\n",
    "    remove_edges = []\n",
    "    edges2 = []\n",
    "    for i in range(len(sg1keys)):\n",
    "        g = subgraphs1[sg1keys[i]]\n",
    "        remove_edges += list(g.edges)\n",
    "    for i in range(len(sg2keys)):\n",
    "        g = subgraphs2[sg2keys[i]]\n",
    "        edges2 += list(g.edges)\n",
    "    keep_edges = set(edges2).difference(set(remove_edges))\n",
    "    ret_graph = nx.compose_all([subgraphs2[k] for k in sg2keys])\n",
    "    rge = list(ret_graph.edges())\n",
    "    ret_graph.remove_edges_from(e for e in rge if e not in keep_edges)\n",
    "    return ret_graph"
   ]
  },
  {
   "cell_type": "code",
   "execution_count": null,
   "metadata": {},
   "outputs": [],
   "source": []
  },
  {
   "cell_type": "code",
   "execution_count": null,
   "metadata": {},
   "outputs": [],
   "source": [
    "sorted_res_df = res_df.sort_values(by=['prediction'])\n",
    "sorted_adv_df = adv_df.sort_values(by=['prediction'])"
   ]
  },
  {
   "cell_type": "code",
   "execution_count": null,
   "metadata": {},
   "outputs": [],
   "source": [
    "sorted_adv_df.head(40)"
   ]
  },
  {
   "cell_type": "code",
   "execution_count": null,
   "metadata": {},
   "outputs": [],
   "source": [
    "adv_differences = [set_difference(sample_graphs[i], adv_sample_graphs[i]) for i in range(len(sample_graphs))]\n",
    "\n",
    "combs = []\n",
    "for i in range(len(sample_graphs)):\n",
    "    combs.append(nx.compose_all([sample_graphs[i][k] for k in sample_graphs[i]]))"
   ]
  },
  {
   "cell_type": "code",
   "execution_count": null,
   "metadata": {},
   "outputs": [],
   "source": [
    "diff_sim_mat = np.zeros((len(combs),len(adv_differences)))\n",
    "for i in range(len(combs)):\n",
    "    g = combs[i]\n",
    "    for j in range(len(adv_differences)):\n",
    "        ag = adv_differences[j]\n",
    "        diff_sim_mat[i,j] = 1 - weighted_edge_distance(g,ag)"
   ]
  },
  {
   "cell_type": "code",
   "execution_count": null,
   "metadata": {},
   "outputs": [],
   "source": [
    "sorted_diff_sim_mat = np.empty(diff_sim_mat.shape)\n",
    "sidxs = list(sorted_adv_df.index)\n",
    "# aidxs = list(sorted_adv_df.index)\n",
    "aidxs = sidxs\n",
    "for i in range(len(sidxs)):\n",
    "    for j in range(len(aidxs)):\n",
    "        sorted_diff_sim_mat[i,j] = diff_sim_mat[sidxs[i],aidxs[j]]\n",
    "        \n",
    "sdsmdf = pd.DataFrame(sorted_diff_sim_mat, columns=sorted_adv_df['prediction'], index=sorted_res_df['prediction'])"
   ]
  },
  {
   "cell_type": "code",
   "execution_count": null,
   "metadata": {},
   "outputs": [],
   "source": [
    "ax = sns.heatmap(diff_sim_mat, xticklabels=5, yticklabels=5)\n",
    "plt.yticks(rotation=0)\n",
    "plt.xticks(rotation=0)\n",
    "plt.tick_params(axis='y',labelsize=5)\n",
    "plt.tick_params(axis='x',labelsize=5)\n",
    "plt.ylabel('Unaltered Subgraphs')\n",
    "plt.xlabel('Adversarial Subgraphs')\n",
    "plt.savefig('/home/tgebhart/projects/pt_activation/logdir/vis/ccff_fashion/adv_diff_heatmap.png', format='png', dpi=500)"
   ]
  },
  {
   "cell_type": "code",
   "execution_count": null,
   "metadata": {},
   "outputs": [],
   "source": []
  },
  {
   "cell_type": "code",
   "execution_count": null,
   "metadata": {},
   "outputs": [],
   "source": []
  },
  {
   "cell_type": "code",
   "execution_count": null,
   "metadata": {},
   "outputs": [],
   "source": []
  }
 ],
 "metadata": {
  "kernelspec": {
   "display_name": "Python 3",
   "language": "python",
   "name": "python3"
  },
  "language_info": {
   "codemirror_mode": {
    "name": "ipython",
    "version": 3
   },
   "file_extension": ".py",
   "mimetype": "text/x-python",
   "name": "python",
   "nbconvert_exporter": "python",
   "pygments_lexer": "ipython3",
   "version": "3.6.7"
  }
 },
 "nbformat": 4,
 "nbformat_minor": 2
}
